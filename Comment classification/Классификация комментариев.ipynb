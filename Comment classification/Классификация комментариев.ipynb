{
 "cells": [
  {
   "cell_type": "markdown",
   "metadata": {},
   "source": [
    "# Классификация комментариев"
   ]
  },
  {
   "cell_type": "markdown",
   "metadata": {},
   "source": [
    "Интернет-магазин «Викишоп» запускает новый сервис. Теперь пользователи могут редактировать и дополнять описания товаров, как в вики-сообществах. То есть клиенты предлагают свои правки и комментируют изменения других. Магазину нужен инструмент, который будет искать токсичные комментарии и отправлять их на модерацию. \n",
    "\n",
    "**Задача:** обучить модель классифицировать комментарии на позитивные и негативные.\n",
    "\n",
    "Постройть модель со значением метрики качества *F1* не меньше 0.75. "
   ]
  },
  {
   "cell_type": "markdown",
   "metadata": {
    "toc": true
   },
   "source": [
    "<h1>Содержание<span class=\"tocSkip\"></span></h1>\n",
    "<div class=\"toc\"><ul class=\"toc-item\"><li><span><a href=\"#Подготовка\" data-toc-modified-id=\"Подготовка-1\"><span class=\"toc-item-num\">1&nbsp;&nbsp;</span>Подготовка</a></span><ul class=\"toc-item\"><li><span><a href=\"#Загрузка\" data-toc-modified-id=\"Загрузка-1.1\"><span class=\"toc-item-num\">1.1&nbsp;&nbsp;</span>Загрузка</a></span></li><li><span><a href=\"#Очистка\" data-toc-modified-id=\"Очистка-1.2\"><span class=\"toc-item-num\">1.2&nbsp;&nbsp;</span>Очистка</a></span></li><li><span><a href=\"#Токенизация-и-лемматизация\" data-toc-modified-id=\"Токенизация-и-лемматизация-1.3\"><span class=\"toc-item-num\">1.3&nbsp;&nbsp;</span>Токенизация и лемматизация</a></span></li></ul></li><li><span><a href=\"#Обучение\" data-toc-modified-id=\"Обучение-2\"><span class=\"toc-item-num\">2&nbsp;&nbsp;</span>Обучение</a></span></li><li><span><a href=\"#Выводы\" data-toc-modified-id=\"Выводы-3\"><span class=\"toc-item-num\">3&nbsp;&nbsp;</span>Выводы</a></span></li><li><span><a href=\"#Чек-лист-проверки\" data-toc-modified-id=\"Чек-лист-проверки-4\"><span class=\"toc-item-num\">4&nbsp;&nbsp;</span>Чек-лист проверки</a></span></li></ul></div>"
   ]
  },
  {
   "cell_type": "markdown",
   "metadata": {},
   "source": [
    "## Подготовка"
   ]
  },
  {
   "cell_type": "markdown",
   "metadata": {},
   "source": [
    "### Загрузка"
   ]
  },
  {
   "cell_type": "code",
   "execution_count": 1,
   "metadata": {},
   "outputs": [
    {
     "name": "stderr",
     "output_type": "stream",
     "text": [
      "[nltk_data] Downloading package wordnet to /home/jovyan/nltk_data...\n",
      "[nltk_data]   Package wordnet is already up-to-date!\n",
      "[nltk_data] Downloading package punkt_tab to /home/jovyan/nltk_data...\n",
      "[nltk_data]   Unzipping tokenizers/punkt_tab.zip.\n",
      "[nltk_data] Downloading package averaged_perceptron_tagger to\n",
      "[nltk_data]     /home/jovyan/nltk_data...\n",
      "[nltk_data]   Unzipping taggers/averaged_perceptron_tagger.zip.\n"
     ]
    }
   ],
   "source": [
    "# загрузка библиотек\n",
    "import pandas as pd\n",
    "import seaborn as sns\n",
    "import matplotlib.pyplot as plt\n",
    "import numpy as np\n",
    "\n",
    "import re\n",
    "\n",
    "import nltk\n",
    "nltk.download('wordnet')\n",
    "nltk.download('punkt_tab')\n",
    "nltk.download('averaged_perceptron_tagger')\n",
    "from nltk.stem import WordNetLemmatizer\n",
    "from nltk.corpus import wordnet\n",
    "from nltk.tag import pos_tag\n",
    "from nltk.tokenize import word_tokenize\n",
    "\n",
    "from sklearn.pipeline import Pipeline\n",
    "from sklearn.feature_extraction.text import TfidfVectorizer\n",
    "\n",
    "from sklearn.model_selection import (train_test_split, \n",
    "                                     RandomizedSearchCV,\n",
    "                                     cross_val_score\n",
    "                                    )\n",
    "from sklearn.linear_model import LogisticRegression\n",
    "from lightgbm import LGBMClassifier\n",
    "from sklearn.ensemble import RandomForestClassifier\n",
    "from sklearn.svm import SVC\n",
    "from sklearn.metrics import f1_score\n",
    "\n",
    "import time\n",
    "\n",
    "RANDOM_STATE = 42\n",
    "\n",
    "# Установка опции для отображения максимальной ширины столбца\n",
    "pd.set_option('display.max_colwidth', None)"
   ]
  },
  {
   "cell_type": "code",
   "execution_count": 2,
   "metadata": {},
   "outputs": [],
   "source": [
    "# загрузка дф\n",
    "try:\n",
    "    toxic = pd.read_csv('toxic_comments.csv')\n",
    "except:\n",
    "    toxic = pd.read_csv('/datasets/toxic_comments.csv')"
   ]
  },
  {
   "cell_type": "code",
   "execution_count": 3,
   "metadata": {},
   "outputs": [],
   "source": [
    "# функция для просмотра общей информации о дф\n",
    "def info(data):\n",
    "    display(data.head())\n",
    "    data.info()\n",
    "    print(f'Количество дубликатов: {data.duplicated().sum()}')\n",
    "    print(f'Количество пропусков: {data.isna().sum()}')"
   ]
  },
  {
   "cell_type": "code",
   "execution_count": 4,
   "metadata": {},
   "outputs": [
    {
     "data": {
      "text/html": [
       "<div>\n",
       "<style scoped>\n",
       "    .dataframe tbody tr th:only-of-type {\n",
       "        vertical-align: middle;\n",
       "    }\n",
       "\n",
       "    .dataframe tbody tr th {\n",
       "        vertical-align: top;\n",
       "    }\n",
       "\n",
       "    .dataframe thead th {\n",
       "        text-align: right;\n",
       "    }\n",
       "</style>\n",
       "<table border=\"1\" class=\"dataframe\">\n",
       "  <thead>\n",
       "    <tr style=\"text-align: right;\">\n",
       "      <th></th>\n",
       "      <th>Unnamed: 0</th>\n",
       "      <th>text</th>\n",
       "      <th>toxic</th>\n",
       "    </tr>\n",
       "  </thead>\n",
       "  <tbody>\n",
       "    <tr>\n",
       "      <th>0</th>\n",
       "      <td>0</td>\n",
       "      <td>Explanation\\nWhy the edits made under my username Hardcore Metallica Fan were reverted? They weren't vandalisms, just closure on some GAs after I voted at New York Dolls FAC. And please don't remove the template from the talk page since I'm retired now.89.205.38.27</td>\n",
       "      <td>0</td>\n",
       "    </tr>\n",
       "    <tr>\n",
       "      <th>1</th>\n",
       "      <td>1</td>\n",
       "      <td>D'aww! He matches this background colour I'm seemingly stuck with. Thanks.  (talk) 21:51, January 11, 2016 (UTC)</td>\n",
       "      <td>0</td>\n",
       "    </tr>\n",
       "    <tr>\n",
       "      <th>2</th>\n",
       "      <td>2</td>\n",
       "      <td>Hey man, I'm really not trying to edit war. It's just that this guy is constantly removing relevant information and talking to me through edits instead of my talk page. He seems to care more about the formatting than the actual info.</td>\n",
       "      <td>0</td>\n",
       "    </tr>\n",
       "    <tr>\n",
       "      <th>3</th>\n",
       "      <td>3</td>\n",
       "      <td>\"\\nMore\\nI can't make any real suggestions on improvement - I wondered if the section statistics should be later on, or a subsection of \"\"types of accidents\"\"  -I think the references may need tidying so that they are all in the exact same format ie date format etc. I can do that later on, if no-one else does first - if you have any preferences for formatting style on references or want to do it yourself please let me know.\\n\\nThere appears to be a backlog on articles for review so I guess there may be a delay until a reviewer turns up. It's listed in the relevant form eg Wikipedia:Good_article_nominations#Transport  \"</td>\n",
       "      <td>0</td>\n",
       "    </tr>\n",
       "    <tr>\n",
       "      <th>4</th>\n",
       "      <td>4</td>\n",
       "      <td>You, sir, are my hero. Any chance you remember what page that's on?</td>\n",
       "      <td>0</td>\n",
       "    </tr>\n",
       "  </tbody>\n",
       "</table>\n",
       "</div>"
      ],
      "text/plain": [
       "   Unnamed: 0  \\\n",
       "0           0   \n",
       "1           1   \n",
       "2           2   \n",
       "3           3   \n",
       "4           4   \n",
       "\n",
       "                                                                                                                                                                                                                                                                                                                                                                                                                                                                                                                                                                                                                                                 text  \\\n",
       "0                                                                                                                                                                                                                                                                                                                                                                           Explanation\\nWhy the edits made under my username Hardcore Metallica Fan were reverted? They weren't vandalisms, just closure on some GAs after I voted at New York Dolls FAC. And please don't remove the template from the talk page since I'm retired now.89.205.38.27   \n",
       "1                                                                                                                                                                                                                                                                                                                                                                                                                                                                                                                                    D'aww! He matches this background colour I'm seemingly stuck with. Thanks.  (talk) 21:51, January 11, 2016 (UTC)   \n",
       "2                                                                                                                                                                                                                                                                                                                                                                                                           Hey man, I'm really not trying to edit war. It's just that this guy is constantly removing relevant information and talking to me through edits instead of my talk page. He seems to care more about the formatting than the actual info.   \n",
       "3  \"\\nMore\\nI can't make any real suggestions on improvement - I wondered if the section statistics should be later on, or a subsection of \"\"types of accidents\"\"  -I think the references may need tidying so that they are all in the exact same format ie date format etc. I can do that later on, if no-one else does first - if you have any preferences for formatting style on references or want to do it yourself please let me know.\\n\\nThere appears to be a backlog on articles for review so I guess there may be a delay until a reviewer turns up. It's listed in the relevant form eg Wikipedia:Good_article_nominations#Transport  \"   \n",
       "4                                                                                                                                                                                                                                                                                                                                                                                                                                                                                                                                                                                 You, sir, are my hero. Any chance you remember what page that's on?   \n",
       "\n",
       "   toxic  \n",
       "0      0  \n",
       "1      0  \n",
       "2      0  \n",
       "3      0  \n",
       "4      0  "
      ]
     },
     "metadata": {},
     "output_type": "display_data"
    },
    {
     "name": "stdout",
     "output_type": "stream",
     "text": [
      "<class 'pandas.core.frame.DataFrame'>\n",
      "RangeIndex: 159292 entries, 0 to 159291\n",
      "Data columns (total 3 columns):\n",
      " #   Column      Non-Null Count   Dtype \n",
      "---  ------      --------------   ----- \n",
      " 0   Unnamed: 0  159292 non-null  int64 \n",
      " 1   text        159292 non-null  object\n",
      " 2   toxic       159292 non-null  int64 \n",
      "dtypes: int64(2), object(1)\n",
      "memory usage: 3.6+ MB\n",
      "Количество дубликатов: 0\n",
      "Количество пропусков: Unnamed: 0    0\n",
      "text          0\n",
      "toxic         0\n",
      "dtype: int64\n"
     ]
    }
   ],
   "source": [
    "info(toxic)"
   ]
  },
  {
   "cell_type": "markdown",
   "metadata": {},
   "source": [
    "Всего 159292 уникальных комметариев пользователей, каждый из которых классифицирован на негативное и позитивное."
   ]
  },
  {
   "cell_type": "code",
   "execution_count": 5,
   "metadata": {},
   "outputs": [
    {
     "data": {
      "text/plain": [
       "<AxesSubplot:xlabel='toxic', ylabel='count'>"
      ]
     },
     "execution_count": 5,
     "metadata": {},
     "output_type": "execute_result"
    },
    {
     "data": {
      "image/png": "[encoded data removed]",
      "text/plain": [
       "<Figure size 432x288 with 1 Axes>"
      ]
     },
     "metadata": {
      "needs_background": "light"
     },
     "output_type": "display_data"
    }
   ],
   "source": [
    "sns.countplot(data=toxic, x='toxic')"
   ]
  },
  {
   "cell_type": "markdown",
   "metadata": {},
   "source": [
    "Присутствует дисбаланс классов."
   ]
  },
  {
   "cell_type": "code",
   "execution_count": 6,
   "metadata": {},
   "outputs": [
    {
     "data": {
      "text/plain": [
       "16186"
      ]
     },
     "execution_count": 6,
     "metadata": {},
     "output_type": "execute_result"
    }
   ],
   "source": [
    "toxic.query('toxic == 1')['toxic'].count()"
   ]
  },
  {
   "cell_type": "markdown",
   "metadata": {},
   "source": [
    "### Очистка"
   ]
  },
  {
   "cell_type": "code",
   "execution_count": 7,
   "metadata": {},
   "outputs": [],
   "source": [
    "# оставляем только символы Латинского алфавита\n",
    "# приврдим к нижнему регистру\n",
    "def clear_text(text):\n",
    "    return \" \".join(re.sub(r'[^a-zA-Z]', ' ', text.lower()).split())"
   ]
  },
  {
   "cell_type": "code",
   "execution_count": 8,
   "metadata": {},
   "outputs": [
    {
     "data": {
      "text/html": [
       "<div>\n",
       "<style scoped>\n",
       "    .dataframe tbody tr th:only-of-type {\n",
       "        vertical-align: middle;\n",
       "    }\n",
       "\n",
       "    .dataframe tbody tr th {\n",
       "        vertical-align: top;\n",
       "    }\n",
       "\n",
       "    .dataframe thead th {\n",
       "        text-align: right;\n",
       "    }\n",
       "</style>\n",
       "<table border=\"1\" class=\"dataframe\">\n",
       "  <thead>\n",
       "    <tr style=\"text-align: right;\">\n",
       "      <th></th>\n",
       "      <th>Unnamed: 0</th>\n",
       "      <th>text</th>\n",
       "      <th>toxic</th>\n",
       "      <th>clear_text</th>\n",
       "    </tr>\n",
       "  </thead>\n",
       "  <tbody>\n",
       "    <tr>\n",
       "      <th>0</th>\n",
       "      <td>0</td>\n",
       "      <td>Explanation\\nWhy the edits made under my username Hardcore Metallica Fan were reverted? They weren't vandalisms, just closure on some GAs after I voted at New York Dolls FAC. And please don't remove the template from the talk page since I'm retired now.89.205.38.27</td>\n",
       "      <td>0</td>\n",
       "      <td>explanation why the edits made under my username hardcore metallica fan were reverted they weren t vandalisms just closure on some gas after i voted at new york dolls fac and please don t remove the template from the talk page since i m retired now</td>\n",
       "    </tr>\n",
       "    <tr>\n",
       "      <th>1</th>\n",
       "      <td>1</td>\n",
       "      <td>D'aww! He matches this background colour I'm seemingly stuck with. Thanks.  (talk) 21:51, January 11, 2016 (UTC)</td>\n",
       "      <td>0</td>\n",
       "      <td>d aww he matches this background colour i m seemingly stuck with thanks talk january utc</td>\n",
       "    </tr>\n",
       "    <tr>\n",
       "      <th>2</th>\n",
       "      <td>2</td>\n",
       "      <td>Hey man, I'm really not trying to edit war. It's just that this guy is constantly removing relevant information and talking to me through edits instead of my talk page. He seems to care more about the formatting than the actual info.</td>\n",
       "      <td>0</td>\n",
       "      <td>hey man i m really not trying to edit war it s just that this guy is constantly removing relevant information and talking to me through edits instead of my talk page he seems to care more about the formatting than the actual info</td>\n",
       "    </tr>\n",
       "    <tr>\n",
       "      <th>3</th>\n",
       "      <td>3</td>\n",
       "      <td>\"\\nMore\\nI can't make any real suggestions on improvement - I wondered if the section statistics should be later on, or a subsection of \"\"types of accidents\"\"  -I think the references may need tidying so that they are all in the exact same format ie date format etc. I can do that later on, if no-one else does first - if you have any preferences for formatting style on references or want to do it yourself please let me know.\\n\\nThere appears to be a backlog on articles for review so I guess there may be a delay until a reviewer turns up. It's listed in the relevant form eg Wikipedia:Good_article_nominations#Transport  \"</td>\n",
       "      <td>0</td>\n",
       "      <td>more i can t make any real suggestions on improvement i wondered if the section statistics should be later on or a subsection of types of accidents i think the references may need tidying so that they are all in the exact same format ie date format etc i can do that later on if no one else does first if you have any preferences for formatting style on references or want to do it yourself please let me know there appears to be a backlog on articles for review so i guess there may be a delay until a reviewer turns up it s listed in the relevant form eg wikipedia good article nominations transport</td>\n",
       "    </tr>\n",
       "    <tr>\n",
       "      <th>4</th>\n",
       "      <td>4</td>\n",
       "      <td>You, sir, are my hero. Any chance you remember what page that's on?</td>\n",
       "      <td>0</td>\n",
       "      <td>you sir are my hero any chance you remember what page that s on</td>\n",
       "    </tr>\n",
       "  </tbody>\n",
       "</table>\n",
       "</div>"
      ],
      "text/plain": [
       "   Unnamed: 0  \\\n",
       "0           0   \n",
       "1           1   \n",
       "2           2   \n",
       "3           3   \n",
       "4           4   \n",
       "\n",
       "                                                                                                                                                                                                                                                                                                                                                                                                                                                                                                                                                                                                                                                 text  \\\n",
       "0                                                                                                                                                                                                                                                                                                                                                                           Explanation\\nWhy the edits made under my username Hardcore Metallica Fan were reverted? They weren't vandalisms, just closure on some GAs after I voted at New York Dolls FAC. And please don't remove the template from the talk page since I'm retired now.89.205.38.27   \n",
       "1                                                                                                                                                                                                                                                                                                                                                                                                                                                                                                                                    D'aww! He matches this background colour I'm seemingly stuck with. Thanks.  (talk) 21:51, January 11, 2016 (UTC)   \n",
       "2                                                                                                                                                                                                                                                                                                                                                                                                           Hey man, I'm really not trying to edit war. It's just that this guy is constantly removing relevant information and talking to me through edits instead of my talk page. He seems to care more about the formatting than the actual info.   \n",
       "3  \"\\nMore\\nI can't make any real suggestions on improvement - I wondered if the section statistics should be later on, or a subsection of \"\"types of accidents\"\"  -I think the references may need tidying so that they are all in the exact same format ie date format etc. I can do that later on, if no-one else does first - if you have any preferences for formatting style on references or want to do it yourself please let me know.\\n\\nThere appears to be a backlog on articles for review so I guess there may be a delay until a reviewer turns up. It's listed in the relevant form eg Wikipedia:Good_article_nominations#Transport  \"   \n",
       "4                                                                                                                                                                                                                                                                                                                                                                                                                                                                                                                                                                                 You, sir, are my hero. Any chance you remember what page that's on?   \n",
       "\n",
       "   toxic  \\\n",
       "0      0   \n",
       "1      0   \n",
       "2      0   \n",
       "3      0   \n",
       "4      0   \n",
       "\n",
       "                                                                                                                                                                                                                                                                                                                                                                                                                                                                                                                                                                                                                  clear_text  \n",
       "0                                                                                                                                                                                                                                                                                                                                                                   explanation why the edits made under my username hardcore metallica fan were reverted they weren t vandalisms just closure on some gas after i voted at new york dolls fac and please don t remove the template from the talk page since i m retired now  \n",
       "1                                                                                                                                                                                                                                                                                                                                                                                                                                                                                                                                   d aww he matches this background colour i m seemingly stuck with thanks talk january utc  \n",
       "2                                                                                                                                                                                                                                                                                                                                                                                      hey man i m really not trying to edit war it s just that this guy is constantly removing relevant information and talking to me through edits instead of my talk page he seems to care more about the formatting than the actual info  \n",
       "3  more i can t make any real suggestions on improvement i wondered if the section statistics should be later on or a subsection of types of accidents i think the references may need tidying so that they are all in the exact same format ie date format etc i can do that later on if no one else does first if you have any preferences for formatting style on references or want to do it yourself please let me know there appears to be a backlog on articles for review so i guess there may be a delay until a reviewer turns up it s listed in the relevant form eg wikipedia good article nominations transport  \n",
       "4                                                                                                                                                                                                                                                                                                                                                                                                                                                                                                                                                            you sir are my hero any chance you remember what page that s on  "
      ]
     },
     "execution_count": 8,
     "metadata": {},
     "output_type": "execute_result"
    }
   ],
   "source": [
    "toxic['clear_text'] = toxic['text'].apply(clear_text)\n",
    "toxic.head()"
   ]
  },
  {
   "cell_type": "markdown",
   "metadata": {},
   "source": [
    "### Токенизация и лемматизация"
   ]
  },
  {
   "cell_type": "code",
   "execution_count": 9,
   "metadata": {},
   "outputs": [],
   "source": [
    "def get_wordnet_pos(word):\n",
    "    tag = nltk.pos_tag([word])[0][1][0].upper()\n",
    "    tag_dict = {\"J\": wordnet.ADJ,\n",
    "                \"N\": wordnet.NOUN,\n",
    "                \"V\": wordnet.VERB,\n",
    "                \"R\": wordnet.ADV}\n",
    "    return tag_dict.get(tag, wordnet.NOUN)"
   ]
  },
  {
   "cell_type": "code",
   "execution_count": 12,
   "metadata": {},
   "outputs": [],
   "source": [
    "def lemmatize(text):\n",
    "    lemm = WordNetLemmatizer()\n",
    "    tokens = nltk.word_tokenize(text)\n",
    "    return \" \".join([lemm.lemmatize(token, get_wordnet_pos(token)) for token in tokens])\n",
    "\n",
    "toxic['lemm_text'] = toxic['clear_text'].apply(lemmatize)"
   ]
  },
  {
   "cell_type": "code",
   "execution_count": 13,
   "metadata": {},
   "outputs": [
    {
     "data": {
      "text/html": [
       "<div>\n",
       "<style scoped>\n",
       "    .dataframe tbody tr th:only-of-type {\n",
       "        vertical-align: middle;\n",
       "    }\n",
       "\n",
       "    .dataframe tbody tr th {\n",
       "        vertical-align: top;\n",
       "    }\n",
       "\n",
       "    .dataframe thead th {\n",
       "        text-align: right;\n",
       "    }\n",
       "</style>\n",
       "<table border=\"1\" class=\"dataframe\">\n",
       "  <thead>\n",
       "    <tr style=\"text-align: right;\">\n",
       "      <th></th>\n",
       "      <th>Unnamed: 0</th>\n",
       "      <th>text</th>\n",
       "      <th>toxic</th>\n",
       "      <th>clear_text</th>\n",
       "      <th>lemm_text</th>\n",
       "    </tr>\n",
       "  </thead>\n",
       "  <tbody>\n",
       "    <tr>\n",
       "      <th>0</th>\n",
       "      <td>0</td>\n",
       "      <td>Explanation\\nWhy the edits made under my username Hardcore Metallica Fan were reverted? They weren't vandalisms, just closure on some GAs after I voted at New York Dolls FAC. And please don't remove the template from the talk page since I'm retired now.89.205.38.27</td>\n",
       "      <td>0</td>\n",
       "      <td>explanation why the edits made under my username hardcore metallica fan were reverted they weren t vandalisms just closure on some gas after i voted at new york dolls fac and please don t remove the template from the talk page since i m retired now</td>\n",
       "      <td>explanation why the edits make under my username hardcore metallica fan be revert they weren t vandalism just closure on some gas after i vote at new york doll fac and please don t remove the template from the talk page since i m retire now</td>\n",
       "    </tr>\n",
       "    <tr>\n",
       "      <th>1</th>\n",
       "      <td>1</td>\n",
       "      <td>D'aww! He matches this background colour I'm seemingly stuck with. Thanks.  (talk) 21:51, January 11, 2016 (UTC)</td>\n",
       "      <td>0</td>\n",
       "      <td>d aww he matches this background colour i m seemingly stuck with thanks talk january utc</td>\n",
       "      <td>d aww he match this background colour i m seemingly stuck with thanks talk january utc</td>\n",
       "    </tr>\n",
       "    <tr>\n",
       "      <th>2</th>\n",
       "      <td>2</td>\n",
       "      <td>Hey man, I'm really not trying to edit war. It's just that this guy is constantly removing relevant information and talking to me through edits instead of my talk page. He seems to care more about the formatting than the actual info.</td>\n",
       "      <td>0</td>\n",
       "      <td>hey man i m really not trying to edit war it s just that this guy is constantly removing relevant information and talking to me through edits instead of my talk page he seems to care more about the formatting than the actual info</td>\n",
       "      <td>hey man i m really not try to edit war it s just that this guy be constantly remove relevant information and talk to me through edits instead of my talk page he seem to care more about the format than the actual info</td>\n",
       "    </tr>\n",
       "    <tr>\n",
       "      <th>3</th>\n",
       "      <td>3</td>\n",
       "      <td>\"\\nMore\\nI can't make any real suggestions on improvement - I wondered if the section statistics should be later on, or a subsection of \"\"types of accidents\"\"  -I think the references may need tidying so that they are all in the exact same format ie date format etc. I can do that later on, if no-one else does first - if you have any preferences for formatting style on references or want to do it yourself please let me know.\\n\\nThere appears to be a backlog on articles for review so I guess there may be a delay until a reviewer turns up. It's listed in the relevant form eg Wikipedia:Good_article_nominations#Transport  \"</td>\n",
       "      <td>0</td>\n",
       "      <td>more i can t make any real suggestions on improvement i wondered if the section statistics should be later on or a subsection of types of accidents i think the references may need tidying so that they are all in the exact same format ie date format etc i can do that later on if no one else does first if you have any preferences for formatting style on references or want to do it yourself please let me know there appears to be a backlog on articles for review so i guess there may be a delay until a reviewer turns up it s listed in the relevant form eg wikipedia good article nominations transport</td>\n",
       "      <td>more i can t make any real suggestion on improvement i wonder if the section statistic should be later on or a subsection of type of accident i think the reference may need tidy so that they be all in the exact same format ie date format etc i can do that later on if no one else do first if you have any preference for format style on reference or want to do it yourself please let me know there appear to be a backlog on article for review so i guess there may be a delay until a reviewer turn up it s list in the relevant form eg wikipedia good article nomination transport</td>\n",
       "    </tr>\n",
       "    <tr>\n",
       "      <th>4</th>\n",
       "      <td>4</td>\n",
       "      <td>You, sir, are my hero. Any chance you remember what page that's on?</td>\n",
       "      <td>0</td>\n",
       "      <td>you sir are my hero any chance you remember what page that s on</td>\n",
       "      <td>you sir be my hero any chance you remember what page that s on</td>\n",
       "    </tr>\n",
       "  </tbody>\n",
       "</table>\n",
       "</div>"
      ],
      "text/plain": [
       "   Unnamed: 0  \\\n",
       "0           0   \n",
       "1           1   \n",
       "2           2   \n",
       "3           3   \n",
       "4           4   \n",
       "\n",
       "                                                                                                                                                                                                                                                                                                                                                                                                                                                                                                                                                                                                                                                 text  \\\n",
       "0                                                                                                                                                                                                                                                                                                                                                                           Explanation\\nWhy the edits made under my username Hardcore Metallica Fan were reverted? They weren't vandalisms, just closure on some GAs after I voted at New York Dolls FAC. And please don't remove the template from the talk page since I'm retired now.89.205.38.27   \n",
       "1                                                                                                                                                                                                                                                                                                                                                                                                                                                                                                                                    D'aww! He matches this background colour I'm seemingly stuck with. Thanks.  (talk) 21:51, January 11, 2016 (UTC)   \n",
       "2                                                                                                                                                                                                                                                                                                                                                                                                           Hey man, I'm really not trying to edit war. It's just that this guy is constantly removing relevant information and talking to me through edits instead of my talk page. He seems to care more about the formatting than the actual info.   \n",
       "3  \"\\nMore\\nI can't make any real suggestions on improvement - I wondered if the section statistics should be later on, or a subsection of \"\"types of accidents\"\"  -I think the references may need tidying so that they are all in the exact same format ie date format etc. I can do that later on, if no-one else does first - if you have any preferences for formatting style on references or want to do it yourself please let me know.\\n\\nThere appears to be a backlog on articles for review so I guess there may be a delay until a reviewer turns up. It's listed in the relevant form eg Wikipedia:Good_article_nominations#Transport  \"   \n",
       "4                                                                                                                                                                                                                                                                                                                                                                                                                                                                                                                                                                                 You, sir, are my hero. Any chance you remember what page that's on?   \n",
       "\n",
       "   toxic  \\\n",
       "0      0   \n",
       "1      0   \n",
       "2      0   \n",
       "3      0   \n",
       "4      0   \n",
       "\n",
       "                                                                                                                                                                                                                                                                                                                                                                                                                                                                                                                                                                                                                  clear_text  \\\n",
       "0                                                                                                                                                                                                                                                                                                                                                                   explanation why the edits made under my username hardcore metallica fan were reverted they weren t vandalisms just closure on some gas after i voted at new york dolls fac and please don t remove the template from the talk page since i m retired now   \n",
       "1                                                                                                                                                                                                                                                                                                                                                                                                                                                                                                                                   d aww he matches this background colour i m seemingly stuck with thanks talk january utc   \n",
       "2                                                                                                                                                                                                                                                                                                                                                                                      hey man i m really not trying to edit war it s just that this guy is constantly removing relevant information and talking to me through edits instead of my talk page he seems to care more about the formatting than the actual info   \n",
       "3  more i can t make any real suggestions on improvement i wondered if the section statistics should be later on or a subsection of types of accidents i think the references may need tidying so that they are all in the exact same format ie date format etc i can do that later on if no one else does first if you have any preferences for formatting style on references or want to do it yourself please let me know there appears to be a backlog on articles for review so i guess there may be a delay until a reviewer turns up it s listed in the relevant form eg wikipedia good article nominations transport   \n",
       "4                                                                                                                                                                                                                                                                                                                                                                                                                                                                                                                                                            you sir are my hero any chance you remember what page that s on   \n",
       "\n",
       "                                                                                                                                                                                                                                                                                                                                                                                                                                                                                                                                                                                          lemm_text  \n",
       "0                                                                                                                                                                                                                                                                                                                                                  explanation why the edits make under my username hardcore metallica fan be revert they weren t vandalism just closure on some gas after i vote at new york doll fac and please don t remove the template from the talk page since i m retire now  \n",
       "1                                                                                                                                                                                                                                                                                                                                                                                                                                                                                                            d aww he match this background colour i m seemingly stuck with thanks talk january utc  \n",
       "2                                                                                                                                                                                                                                                                                                                                                                          hey man i m really not try to edit war it s just that this guy be constantly remove relevant information and talk to me through edits instead of my talk page he seem to care more about the format than the actual info  \n",
       "3  more i can t make any real suggestion on improvement i wonder if the section statistic should be later on or a subsection of type of accident i think the reference may need tidy so that they be all in the exact same format ie date format etc i can do that later on if no one else do first if you have any preference for format style on reference or want to do it yourself please let me know there appear to be a backlog on article for review so i guess there may be a delay until a reviewer turn up it s list in the relevant form eg wikipedia good article nomination transport  \n",
       "4                                                                                                                                                                                                                                                                                                                                                                                                                                                                                                                                    you sir be my hero any chance you remember what page that s on  "
      ]
     },
     "execution_count": 13,
     "metadata": {},
     "output_type": "execute_result"
    }
   ],
   "source": [
    "toxic.head()"
   ]
  },
  {
   "cell_type": "markdown",
   "metadata": {},
   "source": [
    "## Обучение"
   ]
  },
  {
   "cell_type": "code",
   "execution_count": 14,
   "metadata": {},
   "outputs": [
    {
     "data": {
      "text/plain": [
       "((119469,), (39823,), (119469,), (39823,))"
      ]
     },
     "execution_count": 14,
     "metadata": {},
     "output_type": "execute_result"
    }
   ],
   "source": [
    "# тренировочная и тестовая выборки\n",
    "X_train, X_test, y_train, y_test = train_test_split(\n",
    "    toxic['lemm_text'], \n",
    "    toxic['toxic'],\n",
    "    test_size=0.25,\n",
    "    random_state=RANDOM_STATE, \n",
    "    stratify=toxic['toxic']\n",
    ")\n",
    "\n",
    "# размеры выборок\n",
    "X_train.shape, X_test.shape, y_train.shape, y_test.shape"
   ]
  },
  {
   "cell_type": "code",
   "execution_count": 15,
   "metadata": {},
   "outputs": [],
   "source": [
    "pipe = Pipeline([\n",
    "    ('vectorizer', TfidfVectorizer(stop_words='english')),\n",
    "    ('models', LogisticRegression(random_state=RANDOM_STATE, class_weight='balanced'))\n",
    "])"
   ]
  },
  {
   "cell_type": "code",
   "execution_count": 34,
   "metadata": {},
   "outputs": [],
   "source": [
    "param = [\n",
    "    {\n",
    "        'models': [LogisticRegression(random_state=RANDOM_STATE, class_weight='balanced', solver='liblinear')],\n",
    "        'models__penalty': ['l1', 'l2'],\n",
    "        'models__C': np.array([1, 2])\n",
    "    },\n",
    "    {\n",
    "        'models': [RandomForestClassifier(random_state=RANDOM_STATE, class_weight='balanced')]\n",
    "    }\n",
    "]"
   ]
  },
  {
   "cell_type": "code",
   "execution_count": 35,
   "metadata": {},
   "outputs": [
    {
     "name": "stderr",
     "output_type": "stream",
     "text": [
      "/opt/conda/lib/python3.9/site-packages/sklearn/model_selection/_search.py:285: UserWarning: The total space of parameters 5 is smaller than n_iter=10. Running 5 iterations. For exhaustive searches, use GridSearchCV.\n",
      "  warnings.warn(\n"
     ]
    },
    {
     "name": "stdout",
     "output_type": "stream",
     "text": [
      "Лучшая модель и её параметры:\n",
      "\n",
      " Pipeline(steps=[('vectorizer', TfidfVectorizer(stop_words='english')),\n",
      "                ('models',\n",
      "                 LogisticRegression(C=2, class_weight='balanced', penalty='l1',\n",
      "                                    random_state=42, solver='liblinear'))])\n",
      "Метрика лучшей модели на кросс-валидации: 0.7524941648617264\n"
     ]
    }
   ],
   "source": [
    "# вывод лучшей модели, ее гиперпараметры и значение метрики\n",
    "rs = RandomizedSearchCV(\n",
    "    pipe,\n",
    "    param, \n",
    "    cv=3,\n",
    "    scoring='f1',\n",
    "    random_state=RANDOM_STATE,\n",
    "    n_jobs=-1\n",
    ")\n",
    "\n",
    "rs.fit(X_train, y_train)\n",
    "\n",
    "print('Лучшая модель и её параметры:\\n\\n', rs.best_estimator_)\n",
    "print ('Метрика лучшей модели на кросс-валидации:', rs.best_score_)"
   ]
  },
  {
   "cell_type": "code",
   "execution_count": 36,
   "metadata": {
    "scrolled": true
   },
   "outputs": [
    {
     "data": {
      "text/html": [
       "<div>\n",
       "<style scoped>\n",
       "    .dataframe tbody tr th:only-of-type {\n",
       "        vertical-align: middle;\n",
       "    }\n",
       "\n",
       "    .dataframe tbody tr th {\n",
       "        vertical-align: top;\n",
       "    }\n",
       "\n",
       "    .dataframe thead th {\n",
       "        text-align: right;\n",
       "    }\n",
       "</style>\n",
       "<table border=\"1\" class=\"dataframe\">\n",
       "  <thead>\n",
       "    <tr style=\"text-align: right;\">\n",
       "      <th></th>\n",
       "      <th>mean_fit_time</th>\n",
       "      <th>std_fit_time</th>\n",
       "      <th>mean_score_time</th>\n",
       "      <th>std_score_time</th>\n",
       "      <th>param_models__penalty</th>\n",
       "      <th>param_models__C</th>\n",
       "      <th>param_models</th>\n",
       "      <th>params</th>\n",
       "      <th>split0_test_score</th>\n",
       "      <th>split1_test_score</th>\n",
       "      <th>split2_test_score</th>\n",
       "      <th>mean_test_score</th>\n",
       "      <th>std_test_score</th>\n",
       "      <th>rank_test_score</th>\n",
       "    </tr>\n",
       "  </thead>\n",
       "  <tbody>\n",
       "    <tr>\n",
       "      <th>2</th>\n",
       "      <td>5.520107</td>\n",
       "      <td>2.429238</td>\n",
       "      <td>1.479355</td>\n",
       "      <td>0.017977</td>\n",
       "      <td>l1</td>\n",
       "      <td>2</td>\n",
       "      <td>LogisticRegression(C=2, class_weight='balanced', penalty='l1', random_state=42,\\n                   solver='liblinear')</td>\n",
       "      <td>{'models__penalty': 'l1', 'models__C': 2, 'models': LogisticRegression(C=2, class_weight='balanced', penalty='l1', random_state=42,\n",
       "                   solver='liblinear')}</td>\n",
       "      <td>0.755992</td>\n",
       "      <td>0.754519</td>\n",
       "      <td>0.746972</td>\n",
       "      <td>0.752494</td>\n",
       "      <td>0.003951</td>\n",
       "      <td>1</td>\n",
       "    </tr>\n",
       "    <tr>\n",
       "      <th>3</th>\n",
       "      <td>13.253654</td>\n",
       "      <td>0.423969</td>\n",
       "      <td>1.577440</td>\n",
       "      <td>0.010692</td>\n",
       "      <td>l2</td>\n",
       "      <td>2</td>\n",
       "      <td>LogisticRegression(C=2, class_weight='balanced', penalty='l1', random_state=42,\\n                   solver='liblinear')</td>\n",
       "      <td>{'models__penalty': 'l2', 'models__C': 2, 'models': LogisticRegression(C=2, class_weight='balanced', penalty='l1', random_state=42,\n",
       "                   solver='liblinear')}</td>\n",
       "      <td>0.755403</td>\n",
       "      <td>0.752283</td>\n",
       "      <td>0.745661</td>\n",
       "      <td>0.751116</td>\n",
       "      <td>0.004062</td>\n",
       "      <td>2</td>\n",
       "    </tr>\n",
       "    <tr>\n",
       "      <th>0</th>\n",
       "      <td>3.488355</td>\n",
       "      <td>0.005073</td>\n",
       "      <td>1.411895</td>\n",
       "      <td>0.008219</td>\n",
       "      <td>l1</td>\n",
       "      <td>1</td>\n",
       "      <td>LogisticRegression(C=2, class_weight='balanced', penalty='l1', random_state=42,\\n                   solver='liblinear')</td>\n",
       "      <td>{'models__penalty': 'l1', 'models__C': 1, 'models': LogisticRegression(C=2, class_weight='balanced', penalty='l1', random_state=42,\n",
       "                   solver='liblinear')}</td>\n",
       "      <td>0.745356</td>\n",
       "      <td>0.745437</td>\n",
       "      <td>0.739295</td>\n",
       "      <td>0.743363</td>\n",
       "      <td>0.002877</td>\n",
       "      <td>3</td>\n",
       "    </tr>\n",
       "    <tr>\n",
       "      <th>1</th>\n",
       "      <td>11.010849</td>\n",
       "      <td>0.212709</td>\n",
       "      <td>1.586031</td>\n",
       "      <td>0.052611</td>\n",
       "      <td>l2</td>\n",
       "      <td>1</td>\n",
       "      <td>LogisticRegression(C=2, class_weight='balanced', penalty='l1', random_state=42,\\n                   solver='liblinear')</td>\n",
       "      <td>{'models__penalty': 'l2', 'models__C': 1, 'models': LogisticRegression(C=2, class_weight='balanced', penalty='l1', random_state=42,\n",
       "                   solver='liblinear')}</td>\n",
       "      <td>0.746042</td>\n",
       "      <td>0.740854</td>\n",
       "      <td>0.739088</td>\n",
       "      <td>0.741994</td>\n",
       "      <td>0.002952</td>\n",
       "      <td>4</td>\n",
       "    </tr>\n",
       "    <tr>\n",
       "      <th>4</th>\n",
       "      <td>228.084542</td>\n",
       "      <td>5.287665</td>\n",
       "      <td>5.183600</td>\n",
       "      <td>0.060928</td>\n",
       "      <td>NaN</td>\n",
       "      <td>NaN</td>\n",
       "      <td>RandomForestClassifier(class_weight='balanced', random_state=42)</td>\n",
       "      <td>{'models': RandomForestClassifier(class_weight='balanced', random_state=42)}</td>\n",
       "      <td>0.644722</td>\n",
       "      <td>0.651768</td>\n",
       "      <td>0.639047</td>\n",
       "      <td>0.645179</td>\n",
       "      <td>0.005203</td>\n",
       "      <td>5</td>\n",
       "    </tr>\n",
       "  </tbody>\n",
       "</table>\n",
       "</div>"
      ],
      "text/plain": [
       "   mean_fit_time  std_fit_time  mean_score_time  std_score_time  \\\n",
       "2       5.520107      2.429238         1.479355        0.017977   \n",
       "3      13.253654      0.423969         1.577440        0.010692   \n",
       "0       3.488355      0.005073         1.411895        0.008219   \n",
       "1      11.010849      0.212709         1.586031        0.052611   \n",
       "4     228.084542      5.287665         5.183600        0.060928   \n",
       "\n",
       "  param_models__penalty param_models__C  \\\n",
       "2                    l1               2   \n",
       "3                    l2               2   \n",
       "0                    l1               1   \n",
       "1                    l2               1   \n",
       "4                   NaN             NaN   \n",
       "\n",
       "                                                                                                              param_models  \\\n",
       "2  LogisticRegression(C=2, class_weight='balanced', penalty='l1', random_state=42,\\n                   solver='liblinear')   \n",
       "3  LogisticRegression(C=2, class_weight='balanced', penalty='l1', random_state=42,\\n                   solver='liblinear')   \n",
       "0  LogisticRegression(C=2, class_weight='balanced', penalty='l1', random_state=42,\\n                   solver='liblinear')   \n",
       "1  LogisticRegression(C=2, class_weight='balanced', penalty='l1', random_state=42,\\n                   solver='liblinear')   \n",
       "4                                                         RandomForestClassifier(class_weight='balanced', random_state=42)   \n",
       "\n",
       "                                                                                                                                                                        params  \\\n",
       "2  {'models__penalty': 'l1', 'models__C': 2, 'models': LogisticRegression(C=2, class_weight='balanced', penalty='l1', random_state=42,\n",
       "                   solver='liblinear')}   \n",
       "3  {'models__penalty': 'l2', 'models__C': 2, 'models': LogisticRegression(C=2, class_weight='balanced', penalty='l1', random_state=42,\n",
       "                   solver='liblinear')}   \n",
       "0  {'models__penalty': 'l1', 'models__C': 1, 'models': LogisticRegression(C=2, class_weight='balanced', penalty='l1', random_state=42,\n",
       "                   solver='liblinear')}   \n",
       "1  {'models__penalty': 'l2', 'models__C': 1, 'models': LogisticRegression(C=2, class_weight='balanced', penalty='l1', random_state=42,\n",
       "                   solver='liblinear')}   \n",
       "4                                                                                                 {'models': RandomForestClassifier(class_weight='balanced', random_state=42)}   \n",
       "\n",
       "   split0_test_score  split1_test_score  split2_test_score  mean_test_score  \\\n",
       "2           0.755992           0.754519           0.746972         0.752494   \n",
       "3           0.755403           0.752283           0.745661         0.751116   \n",
       "0           0.745356           0.745437           0.739295         0.743363   \n",
       "1           0.746042           0.740854           0.739088         0.741994   \n",
       "4           0.644722           0.651768           0.639047         0.645179   \n",
       "\n",
       "   std_test_score  rank_test_score  \n",
       "2        0.003951                1  \n",
       "3        0.004062                2  \n",
       "0        0.002877                3  \n",
       "1        0.002952                4  \n",
       "4        0.005203                5  "
      ]
     },
     "metadata": {},
     "output_type": "display_data"
    }
   ],
   "source": [
    "display(pd.DataFrame(rs.cv_results_).sort_values(by='rank_test_score'))"
   ]
  },
  {
   "cell_type": "code",
   "execution_count": 37,
   "metadata": {
    "scrolled": true
   },
   "outputs": [
    {
     "name": "stdout",
     "output_type": "stream",
     "text": [
      "Метрика F1 на тестовой выборке: 0.75\n"
     ]
    }
   ],
   "source": [
    "# метрика на тестовой выборке\n",
    "print(f'Метрика F1 на тестовой выборке: {round(f1_score(y_test, rs.predict(X_test)), 2)}')"
   ]
  },
  {
   "cell_type": "markdown",
   "metadata": {},
   "source": [
    "Лучшая модель по результатам RandomizedSearch - LogisticRegression c параметрами C=2, class_weight='balanced', penalty='l1', random_state=42,solver='liblinear'. На тестовой выборке значение метрики f1 = 0.75"
   ]
  },
  {
   "cell_type": "markdown",
   "metadata": {},
   "source": [
    "## Выводы"
   ]
  },
  {
   "cell_type": "markdown",
   "metadata": {},
   "source": [
    "- В представленном наборе данных 159292 уникальных комметариев пользователей, каждый из которых классифицирован на негативное и позитивное. Присутствует дисбаланс классов\n",
    "- Для дальнейшего обучения моделей для текстовых данных проведены следующие преобразования:\n",
    "  - очистка (оставлены только латинские буквы, приведенные к нижнему регистру), \n",
    "  - токенизация (разбиение текста на токены: отдельные фразы, слова, символы. В данном случае, токен - одно слово), \n",
    "  - лемматизация (слова приведены к начальной форме),\n",
    "  - векторизация (извлечения признаков из текстовых данных, путем вычисления важности каждого слова в документе относительно количества его употреблений в данном документе и во всей коллекции текстов, при этом позволяя выделить ключевые слова и понять, какие слова имеют больший вес для определенного документа в контексте всей коллекции)\n",
    "- Для обучения были выбраны модели: \n",
    "  - LogisticRegression(C=2, class_weight='balanced', penalty='l1', random_state=42, solver='liblinear'),\n",
    "  - LogisticRegression(C=2, class_weight='balanced', penalty='l2', random_state=42, solver='liblinear'),\n",
    "  - LogisticRegression(C=1, class_weight='balanced', penalty='l1', random_state=42, solver='liblinear'),\n",
    "  - LogisticRegression(C=1, class_weight='balanced', penalty='l2', random_state=42, solver='liblinear'),\n",
    "  - RandomForestClassifier(class_weight='balanced', random_state=42)\n",
    "- В каждой модели установлен параметр class_weight='balanced' для учета дисбаланса классов\n",
    "- По значениям метрики f1 была выбрана лучшая модель -  LogisticRegression c параметрами C=2, class_weight='balanced', penalty='l1', random_state=42, solver='liblinear'\n",
    "- На тестовой выборке значение метрики f1 = 0.75"
   ]
  }
 ],
 "metadata": {
  "ExecuteTimeLog": [
   {
    "duration": 1981,
    "start_time": "2024-10-23T15:50:14.081Z"
   },
   {
    "duration": 1207,
    "start_time": "2024-10-23T15:50:16.064Z"
   },
   {
    "duration": 3,
    "start_time": "2024-10-23T15:50:17.272Z"
   },
   {
    "duration": 316,
    "start_time": "2024-10-23T15:50:17.277Z"
   },
   {
    "duration": 100,
    "start_time": "2024-10-23T15:50:17.595Z"
   },
   {
    "duration": 2008,
    "start_time": "2024-10-23T19:05:31.720Z"
   },
   {
    "duration": 3733,
    "start_time": "2024-10-23T19:05:33.731Z"
   },
   {
    "duration": 3,
    "start_time": "2024-10-23T19:05:37.466Z"
   },
   {
    "duration": 288,
    "start_time": "2024-10-23T19:05:37.471Z"
   },
   {
    "duration": 135,
    "start_time": "2024-10-23T19:05:37.760Z"
   },
   {
    "duration": 129220,
    "start_time": "2024-10-23T19:05:37.897Z"
   },
   {
    "duration": 7,
    "start_time": "2024-10-23T19:07:47.119Z"
   },
   {
    "duration": 6,
    "start_time": "2024-10-23T19:13:54.892Z"
   },
   {
    "duration": 845,
    "start_time": "2024-10-23T19:14:11.097Z"
   },
   {
    "duration": 132299,
    "start_time": "2024-10-23T19:14:26.255Z"
   },
   {
    "duration": 9,
    "start_time": "2024-10-23T19:16:38.555Z"
   },
   {
    "duration": 78,
    "start_time": "2024-10-23T19:16:38.565Z"
   },
   {
    "duration": 8290,
    "start_time": "2024-10-23T19:16:38.645Z"
   },
   {
    "duration": 4,
    "start_time": "2024-10-23T19:19:39.598Z"
   },
   {
    "duration": 0,
    "start_time": "2024-10-23T19:27:19.242Z"
   },
   {
    "duration": 0,
    "start_time": "2024-10-23T19:27:19.244Z"
   },
   {
    "duration": 0,
    "start_time": "2024-10-23T19:27:19.246Z"
   },
   {
    "duration": 0,
    "start_time": "2024-10-23T19:27:19.247Z"
   },
   {
    "duration": 0,
    "start_time": "2024-10-23T19:27:19.248Z"
   },
   {
    "duration": 0,
    "start_time": "2024-10-23T19:27:19.250Z"
   },
   {
    "duration": 4,
    "start_time": "2024-10-23T19:27:47.313Z"
   },
   {
    "duration": 1782,
    "start_time": "2024-10-23T19:30:07.190Z"
   },
   {
    "duration": 971,
    "start_time": "2024-10-23T19:30:08.975Z"
   },
   {
    "duration": 3,
    "start_time": "2024-10-23T19:30:09.948Z"
   },
   {
    "duration": 307,
    "start_time": "2024-10-23T19:30:09.953Z"
   },
   {
    "duration": 133,
    "start_time": "2024-10-23T19:30:10.262Z"
   },
   {
    "duration": 117017,
    "start_time": "2024-10-23T19:30:10.396Z"
   },
   {
    "duration": 0,
    "start_time": "2024-10-23T19:32:07.415Z"
   },
   {
    "duration": 0,
    "start_time": "2024-10-23T19:32:07.416Z"
   },
   {
    "duration": 0,
    "start_time": "2024-10-23T19:32:07.417Z"
   },
   {
    "duration": 0,
    "start_time": "2024-10-23T19:32:07.418Z"
   },
   {
    "duration": 0,
    "start_time": "2024-10-23T19:32:07.419Z"
   },
   {
    "duration": 0,
    "start_time": "2024-10-23T19:32:07.420Z"
   },
   {
    "duration": 0,
    "start_time": "2024-10-23T19:32:07.421Z"
   },
   {
    "duration": 0,
    "start_time": "2024-10-23T19:32:07.422Z"
   },
   {
    "duration": 0,
    "start_time": "2024-10-23T19:32:07.423Z"
   },
   {
    "duration": 0,
    "start_time": "2024-10-23T19:32:07.424Z"
   },
   {
    "duration": 3,
    "start_time": "2024-10-23T19:34:14.530Z"
   },
   {
    "duration": 10,
    "start_time": "2024-10-23T19:34:15.254Z"
   },
   {
    "duration": 127390,
    "start_time": "2024-10-23T19:35:08.660Z"
   },
   {
    "duration": 8,
    "start_time": "2024-10-23T19:37:42.431Z"
   },
   {
    "duration": 66,
    "start_time": "2024-10-23T19:37:51.177Z"
   },
   {
    "duration": 8072,
    "start_time": "2024-10-23T19:37:52.079Z"
   },
   {
    "duration": 3,
    "start_time": "2024-10-23T19:38:00.153Z"
   },
   {
    "duration": 240353,
    "start_time": "2024-10-23T19:38:00.157Z"
   },
   {
    "duration": 0,
    "start_time": "2024-10-23T19:42:00.596Z"
   },
   {
    "duration": 0,
    "start_time": "2024-10-23T19:42:00.597Z"
   },
   {
    "duration": 0,
    "start_time": "2024-10-23T19:42:00.598Z"
   },
   {
    "duration": 0,
    "start_time": "2024-10-23T19:42:00.599Z"
   },
   {
    "duration": 0,
    "start_time": "2024-10-23T19:42:00.600Z"
   },
   {
    "duration": 4,
    "start_time": "2024-10-23T19:43:17.717Z"
   },
   {
    "duration": 62083,
    "start_time": "2024-10-23T19:45:49.116Z"
   },
   {
    "duration": 97,
    "start_time": "2024-10-23T19:46:51.202Z"
   },
   {
    "duration": 0,
    "start_time": "2024-10-23T19:46:51.300Z"
   },
   {
    "duration": 4,
    "start_time": "2024-10-23T19:50:27.112Z"
   },
   {
    "duration": 1706,
    "start_time": "2024-10-23T20:18:16.405Z"
   },
   {
    "duration": 860,
    "start_time": "2024-10-23T20:18:18.113Z"
   },
   {
    "duration": 3,
    "start_time": "2024-10-23T20:18:18.975Z"
   },
   {
    "duration": 288,
    "start_time": "2024-10-23T20:18:18.980Z"
   },
   {
    "duration": 124,
    "start_time": "2024-10-23T20:18:19.271Z"
   },
   {
    "duration": 9150,
    "start_time": "2024-10-23T20:18:19.397Z"
   },
   {
    "duration": 0,
    "start_time": "2024-10-23T20:18:28.549Z"
   },
   {
    "duration": 0,
    "start_time": "2024-10-23T20:18:28.550Z"
   },
   {
    "duration": 0,
    "start_time": "2024-10-23T20:18:28.551Z"
   },
   {
    "duration": 0,
    "start_time": "2024-10-23T20:18:28.552Z"
   },
   {
    "duration": 0,
    "start_time": "2024-10-23T20:18:28.553Z"
   },
   {
    "duration": 0,
    "start_time": "2024-10-23T20:18:28.554Z"
   },
   {
    "duration": 0,
    "start_time": "2024-10-23T20:18:28.555Z"
   },
   {
    "duration": 0,
    "start_time": "2024-10-23T20:18:28.556Z"
   },
   {
    "duration": 0,
    "start_time": "2024-10-23T20:18:28.556Z"
   },
   {
    "duration": 0,
    "start_time": "2024-10-23T20:18:28.557Z"
   },
   {
    "duration": 0,
    "start_time": "2024-10-23T20:18:28.558Z"
   },
   {
    "duration": 0,
    "start_time": "2024-10-23T20:18:28.559Z"
   },
   {
    "duration": 0,
    "start_time": "2024-10-23T20:18:28.560Z"
   },
   {
    "duration": 0,
    "start_time": "2024-10-23T20:18:28.561Z"
   },
   {
    "duration": 0,
    "start_time": "2024-10-23T20:18:28.562Z"
   },
   {
    "duration": 0,
    "start_time": "2024-10-23T20:18:28.563Z"
   },
   {
    "duration": 276,
    "start_time": "2024-10-23T20:26:26.335Z"
   },
   {
    "duration": 8,
    "start_time": "2024-10-23T20:27:41.815Z"
   },
   {
    "duration": 3,
    "start_time": "2024-10-23T20:27:59.927Z"
   },
   {
    "duration": 2024,
    "start_time": "2024-10-24T14:21:34.084Z"
   },
   {
    "duration": 3798,
    "start_time": "2024-10-24T14:21:36.110Z"
   },
   {
    "duration": 3,
    "start_time": "2024-10-24T14:21:39.910Z"
   },
   {
    "duration": 303,
    "start_time": "2024-10-24T14:21:39.915Z"
   },
   {
    "duration": 125,
    "start_time": "2024-10-24T14:21:40.220Z"
   },
   {
    "duration": 4,
    "start_time": "2024-10-24T14:21:40.347Z"
   },
   {
    "duration": 326,
    "start_time": "2024-10-24T14:21:40.352Z"
   },
   {
    "duration": 3,
    "start_time": "2024-10-24T14:23:09.717Z"
   },
   {
    "duration": 4424,
    "start_time": "2024-10-24T14:23:10.161Z"
   },
   {
    "duration": 4409,
    "start_time": "2024-10-24T14:23:20.092Z"
   },
   {
    "duration": 8843,
    "start_time": "2024-10-24T14:27:52.998Z"
   },
   {
    "duration": 81857,
    "start_time": "2024-10-24T14:28:14.283Z"
   },
   {
    "duration": 9,
    "start_time": "2024-10-24T14:29:43.473Z"
   },
   {
    "duration": 5,
    "start_time": "2024-10-24T14:30:02.620Z"
   },
   {
    "duration": 4,
    "start_time": "2024-10-24T14:30:15.154Z"
   },
   {
    "duration": 53,
    "start_time": "2024-10-24T14:31:34.120Z"
   },
   {
    "duration": 69,
    "start_time": "2024-10-24T14:31:39.464Z"
   },
   {
    "duration": 8474,
    "start_time": "2024-10-24T14:33:25.926Z"
   },
   {
    "duration": 46366,
    "start_time": "2024-10-24T14:34:06.722Z"
   },
   {
    "duration": 21,
    "start_time": "2024-10-24T14:35:37.204Z"
   },
   {
    "duration": 74,
    "start_time": "2024-10-24T14:35:39.140Z"
   },
   {
    "duration": 105531,
    "start_time": "2024-10-24T14:35:44.955Z"
   },
   {
    "duration": 3,
    "start_time": "2024-10-24T14:37:37.167Z"
   },
   {
    "duration": 400479,
    "start_time": "2024-10-24T14:37:37.609Z"
   },
   {
    "duration": 0,
    "start_time": "2024-10-24T14:44:18.091Z"
   },
   {
    "duration": 0,
    "start_time": "2024-10-24T14:44:18.092Z"
   },
   {
    "duration": 0,
    "start_time": "2024-10-24T14:44:18.093Z"
   },
   {
    "duration": 0,
    "start_time": "2024-10-24T14:44:18.095Z"
   },
   {
    "duration": 0,
    "start_time": "2024-10-24T14:44:18.096Z"
   },
   {
    "duration": 0,
    "start_time": "2024-10-24T14:44:18.098Z"
   },
   {
    "duration": 0,
    "start_time": "2024-10-24T14:44:18.099Z"
   },
   {
    "duration": 4,
    "start_time": "2024-10-24T14:44:33.157Z"
   },
   {
    "duration": 1732,
    "start_time": "2024-10-24T14:49:24.327Z"
   },
   {
    "duration": 982,
    "start_time": "2024-10-24T14:49:26.060Z"
   },
   {
    "duration": 4,
    "start_time": "2024-10-24T14:49:27.044Z"
   },
   {
    "duration": 301,
    "start_time": "2024-10-24T14:49:27.050Z"
   },
   {
    "duration": 138,
    "start_time": "2024-10-24T14:49:27.354Z"
   },
   {
    "duration": 4,
    "start_time": "2024-10-24T14:49:27.494Z"
   },
   {
    "duration": 4434,
    "start_time": "2024-10-24T14:49:27.499Z"
   },
   {
    "duration": 83706,
    "start_time": "2024-10-24T14:49:31.935Z"
   },
   {
    "duration": 8,
    "start_time": "2024-10-24T14:50:55.643Z"
   },
   {
    "duration": 4,
    "start_time": "2024-10-24T14:50:55.652Z"
   },
   {
    "duration": 19,
    "start_time": "2024-10-24T14:50:55.658Z"
   },
   {
    "duration": 77,
    "start_time": "2024-10-24T14:50:55.678Z"
   },
   {
    "duration": 7692,
    "start_time": "2024-10-24T14:50:55.756Z"
   },
   {
    "duration": 28270,
    "start_time": "2024-10-24T14:51:03.451Z"
   },
   {
    "duration": 0,
    "start_time": "2024-10-24T14:51:31.722Z"
   },
   {
    "duration": 0,
    "start_time": "2024-10-24T14:51:31.724Z"
   },
   {
    "duration": 0,
    "start_time": "2024-10-24T14:51:31.725Z"
   },
   {
    "duration": 0,
    "start_time": "2024-10-24T14:51:31.726Z"
   },
   {
    "duration": 0,
    "start_time": "2024-10-24T14:51:31.727Z"
   },
   {
    "duration": 0,
    "start_time": "2024-10-24T14:51:31.728Z"
   },
   {
    "duration": 0,
    "start_time": "2024-10-24T14:51:31.729Z"
   },
   {
    "duration": 0,
    "start_time": "2024-10-24T14:51:31.730Z"
   },
   {
    "duration": 0,
    "start_time": "2024-10-24T14:51:31.731Z"
   },
   {
    "duration": 0,
    "start_time": "2024-10-24T14:51:31.732Z"
   },
   {
    "duration": 0,
    "start_time": "2024-10-24T14:51:31.733Z"
   },
   {
    "duration": 0,
    "start_time": "2024-10-24T14:51:31.735Z"
   },
   {
    "duration": 10816,
    "start_time": "2024-10-24T14:51:38.393Z"
   },
   {
    "duration": 53185,
    "start_time": "2024-10-24T14:51:52.492Z"
   },
   {
    "duration": 111,
    "start_time": "2024-10-24T14:52:45.679Z"
   },
   {
    "duration": 110096,
    "start_time": "2024-10-24T14:52:45.791Z"
   },
   {
    "duration": 3,
    "start_time": "2024-10-24T14:55:14.831Z"
   },
   {
    "duration": 35,
    "start_time": "2024-10-24T14:55:15.342Z"
   },
   {
    "duration": 4,
    "start_time": "2024-10-24T14:57:04.488Z"
   },
   {
    "duration": 33,
    "start_time": "2024-10-24T14:57:39.018Z"
   },
   {
    "duration": 15,
    "start_time": "2024-10-24T14:58:35.780Z"
   },
   {
    "duration": 36,
    "start_time": "2024-10-24T14:58:50.591Z"
   },
   {
    "duration": 4,
    "start_time": "2024-10-24T14:59:15.684Z"
   },
   {
    "duration": 4,
    "start_time": "2024-10-24T14:59:16.174Z"
   },
   {
    "duration": 34,
    "start_time": "2024-10-24T14:59:17.276Z"
   },
   {
    "duration": 3,
    "start_time": "2024-10-24T14:59:45.001Z"
   },
   {
    "duration": 4,
    "start_time": "2024-10-24T14:59:45.893Z"
   },
   {
    "duration": 33,
    "start_time": "2024-10-24T14:59:46.473Z"
   },
   {
    "duration": 12,
    "start_time": "2024-10-24T15:00:17.362Z"
   },
   {
    "duration": 1767,
    "start_time": "2024-10-24T15:04:28.371Z"
   },
   {
    "duration": 946,
    "start_time": "2024-10-24T15:04:30.139Z"
   },
   {
    "duration": 4,
    "start_time": "2024-10-24T15:04:31.088Z"
   },
   {
    "duration": 316,
    "start_time": "2024-10-24T15:04:31.094Z"
   },
   {
    "duration": 125,
    "start_time": "2024-10-24T15:04:31.412Z"
   },
   {
    "duration": 2,
    "start_time": "2024-10-24T15:04:31.539Z"
   },
   {
    "duration": 4367,
    "start_time": "2024-10-24T15:04:31.543Z"
   },
   {
    "duration": 13970,
    "start_time": "2024-10-24T15:04:35.911Z"
   },
   {
    "duration": 0,
    "start_time": "2024-10-24T15:04:49.883Z"
   },
   {
    "duration": 0,
    "start_time": "2024-10-24T15:04:49.884Z"
   },
   {
    "duration": 0,
    "start_time": "2024-10-24T15:04:49.885Z"
   },
   {
    "duration": 1,
    "start_time": "2024-10-24T15:04:49.885Z"
   },
   {
    "duration": 0,
    "start_time": "2024-10-24T15:04:49.886Z"
   },
   {
    "duration": 0,
    "start_time": "2024-10-24T15:04:49.888Z"
   },
   {
    "duration": 0,
    "start_time": "2024-10-24T15:04:49.888Z"
   },
   {
    "duration": 0,
    "start_time": "2024-10-24T15:04:49.889Z"
   },
   {
    "duration": 0,
    "start_time": "2024-10-24T15:04:49.890Z"
   },
   {
    "duration": 0,
    "start_time": "2024-10-24T15:04:49.891Z"
   },
   {
    "duration": 0,
    "start_time": "2024-10-24T15:04:49.892Z"
   },
   {
    "duration": 0,
    "start_time": "2024-10-24T15:04:49.893Z"
   },
   {
    "duration": 0,
    "start_time": "2024-10-24T15:04:49.894Z"
   },
   {
    "duration": 0,
    "start_time": "2024-10-24T15:04:49.895Z"
   },
   {
    "duration": 0,
    "start_time": "2024-10-24T15:04:49.896Z"
   },
   {
    "duration": 0,
    "start_time": "2024-10-24T15:04:49.897Z"
   },
   {
    "duration": 0,
    "start_time": "2024-10-24T15:04:49.898Z"
   },
   {
    "duration": 0,
    "start_time": "2024-10-24T15:04:49.898Z"
   },
   {
    "duration": 82213,
    "start_time": "2024-10-24T15:04:51.641Z"
   },
   {
    "duration": 8,
    "start_time": "2024-10-24T15:06:13.856Z"
   },
   {
    "duration": 37,
    "start_time": "2024-10-24T15:06:13.865Z"
   },
   {
    "duration": 19,
    "start_time": "2024-10-24T15:06:13.904Z"
   },
   {
    "duration": 70,
    "start_time": "2024-10-24T15:06:13.924Z"
   },
   {
    "duration": 7624,
    "start_time": "2024-10-24T15:06:13.996Z"
   },
   {
    "duration": 52055,
    "start_time": "2024-10-24T15:06:21.622Z"
   },
   {
    "duration": 109,
    "start_time": "2024-10-24T15:07:13.680Z"
   },
   {
    "duration": 106205,
    "start_time": "2024-10-24T15:07:13.791Z"
   },
   {
    "duration": 1837,
    "start_time": "2024-10-24T15:17:53.879Z"
   },
   {
    "duration": 929,
    "start_time": "2024-10-24T15:17:55.717Z"
   },
   {
    "duration": 3,
    "start_time": "2024-10-24T15:17:56.648Z"
   },
   {
    "duration": 303,
    "start_time": "2024-10-24T15:17:56.653Z"
   },
   {
    "duration": 132,
    "start_time": "2024-10-24T15:17:56.957Z"
   },
   {
    "duration": 2,
    "start_time": "2024-10-24T15:17:57.091Z"
   },
   {
    "duration": 4594,
    "start_time": "2024-10-24T15:17:57.094Z"
   },
   {
    "duration": 11495,
    "start_time": "2024-10-24T15:18:01.689Z"
   },
   {
    "duration": 0,
    "start_time": "2024-10-24T15:18:13.186Z"
   },
   {
    "duration": 0,
    "start_time": "2024-10-24T15:18:13.187Z"
   },
   {
    "duration": 0,
    "start_time": "2024-10-24T15:18:13.188Z"
   },
   {
    "duration": 0,
    "start_time": "2024-10-24T15:18:13.189Z"
   },
   {
    "duration": 0,
    "start_time": "2024-10-24T15:18:13.190Z"
   },
   {
    "duration": 0,
    "start_time": "2024-10-24T15:18:13.191Z"
   },
   {
    "duration": 0,
    "start_time": "2024-10-24T15:18:13.193Z"
   },
   {
    "duration": 0,
    "start_time": "2024-10-24T15:18:13.194Z"
   },
   {
    "duration": 0,
    "start_time": "2024-10-24T15:18:13.195Z"
   },
   {
    "duration": 0,
    "start_time": "2024-10-24T15:18:13.196Z"
   },
   {
    "duration": 0,
    "start_time": "2024-10-24T15:18:13.197Z"
   },
   {
    "duration": 0,
    "start_time": "2024-10-24T15:18:13.198Z"
   },
   {
    "duration": 0,
    "start_time": "2024-10-24T15:18:13.199Z"
   },
   {
    "duration": 0,
    "start_time": "2024-10-24T15:18:13.200Z"
   },
   {
    "duration": 0,
    "start_time": "2024-10-24T15:18:13.201Z"
   },
   {
    "duration": 0,
    "start_time": "2024-10-24T15:18:13.201Z"
   },
   {
    "duration": 0,
    "start_time": "2024-10-24T15:18:13.202Z"
   },
   {
    "duration": 0,
    "start_time": "2024-10-24T15:18:13.204Z"
   },
   {
    "duration": 82373,
    "start_time": "2024-10-24T15:18:14.592Z"
   },
   {
    "duration": 15,
    "start_time": "2024-10-24T15:19:36.967Z"
   },
   {
    "duration": 30,
    "start_time": "2024-10-24T15:19:36.983Z"
   },
   {
    "duration": 9,
    "start_time": "2024-10-24T15:19:37.015Z"
   },
   {
    "duration": 73,
    "start_time": "2024-10-24T15:19:37.025Z"
   },
   {
    "duration": 7660,
    "start_time": "2024-10-24T15:19:37.099Z"
   },
   {
    "duration": 4,
    "start_time": "2024-10-24T15:21:17.305Z"
   },
   {
    "duration": 242116,
    "start_time": "2024-10-24T15:21:17.891Z"
   },
   {
    "duration": 0,
    "start_time": "2024-10-24T15:25:20.009Z"
   },
   {
    "duration": 5,
    "start_time": "2024-10-24T15:25:45.296Z"
   },
   {
    "duration": 51761,
    "start_time": "2024-10-24T15:26:54.018Z"
   },
   {
    "duration": 99,
    "start_time": "2024-10-24T15:27:45.782Z"
   },
   {
    "duration": 14,
    "start_time": "2024-10-24T15:27:45.883Z"
   },
   {
    "duration": 216657,
    "start_time": "2024-10-24T15:29:37.319Z"
   },
   {
    "duration": 0,
    "start_time": "2024-10-24T15:33:13.978Z"
   },
   {
    "duration": 0,
    "start_time": "2024-10-24T15:33:13.980Z"
   },
   {
    "duration": 0,
    "start_time": "2024-10-24T15:33:13.981Z"
   },
   {
    "duration": 0,
    "start_time": "2024-10-24T15:33:13.982Z"
   },
   {
    "duration": 0,
    "start_time": "2024-10-24T15:33:13.984Z"
   },
   {
    "duration": 0,
    "start_time": "2024-10-24T15:33:13.985Z"
   },
   {
    "duration": 1759,
    "start_time": "2024-10-24T15:36:20.161Z"
   },
   {
    "duration": 926,
    "start_time": "2024-10-24T15:36:21.922Z"
   },
   {
    "duration": 3,
    "start_time": "2024-10-24T15:36:22.849Z"
   },
   {
    "duration": 301,
    "start_time": "2024-10-24T15:36:22.854Z"
   },
   {
    "duration": 124,
    "start_time": "2024-10-24T15:36:23.158Z"
   },
   {
    "duration": 3,
    "start_time": "2024-10-24T15:36:23.283Z"
   },
   {
    "duration": 4265,
    "start_time": "2024-10-24T15:36:23.287Z"
   },
   {
    "duration": 85011,
    "start_time": "2024-10-24T15:36:27.554Z"
   },
   {
    "duration": 12,
    "start_time": "2024-10-24T15:37:52.567Z"
   },
   {
    "duration": 14,
    "start_time": "2024-10-24T15:37:52.581Z"
   },
   {
    "duration": 6,
    "start_time": "2024-10-24T15:37:52.597Z"
   },
   {
    "duration": 78,
    "start_time": "2024-10-24T15:37:52.604Z"
   },
   {
    "duration": 7526,
    "start_time": "2024-10-24T15:37:52.683Z"
   },
   {
    "duration": 51568,
    "start_time": "2024-10-24T15:38:00.212Z"
   },
   {
    "duration": 97,
    "start_time": "2024-10-24T15:38:51.783Z"
   },
   {
    "duration": 17,
    "start_time": "2024-10-24T15:38:51.881Z"
   },
   {
    "duration": 3,
    "start_time": "2024-10-24T15:38:51.900Z"
   },
   {
    "duration": 457502,
    "start_time": "2024-10-24T15:38:51.904Z"
   },
   {
    "duration": 0,
    "start_time": "2024-10-24T15:46:29.408Z"
   },
   {
    "duration": 0,
    "start_time": "2024-10-24T15:46:29.409Z"
   },
   {
    "duration": 1710,
    "start_time": "2024-10-24T15:49:38.315Z"
   },
   {
    "duration": 920,
    "start_time": "2024-10-24T15:49:40.027Z"
   },
   {
    "duration": 3,
    "start_time": "2024-10-24T15:49:40.949Z"
   },
   {
    "duration": 297,
    "start_time": "2024-10-24T15:49:40.953Z"
   },
   {
    "duration": 129,
    "start_time": "2024-10-24T15:49:41.252Z"
   },
   {
    "duration": 148,
    "start_time": "2024-10-24T15:49:41.382Z"
   },
   {
    "duration": 0,
    "start_time": "2024-10-24T15:49:41.533Z"
   },
   {
    "duration": 0,
    "start_time": "2024-10-24T15:49:41.535Z"
   },
   {
    "duration": 0,
    "start_time": "2024-10-24T15:49:41.536Z"
   },
   {
    "duration": 0,
    "start_time": "2024-10-24T15:49:41.538Z"
   },
   {
    "duration": 0,
    "start_time": "2024-10-24T15:49:41.539Z"
   },
   {
    "duration": 0,
    "start_time": "2024-10-24T15:49:41.541Z"
   },
   {
    "duration": 0,
    "start_time": "2024-10-24T15:49:41.542Z"
   },
   {
    "duration": 0,
    "start_time": "2024-10-24T15:49:41.543Z"
   },
   {
    "duration": 0,
    "start_time": "2024-10-24T15:49:41.545Z"
   },
   {
    "duration": 0,
    "start_time": "2024-10-24T15:49:41.546Z"
   },
   {
    "duration": 0,
    "start_time": "2024-10-24T15:49:41.547Z"
   },
   {
    "duration": 0,
    "start_time": "2024-10-24T15:49:41.576Z"
   },
   {
    "duration": 0,
    "start_time": "2024-10-24T15:49:41.578Z"
   },
   {
    "duration": 0,
    "start_time": "2024-10-24T15:49:41.579Z"
   },
   {
    "duration": 0,
    "start_time": "2024-10-24T15:49:41.581Z"
   },
   {
    "duration": 0,
    "start_time": "2024-10-24T15:49:41.582Z"
   },
   {
    "duration": 0,
    "start_time": "2024-10-24T15:49:41.583Z"
   },
   {
    "duration": 0,
    "start_time": "2024-10-24T15:49:41.585Z"
   },
   {
    "duration": 0,
    "start_time": "2024-10-24T15:49:41.586Z"
   },
   {
    "duration": 0,
    "start_time": "2024-10-24T15:49:41.588Z"
   },
   {
    "duration": 0,
    "start_time": "2024-10-24T15:49:41.589Z"
   },
   {
    "duration": 27,
    "start_time": "2024-10-24T15:49:50.001Z"
   },
   {
    "duration": 5,
    "start_time": "2024-10-24T15:49:50.969Z"
   },
   {
    "duration": 1438,
    "start_time": "2024-10-24T15:49:51.382Z"
   },
   {
    "duration": 26659,
    "start_time": "2024-10-24T15:49:54.288Z"
   },
   {
    "duration": 7,
    "start_time": "2024-10-24T15:50:20.949Z"
   },
   {
    "duration": 18,
    "start_time": "2024-10-24T15:50:20.957Z"
   },
   {
    "duration": 5,
    "start_time": "2024-10-24T15:50:20.976Z"
   },
   {
    "duration": 24,
    "start_time": "2024-10-24T15:50:50.337Z"
   },
   {
    "duration": 2409,
    "start_time": "2024-10-24T15:50:52.914Z"
   },
   {
    "duration": 17451,
    "start_time": "2024-10-24T15:50:55.325Z"
   },
   {
    "duration": 5,
    "start_time": "2024-10-24T15:51:12.779Z"
   },
   {
    "duration": 96,
    "start_time": "2024-10-24T15:51:12.786Z"
   },
   {
    "duration": 4,
    "start_time": "2024-10-24T15:52:16.310Z"
   },
   {
    "duration": 280375,
    "start_time": "2024-10-24T15:52:16.723Z"
   },
   {
    "duration": 0,
    "start_time": "2024-10-24T15:56:57.100Z"
   },
   {
    "duration": 0,
    "start_time": "2024-10-24T15:56:57.100Z"
   },
   {
    "duration": 0,
    "start_time": "2024-10-24T15:56:57.101Z"
   },
   {
    "duration": 0,
    "start_time": "2024-10-24T15:56:57.102Z"
   },
   {
    "duration": 0,
    "start_time": "2024-10-24T15:56:57.104Z"
   },
   {
    "duration": 0,
    "start_time": "2024-10-24T15:56:57.105Z"
   },
   {
    "duration": 0,
    "start_time": "2024-10-24T15:56:57.106Z"
   },
   {
    "duration": 24,
    "start_time": "2024-10-24T15:57:31.409Z"
   },
   {
    "duration": 1980,
    "start_time": "2024-10-24T15:58:04.948Z"
   },
   {
    "duration": 1026,
    "start_time": "2024-10-24T15:58:06.930Z"
   },
   {
    "duration": 3,
    "start_time": "2024-10-24T15:58:07.958Z"
   },
   {
    "duration": 378,
    "start_time": "2024-10-24T15:58:07.963Z"
   },
   {
    "duration": 172,
    "start_time": "2024-10-24T15:58:08.345Z"
   },
   {
    "duration": 0,
    "start_time": "2024-10-24T15:58:08.519Z"
   },
   {
    "duration": 0,
    "start_time": "2024-10-24T15:58:08.521Z"
   },
   {
    "duration": 0,
    "start_time": "2024-10-24T15:58:08.522Z"
   },
   {
    "duration": 0,
    "start_time": "2024-10-24T15:58:08.523Z"
   },
   {
    "duration": 0,
    "start_time": "2024-10-24T15:58:08.524Z"
   },
   {
    "duration": 0,
    "start_time": "2024-10-24T15:58:08.525Z"
   },
   {
    "duration": 0,
    "start_time": "2024-10-24T15:58:08.526Z"
   },
   {
    "duration": 0,
    "start_time": "2024-10-24T15:58:08.527Z"
   },
   {
    "duration": 0,
    "start_time": "2024-10-24T15:58:08.528Z"
   },
   {
    "duration": 0,
    "start_time": "2024-10-24T15:58:08.529Z"
   },
   {
    "duration": 0,
    "start_time": "2024-10-24T15:58:08.530Z"
   },
   {
    "duration": 0,
    "start_time": "2024-10-24T15:58:08.531Z"
   },
   {
    "duration": 0,
    "start_time": "2024-10-24T15:58:08.532Z"
   },
   {
    "duration": 0,
    "start_time": "2024-10-24T15:58:08.533Z"
   },
   {
    "duration": 0,
    "start_time": "2024-10-24T15:58:08.534Z"
   },
   {
    "duration": 0,
    "start_time": "2024-10-24T15:58:08.535Z"
   },
   {
    "duration": 0,
    "start_time": "2024-10-24T15:58:08.536Z"
   },
   {
    "duration": 0,
    "start_time": "2024-10-24T15:58:08.537Z"
   },
   {
    "duration": 0,
    "start_time": "2024-10-24T15:58:08.538Z"
   },
   {
    "duration": 0,
    "start_time": "2024-10-24T15:58:08.539Z"
   },
   {
    "duration": 0,
    "start_time": "2024-10-24T15:58:08.540Z"
   },
   {
    "duration": 0,
    "start_time": "2024-10-24T15:58:08.541Z"
   },
   {
    "duration": 0,
    "start_time": "2024-10-24T15:58:08.542Z"
   },
   {
    "duration": 162,
    "start_time": "2024-10-24T15:58:12.181Z"
   },
   {
    "duration": 15,
    "start_time": "2024-10-24T15:58:19.571Z"
   },
   {
    "duration": 15,
    "start_time": "2024-10-24T16:02:10.400Z"
   },
   {
    "duration": 7173,
    "start_time": "2024-10-24T16:02:35.591Z"
   },
   {
    "duration": 2575,
    "start_time": "2024-10-24T16:02:43.088Z"
   },
   {
    "duration": 29,
    "start_time": "2024-10-24T16:02:45.665Z"
   },
   {
    "duration": 18,
    "start_time": "2024-10-24T16:04:04.516Z"
   },
   {
    "duration": 4,
    "start_time": "2024-10-24T16:06:36.446Z"
   },
   {
    "duration": 927,
    "start_time": "2024-10-24T16:16:58.849Z"
   },
   {
    "duration": 3,
    "start_time": "2024-10-24T16:16:59.778Z"
   },
   {
    "duration": 301,
    "start_time": "2024-10-24T16:16:59.783Z"
   },
   {
    "duration": 124,
    "start_time": "2024-10-24T16:17:00.086Z"
   },
   {
    "duration": 9,
    "start_time": "2024-10-24T16:17:01.641Z"
   },
   {
    "duration": 47,
    "start_time": "2024-10-24T16:17:02.208Z"
   },
   {
    "duration": 43,
    "start_time": "2024-10-24T16:17:23.564Z"
   },
   {
    "duration": 58,
    "start_time": "2024-10-24T16:17:57.572Z"
   },
   {
    "duration": 29,
    "start_time": "2024-10-24T16:19:00.343Z"
   },
   {
    "duration": 1438,
    "start_time": "2024-10-24T16:19:20.923Z"
   },
   {
    "duration": 695,
    "start_time": "2024-10-24T16:20:39.586Z"
   },
   {
    "duration": 8,
    "start_time": "2024-10-24T16:20:49.534Z"
   },
   {
    "duration": 21,
    "start_time": "2024-10-24T16:21:00.495Z"
   },
   {
    "duration": 92,
    "start_time": "2024-10-24T16:21:05.124Z"
   },
   {
    "duration": 51,
    "start_time": "2024-10-24T16:21:12.874Z"
   },
   {
    "duration": 44,
    "start_time": "2024-10-24T16:21:22.088Z"
   },
   {
    "duration": 3,
    "start_time": "2024-10-24T16:21:50.238Z"
   },
   {
    "duration": 879,
    "start_time": "2024-10-24T16:21:50.641Z"
   },
   {
    "duration": 17495,
    "start_time": "2024-10-24T16:22:20.096Z"
   },
   {
    "duration": 9,
    "start_time": "2024-10-24T16:22:37.593Z"
   },
   {
    "duration": 768,
    "start_time": "2024-10-24T16:22:37.604Z"
   },
   {
    "duration": 0,
    "start_time": "2024-10-24T16:22:38.373Z"
   },
   {
    "duration": 0,
    "start_time": "2024-10-24T16:22:38.375Z"
   },
   {
    "duration": 19,
    "start_time": "2024-10-24T16:24:09.824Z"
   },
   {
    "duration": 1432,
    "start_time": "2024-10-24T16:24:12.338Z"
   },
   {
    "duration": 11542,
    "start_time": "2024-10-24T16:24:15.745Z"
   },
   {
    "duration": 86,
    "start_time": "2024-10-24T16:24:27.291Z"
   },
   {
    "duration": 20,
    "start_time": "2024-10-24T16:24:27.378Z"
   },
   {
    "duration": 29298,
    "start_time": "2024-10-24T16:24:27.400Z"
   },
   {
    "duration": 3,
    "start_time": "2024-10-24T16:25:52.880Z"
   },
   {
    "duration": 41454,
    "start_time": "2024-10-24T16:25:53.349Z"
   },
   {
    "duration": 0,
    "start_time": "2024-10-24T16:26:34.805Z"
   },
   {
    "duration": 0,
    "start_time": "2024-10-24T16:26:34.806Z"
   },
   {
    "duration": 0,
    "start_time": "2024-10-24T16:26:34.807Z"
   },
   {
    "duration": 0,
    "start_time": "2024-10-24T16:26:34.808Z"
   },
   {
    "duration": 0,
    "start_time": "2024-10-24T16:26:34.809Z"
   },
   {
    "duration": 0,
    "start_time": "2024-10-24T16:26:34.810Z"
   },
   {
    "duration": 0,
    "start_time": "2024-10-24T16:26:34.811Z"
   },
   {
    "duration": 8,
    "start_time": "2024-10-24T16:26:42.535Z"
   },
   {
    "duration": 66520,
    "start_time": "2024-10-24T16:27:45.786Z"
   },
   {
    "duration": 0,
    "start_time": "2024-10-24T16:28:52.307Z"
   },
   {
    "duration": 3,
    "start_time": "2024-10-24T16:30:51.195Z"
   },
   {
    "duration": 71679,
    "start_time": "2024-10-24T16:31:07.216Z"
   },
   {
    "duration": 1530,
    "start_time": "2024-10-24T16:36:23.411Z"
   },
   {
    "duration": 949,
    "start_time": "2024-10-24T16:36:24.943Z"
   },
   {
    "duration": 4,
    "start_time": "2024-10-24T16:36:25.894Z"
   },
   {
    "duration": 381,
    "start_time": "2024-10-24T16:36:25.899Z"
   },
   {
    "duration": 204,
    "start_time": "2024-10-24T16:36:26.282Z"
   },
   {
    "duration": 10,
    "start_time": "2024-10-24T16:36:26.487Z"
   },
   {
    "duration": 47,
    "start_time": "2024-10-24T16:36:26.499Z"
   },
   {
    "duration": 3,
    "start_time": "2024-10-24T16:36:26.547Z"
   },
   {
    "duration": 911,
    "start_time": "2024-10-24T16:36:26.552Z"
   },
   {
    "duration": 17611,
    "start_time": "2024-10-24T16:36:27.465Z"
   },
   {
    "duration": 8,
    "start_time": "2024-10-24T16:36:45.078Z"
   },
   {
    "duration": 39,
    "start_time": "2024-10-24T16:36:45.088Z"
   },
   {
    "duration": 1427,
    "start_time": "2024-10-24T16:36:45.129Z"
   },
   {
    "duration": 7416,
    "start_time": "2024-10-24T16:36:46.560Z"
   },
   {
    "duration": 7,
    "start_time": "2024-10-24T16:36:53.978Z"
   },
   {
    "duration": 100,
    "start_time": "2024-10-24T16:36:53.987Z"
   },
   {
    "duration": 125091,
    "start_time": "2024-10-24T16:36:54.089Z"
   },
   {
    "duration": 0,
    "start_time": "2024-10-24T16:38:59.182Z"
   },
   {
    "duration": 0,
    "start_time": "2024-10-24T16:38:59.183Z"
   },
   {
    "duration": 0,
    "start_time": "2024-10-24T16:38:59.184Z"
   },
   {
    "duration": 0,
    "start_time": "2024-10-24T16:38:59.185Z"
   },
   {
    "duration": 0,
    "start_time": "2024-10-24T16:38:59.186Z"
   },
   {
    "duration": 0,
    "start_time": "2024-10-24T16:38:59.187Z"
   },
   {
    "duration": 0,
    "start_time": "2024-10-24T16:38:59.188Z"
   },
   {
    "duration": 0,
    "start_time": "2024-10-24T16:38:59.189Z"
   },
   {
    "duration": 0,
    "start_time": "2024-10-24T16:38:59.190Z"
   },
   {
    "duration": 0,
    "start_time": "2024-10-24T16:38:59.191Z"
   },
   {
    "duration": 1515,
    "start_time": "2024-10-24T16:43:36.503Z"
   },
   {
    "duration": 956,
    "start_time": "2024-10-24T16:43:38.020Z"
   },
   {
    "duration": 4,
    "start_time": "2024-10-24T16:43:38.978Z"
   },
   {
    "duration": 306,
    "start_time": "2024-10-24T16:43:38.983Z"
   },
   {
    "duration": 202,
    "start_time": "2024-10-24T16:43:39.291Z"
   },
   {
    "duration": 13,
    "start_time": "2024-10-24T16:43:39.495Z"
   },
   {
    "duration": 67,
    "start_time": "2024-10-24T16:43:39.510Z"
   },
   {
    "duration": 3,
    "start_time": "2024-10-24T16:43:39.578Z"
   },
   {
    "duration": 835,
    "start_time": "2024-10-24T16:43:39.583Z"
   },
   {
    "duration": 17817,
    "start_time": "2024-10-24T16:43:40.419Z"
   },
   {
    "duration": 10,
    "start_time": "2024-10-24T16:43:58.237Z"
   },
   {
    "duration": 40,
    "start_time": "2024-10-24T16:43:58.249Z"
   },
   {
    "duration": 1523,
    "start_time": "2024-10-24T16:43:58.291Z"
   },
   {
    "duration": 7863,
    "start_time": "2024-10-24T16:43:59.817Z"
   },
   {
    "duration": 4,
    "start_time": "2024-10-24T16:44:07.682Z"
   },
   {
    "duration": 94,
    "start_time": "2024-10-24T16:44:07.688Z"
   },
   {
    "duration": 16246,
    "start_time": "2024-10-24T16:44:07.784Z"
   },
   {
    "duration": 8,
    "start_time": "2024-10-24T16:44:24.031Z"
   },
   {
    "duration": 13,
    "start_time": "2024-10-24T16:44:24.040Z"
   },
   {
    "duration": 3,
    "start_time": "2024-10-24T16:44:24.054Z"
   },
   {
    "duration": 149,
    "start_time": "2024-10-24T16:44:24.058Z"
   },
   {
    "duration": 0,
    "start_time": "2024-10-24T16:44:24.209Z"
   },
   {
    "duration": 0,
    "start_time": "2024-10-24T16:44:24.210Z"
   },
   {
    "duration": 0,
    "start_time": "2024-10-24T16:44:24.211Z"
   },
   {
    "duration": 70626,
    "start_time": "2024-10-24T16:44:42.945Z"
   },
   {
    "duration": 533,
    "start_time": "2024-10-24T16:45:56.656Z"
   },
   {
    "duration": 8,
    "start_time": "2024-10-24T16:45:59.367Z"
   },
   {
    "duration": 11,
    "start_time": "2024-10-24T16:46:48.776Z"
   },
   {
    "duration": 15257,
    "start_time": "2024-10-24T16:47:13.111Z"
   },
   {
    "duration": 10,
    "start_time": "2024-10-24T16:47:28.370Z"
   },
   {
    "duration": 13,
    "start_time": "2024-10-24T16:47:28.382Z"
   },
   {
    "duration": 10,
    "start_time": "2024-10-24T16:47:28.397Z"
   },
   {
    "duration": 8,
    "start_time": "2024-10-24T16:47:38.235Z"
   },
   {
    "duration": 11,
    "start_time": "2024-10-24T16:47:42.279Z"
   },
   {
    "duration": 1496,
    "start_time": "2024-10-24T16:48:25.674Z"
   },
   {
    "duration": 928,
    "start_time": "2024-10-24T16:48:27.172Z"
   },
   {
    "duration": 3,
    "start_time": "2024-10-24T16:48:28.102Z"
   },
   {
    "duration": 345,
    "start_time": "2024-10-24T16:48:28.107Z"
   },
   {
    "duration": 199,
    "start_time": "2024-10-24T16:48:28.453Z"
   },
   {
    "duration": 22,
    "start_time": "2024-10-24T16:48:28.654Z"
   },
   {
    "duration": 53,
    "start_time": "2024-10-24T16:48:28.677Z"
   },
   {
    "duration": 3,
    "start_time": "2024-10-24T16:48:28.732Z"
   },
   {
    "duration": 826,
    "start_time": "2024-10-24T16:48:28.736Z"
   },
   {
    "duration": 17522,
    "start_time": "2024-10-24T16:48:29.564Z"
   },
   {
    "duration": 9,
    "start_time": "2024-10-24T16:48:47.088Z"
   },
   {
    "duration": 21,
    "start_time": "2024-10-24T16:48:47.098Z"
   },
   {
    "duration": 1466,
    "start_time": "2024-10-24T16:48:47.121Z"
   },
   {
    "duration": 4798,
    "start_time": "2024-10-24T16:48:48.588Z"
   },
   {
    "duration": 89,
    "start_time": "2024-10-24T16:48:53.389Z"
   },
   {
    "duration": 102,
    "start_time": "2024-10-24T16:48:53.481Z"
   },
   {
    "duration": 15208,
    "start_time": "2024-10-24T16:48:53.584Z"
   },
   {
    "duration": 7,
    "start_time": "2024-10-24T16:49:08.794Z"
   },
   {
    "duration": 16,
    "start_time": "2024-10-24T16:49:08.802Z"
   },
   {
    "duration": 6,
    "start_time": "2024-10-24T16:49:08.820Z"
   },
   {
    "duration": 70048,
    "start_time": "2024-10-24T16:49:08.828Z"
   },
   {
    "duration": 528,
    "start_time": "2024-10-24T16:50:18.878Z"
   },
   {
    "duration": 7,
    "start_time": "2024-10-24T16:50:19.408Z"
   },
   {
    "duration": 11,
    "start_time": "2024-10-24T16:50:19.417Z"
   },
   {
    "duration": 112,
    "start_time": "2024-10-24T16:54:35.290Z"
   },
   {
    "duration": 60,
    "start_time": "2024-10-24T17:00:45.415Z"
   },
   {
    "duration": 1490,
    "start_time": "2024-10-24T17:16:13.594Z"
   },
   {
    "duration": 946,
    "start_time": "2024-10-24T17:16:15.085Z"
   },
   {
    "duration": 3,
    "start_time": "2024-10-24T17:16:16.032Z"
   },
   {
    "duration": 308,
    "start_time": "2024-10-24T17:16:16.037Z"
   },
   {
    "duration": 211,
    "start_time": "2024-10-24T17:16:16.347Z"
   },
   {
    "duration": 19,
    "start_time": "2024-10-24T17:16:16.559Z"
   },
   {
    "duration": 46,
    "start_time": "2024-10-24T17:16:16.580Z"
   },
   {
    "duration": 124,
    "start_time": "2024-10-24T17:16:16.628Z"
   },
   {
    "duration": 3,
    "start_time": "2024-10-24T17:16:16.754Z"
   },
   {
    "duration": 834,
    "start_time": "2024-10-24T17:16:16.759Z"
   },
   {
    "duration": 17582,
    "start_time": "2024-10-24T17:16:17.594Z"
   },
   {
    "duration": 9,
    "start_time": "2024-10-24T17:16:35.177Z"
   },
   {
    "duration": 28,
    "start_time": "2024-10-24T17:16:35.187Z"
   },
   {
    "duration": 1424,
    "start_time": "2024-10-24T17:16:35.216Z"
   },
   {
    "duration": 6035,
    "start_time": "2024-10-24T17:16:36.641Z"
   },
   {
    "duration": 4,
    "start_time": "2024-10-24T17:16:42.678Z"
   },
   {
    "duration": 11,
    "start_time": "2024-10-24T17:16:42.683Z"
   },
   {
    "duration": 13727,
    "start_time": "2024-10-24T17:16:42.695Z"
   },
   {
    "duration": 7,
    "start_time": "2024-10-24T17:16:56.423Z"
   },
   {
    "duration": 7,
    "start_time": "2024-10-24T17:16:56.431Z"
   },
   {
    "duration": 2,
    "start_time": "2024-10-24T17:16:56.440Z"
   },
   {
    "duration": 68873,
    "start_time": "2024-10-24T17:16:56.443Z"
   },
   {
    "duration": 512,
    "start_time": "2024-10-24T17:18:05.318Z"
   },
   {
    "duration": 7,
    "start_time": "2024-10-24T17:18:05.832Z"
   },
   {
    "duration": 14,
    "start_time": "2024-10-24T17:18:05.841Z"
   },
   {
    "duration": 1878,
    "start_time": "2024-10-26T11:37:18.747Z"
   },
   {
    "duration": 3871,
    "start_time": "2024-10-26T11:37:20.627Z"
   },
   {
    "duration": 3,
    "start_time": "2024-10-26T11:37:24.500Z"
   },
   {
    "duration": 297,
    "start_time": "2024-10-26T11:37:30.224Z"
   },
   {
    "duration": 4,
    "start_time": "2024-10-26T11:37:45.521Z"
   },
   {
    "duration": 258,
    "start_time": "2024-10-26T11:37:46.118Z"
   },
   {
    "duration": 4,
    "start_time": "2024-10-26T11:38:05.440Z"
   },
   {
    "duration": 265,
    "start_time": "2024-10-26T11:38:06.042Z"
   },
   {
    "duration": 4,
    "start_time": "2024-10-26T11:38:18.793Z"
   },
   {
    "duration": 3,
    "start_time": "2024-10-26T11:38:22.397Z"
   },
   {
    "duration": 264,
    "start_time": "2024-10-26T11:38:23.024Z"
   },
   {
    "duration": 4,
    "start_time": "2024-10-26T11:38:59.440Z"
   },
   {
    "duration": 966,
    "start_time": "2024-10-26T11:39:00.467Z"
   },
   {
    "duration": 3,
    "start_time": "2024-10-26T11:39:01.435Z"
   },
   {
    "duration": 285,
    "start_time": "2024-10-26T11:39:02.705Z"
   },
   {
    "duration": 223,
    "start_time": "2024-10-26T12:35:14.053Z"
   },
   {
    "duration": 25,
    "start_time": "2024-10-26T12:35:15.747Z"
   },
   {
    "duration": 140,
    "start_time": "2024-10-26T12:35:39.577Z"
   },
   {
    "duration": 989,
    "start_time": "2024-10-26T12:36:07.879Z"
   },
   {
    "duration": 3,
    "start_time": "2024-10-26T12:36:08.870Z"
   },
   {
    "duration": 295,
    "start_time": "2024-10-26T12:36:08.947Z"
   },
   {
    "duration": 122,
    "start_time": "2024-10-26T12:36:10.545Z"
   },
   {
    "duration": 10,
    "start_time": "2024-10-26T12:36:11.644Z"
   },
   {
    "duration": 3,
    "start_time": "2024-10-26T12:36:12.700Z"
   },
   {
    "duration": 4577,
    "start_time": "2024-10-26T12:36:14.583Z"
   },
   {
    "duration": 174,
    "start_time": "2024-10-26T12:38:40.384Z"
   },
   {
    "duration": 5,
    "start_time": "2024-10-26T12:42:43.584Z"
   },
   {
    "duration": 4,
    "start_time": "2024-10-26T12:43:45.602Z"
   },
   {
    "duration": 219,
    "start_time": "2024-10-26T12:43:46.233Z"
   },
   {
    "duration": 214,
    "start_time": "2024-10-26T12:44:53.294Z"
   },
   {
    "duration": 200,
    "start_time": "2024-10-26T12:46:14.453Z"
   },
   {
    "duration": 494,
    "start_time": "2024-10-26T12:46:36.611Z"
   },
   {
    "duration": 1649,
    "start_time": "2024-10-26T12:46:41.525Z"
   },
   {
    "duration": 22411,
    "start_time": "2024-10-26T12:47:32.899Z"
   },
   {
    "duration": 5,
    "start_time": "2024-10-26T12:48:00.978Z"
   },
   {
    "duration": 3,
    "start_time": "2024-10-26T12:48:06.915Z"
   },
   {
    "duration": 805153,
    "start_time": "2024-10-26T12:48:07.206Z"
   },
   {
    "duration": 0,
    "start_time": "2024-10-26T13:01:32.362Z"
   },
   {
    "duration": 1955,
    "start_time": "2024-10-26T13:03:41.110Z"
   },
   {
    "duration": 984,
    "start_time": "2024-10-26T13:03:43.069Z"
   },
   {
    "duration": 78,
    "start_time": "2024-10-26T13:03:44.055Z"
   },
   {
    "duration": 391,
    "start_time": "2024-10-26T13:03:44.135Z"
   },
   {
    "duration": 129,
    "start_time": "2024-10-26T13:03:44.527Z"
   },
   {
    "duration": 10,
    "start_time": "2024-10-26T13:03:44.658Z"
   },
   {
    "duration": 4,
    "start_time": "2024-10-26T13:03:44.670Z"
   },
   {
    "duration": 4562,
    "start_time": "2024-10-26T13:03:44.675Z"
   },
   {
    "duration": 14,
    "start_time": "2024-10-26T13:03:49.239Z"
   },
   {
    "duration": 587662,
    "start_time": "2024-10-26T13:03:49.256Z"
   },
   {
    "duration": 0,
    "start_time": "2024-10-26T13:13:36.920Z"
   },
   {
    "duration": 0,
    "start_time": "2024-10-26T13:13:36.921Z"
   },
   {
    "duration": 0,
    "start_time": "2024-10-26T13:13:36.922Z"
   },
   {
    "duration": 0,
    "start_time": "2024-10-26T13:13:36.924Z"
   },
   {
    "duration": 0,
    "start_time": "2024-10-26T13:13:36.925Z"
   },
   {
    "duration": 0,
    "start_time": "2024-10-26T13:13:36.926Z"
   },
   {
    "duration": 0,
    "start_time": "2024-10-26T13:13:36.927Z"
   },
   {
    "duration": 0,
    "start_time": "2024-10-26T13:13:36.929Z"
   },
   {
    "duration": 0,
    "start_time": "2024-10-26T13:13:36.930Z"
   },
   {
    "duration": 0,
    "start_time": "2024-10-26T13:13:36.931Z"
   },
   {
    "duration": 0,
    "start_time": "2024-10-26T13:13:36.932Z"
   },
   {
    "duration": 0,
    "start_time": "2024-10-26T13:13:36.933Z"
   },
   {
    "duration": 0,
    "start_time": "2024-10-26T13:13:36.934Z"
   },
   {
    "duration": 0,
    "start_time": "2024-10-26T13:13:36.935Z"
   },
   {
    "duration": 88638,
    "start_time": "2024-10-26T13:13:46.190Z"
   },
   {
    "duration": 22,
    "start_time": "2024-10-26T13:15:14.830Z"
   },
   {
    "duration": 88105,
    "start_time": "2024-10-26T13:16:03.331Z"
   },
   {
    "duration": 15,
    "start_time": "2024-10-26T13:17:31.438Z"
   },
   {
    "duration": 9290,
    "start_time": "2024-10-26T13:19:31.380Z"
   },
   {
    "duration": 2718,
    "start_time": "2024-10-26T13:19:40.673Z"
   },
   {
    "duration": 8266,
    "start_time": "2024-10-26T13:19:44.398Z"
   },
   {
    "duration": 6,
    "start_time": "2024-10-26T13:19:52.667Z"
   },
   {
    "duration": 279,
    "start_time": "2024-10-26T13:21:39.557Z"
   },
   {
    "duration": 546,
    "start_time": "2024-10-26T13:21:57.698Z"
   },
   {
    "duration": 739368,
    "start_time": "2024-10-26T13:22:32.601Z"
   },
   {
    "duration": 0,
    "start_time": "2024-10-26T13:34:51.971Z"
   },
   {
    "duration": 519,
    "start_time": "2024-10-26T13:36:28.652Z"
   },
   {
    "duration": 5628,
    "start_time": "2024-10-26T13:37:35.677Z"
   },
   {
    "duration": 2592,
    "start_time": "2024-10-26T13:37:42.564Z"
   },
   {
    "duration": 942,
    "start_time": "2024-10-26T13:37:45.386Z"
   },
   {
    "duration": 12327,
    "start_time": "2024-10-26T13:37:59.094Z"
   },
   {
    "duration": 858,
    "start_time": "2024-10-26T13:41:26.588Z"
   },
   {
    "duration": 3397,
    "start_time": "2024-10-26T13:41:27.448Z"
   },
   {
    "duration": 5279,
    "start_time": "2024-10-26T13:41:30.848Z"
   },
   {
    "duration": 1001,
    "start_time": "2024-10-26T13:41:36.129Z"
   },
   {
    "duration": 4,
    "start_time": "2024-10-26T13:41:37.131Z"
   },
   {
    "duration": 321,
    "start_time": "2024-10-26T13:41:37.136Z"
   },
   {
    "duration": 134,
    "start_time": "2024-10-26T13:41:37.459Z"
   },
   {
    "duration": 13,
    "start_time": "2024-10-26T13:41:37.594Z"
   },
   {
    "duration": 12,
    "start_time": "2024-10-26T13:41:37.608Z"
   },
   {
    "duration": 4605,
    "start_time": "2024-10-26T13:41:37.623Z"
   },
   {
    "duration": 3,
    "start_time": "2024-10-26T13:41:42.230Z"
   },
   {
    "duration": 579,
    "start_time": "2024-10-26T13:41:42.235Z"
   },
   {
    "duration": 0,
    "start_time": "2024-10-26T13:41:42.816Z"
   },
   {
    "duration": 0,
    "start_time": "2024-10-26T13:41:42.817Z"
   },
   {
    "duration": 0,
    "start_time": "2024-10-26T13:41:42.818Z"
   },
   {
    "duration": 0,
    "start_time": "2024-10-26T13:41:42.819Z"
   },
   {
    "duration": 0,
    "start_time": "2024-10-26T13:41:42.820Z"
   },
   {
    "duration": 0,
    "start_time": "2024-10-26T13:41:42.821Z"
   },
   {
    "duration": 0,
    "start_time": "2024-10-26T13:41:42.822Z"
   },
   {
    "duration": 0,
    "start_time": "2024-10-26T13:41:42.823Z"
   },
   {
    "duration": 0,
    "start_time": "2024-10-26T13:41:42.825Z"
   },
   {
    "duration": 0,
    "start_time": "2024-10-26T13:41:42.826Z"
   },
   {
    "duration": 0,
    "start_time": "2024-10-26T13:41:42.827Z"
   },
   {
    "duration": 0,
    "start_time": "2024-10-26T13:41:42.828Z"
   },
   {
    "duration": 0,
    "start_time": "2024-10-26T13:41:42.829Z"
   },
   {
    "duration": 0,
    "start_time": "2024-10-26T13:41:42.830Z"
   },
   {
    "duration": 0,
    "start_time": "2024-10-26T13:41:42.831Z"
   },
   {
    "duration": 0,
    "start_time": "2024-10-26T13:41:42.832Z"
   },
   {
    "duration": 0,
    "start_time": "2024-10-26T13:41:42.834Z"
   },
   {
    "duration": 1053,
    "start_time": "2024-10-26T13:42:26.789Z"
   },
   {
    "duration": 62848,
    "start_time": "2024-10-26T13:42:31.437Z"
   },
   {
    "duration": 249,
    "start_time": "2024-10-26T13:43:36.964Z"
   },
   {
    "duration": 944,
    "start_time": "2024-10-26T13:44:30.994Z"
   },
   {
    "duration": 214657,
    "start_time": "2024-10-26T13:44:36.965Z"
   },
   {
    "duration": 83783,
    "start_time": "2024-10-26T13:48:15.816Z"
   },
   {
    "duration": 9,
    "start_time": "2024-10-26T13:49:39.601Z"
   },
   {
    "duration": 102295,
    "start_time": "2024-10-26T13:50:15.551Z"
   },
   {
    "duration": 3,
    "start_time": "2024-10-26T13:55:35.379Z"
   },
   {
    "duration": 388982,
    "start_time": "2024-10-26T13:55:35.930Z"
   },
   {
    "duration": 0,
    "start_time": "2024-10-26T14:02:04.914Z"
   },
   {
    "duration": 76441,
    "start_time": "2024-10-26T14:02:28.435Z"
   },
   {
    "duration": 0,
    "start_time": "2024-10-26T14:03:44.877Z"
   },
   {
    "duration": 3,
    "start_time": "2024-10-26T14:03:46.572Z"
   },
   {
    "duration": 243,
    "start_time": "2024-10-26T14:03:48.890Z"
   },
   {
    "duration": 11,
    "start_time": "2024-10-26T14:07:10.152Z"
   },
   {
    "duration": 323,
    "start_time": "2024-10-26T14:07:54.895Z"
   },
   {
    "duration": 250,
    "start_time": "2024-10-26T14:08:17.177Z"
   },
   {
    "duration": 244,
    "start_time": "2024-10-26T14:09:30.373Z"
   },
   {
    "duration": 3,
    "start_time": "2024-10-26T14:11:37.248Z"
   },
   {
    "duration": 59,
    "start_time": "2024-10-26T14:11:37.658Z"
   },
   {
    "duration": 236,
    "start_time": "2024-10-26T14:11:41.121Z"
   },
   {
    "duration": 2587,
    "start_time": "2024-10-26T14:12:14.377Z"
   },
   {
    "duration": 1991,
    "start_time": "2024-10-26T14:12:16.966Z"
   },
   {
    "duration": 956,
    "start_time": "2024-10-26T14:12:18.959Z"
   },
   {
    "duration": 4,
    "start_time": "2024-10-26T14:12:19.917Z"
   },
   {
    "duration": 332,
    "start_time": "2024-10-26T14:12:19.923Z"
   },
   {
    "duration": 139,
    "start_time": "2024-10-26T14:12:20.257Z"
   },
   {
    "duration": 11,
    "start_time": "2024-10-26T14:12:20.398Z"
   },
   {
    "duration": 116,
    "start_time": "2024-10-26T14:12:20.411Z"
   },
   {
    "duration": 4641,
    "start_time": "2024-10-26T14:12:20.528Z"
   },
   {
    "duration": 4,
    "start_time": "2024-10-26T14:12:25.170Z"
   },
   {
    "duration": 563760,
    "start_time": "2024-10-26T14:12:25.176Z"
   },
   {
    "duration": 21,
    "start_time": "2024-10-26T14:21:48.938Z"
   },
   {
    "duration": 72,
    "start_time": "2024-10-26T14:21:48.961Z"
   },
   {
    "duration": 8113,
    "start_time": "2024-10-26T14:21:49.035Z"
   },
   {
    "duration": 50403,
    "start_time": "2024-10-26T14:21:57.152Z"
   },
   {
    "duration": 8,
    "start_time": "2024-10-26T14:22:47.557Z"
   },
   {
    "duration": 35,
    "start_time": "2024-10-26T14:22:47.567Z"
   },
   {
    "duration": 303849,
    "start_time": "2024-10-26T14:22:47.604Z"
   },
   {
    "duration": 0,
    "start_time": "2024-10-26T14:27:51.455Z"
   },
   {
    "duration": 0,
    "start_time": "2024-10-26T14:27:51.457Z"
   },
   {
    "duration": 0,
    "start_time": "2024-10-26T14:27:51.458Z"
   },
   {
    "duration": 0,
    "start_time": "2024-10-26T14:27:51.460Z"
   },
   {
    "duration": 0,
    "start_time": "2024-10-26T14:27:51.461Z"
   },
   {
    "duration": 0,
    "start_time": "2024-10-26T14:27:51.463Z"
   },
   {
    "duration": 0,
    "start_time": "2024-10-26T14:27:51.464Z"
   },
   {
    "duration": 0,
    "start_time": "2024-10-26T14:27:51.466Z"
   },
   {
    "duration": 8,
    "start_time": "2024-10-26T14:41:08.430Z"
   },
   {
    "duration": 8,
    "start_time": "2024-10-26T14:47:51.848Z"
   },
   {
    "duration": 4,
    "start_time": "2024-10-26T14:54:49.455Z"
   },
   {
    "duration": 13,
    "start_time": "2024-10-26T14:54:52.223Z"
   },
   {
    "duration": 7,
    "start_time": "2024-10-26T14:55:24.215Z"
   },
   {
    "duration": 811223,
    "start_time": "2024-10-26T14:55:28.937Z"
   },
   {
    "duration": 3,
    "start_time": "2024-10-26T15:09:08.881Z"
   },
   {
    "duration": 2931,
    "start_time": "2024-10-27T13:14:59.319Z"
   },
   {
    "duration": 1199,
    "start_time": "2024-10-27T13:15:03.381Z"
   },
   {
    "duration": 3,
    "start_time": "2024-10-27T13:15:04.581Z"
   },
   {
    "duration": 305,
    "start_time": "2024-10-27T13:15:04.694Z"
   },
   {
    "duration": 148,
    "start_time": "2024-10-27T13:15:06.447Z"
   },
   {
    "duration": 9,
    "start_time": "2024-10-27T13:15:07.978Z"
   },
   {
    "duration": 2,
    "start_time": "2024-10-27T13:15:09.252Z"
   },
   {
    "duration": 4034,
    "start_time": "2024-10-27T13:15:10.523Z"
   },
   {
    "duration": 3,
    "start_time": "2024-10-27T13:15:14.559Z"
   },
   {
    "duration": 491,
    "start_time": "2024-10-27T13:15:14.564Z"
   },
   {
    "duration": 0,
    "start_time": "2024-10-27T13:15:15.057Z"
   },
   {
    "duration": 0,
    "start_time": "2024-10-27T13:15:15.058Z"
   },
   {
    "duration": 313,
    "start_time": "2024-10-27T13:15:33.207Z"
   },
   {
    "duration": 1115292,
    "start_time": "2024-10-27T13:15:38.062Z"
   },
   {
    "duration": 10,
    "start_time": "2024-10-27T13:34:13.356Z"
   },
   {
    "duration": 104,
    "start_time": "2024-10-27T13:34:13.368Z"
   },
   {
    "duration": 4,
    "start_time": "2024-10-27T13:34:13.474Z"
   },
   {
    "duration": 15,
    "start_time": "2024-10-27T13:34:13.480Z"
   },
   {
    "duration": 3383697,
    "start_time": "2024-10-27T13:36:37.242Z"
   },
   {
    "duration": 0,
    "start_time": "2024-10-27T14:33:00.940Z"
   },
   {
    "duration": 266,
    "start_time": "2024-10-27T14:33:44.642Z"
   },
   {
    "duration": 2,
    "start_time": "2024-10-27T14:33:51.189Z"
   },
   {
    "duration": 865211,
    "start_time": "2024-10-27T14:33:51.626Z"
   },
   {
    "duration": 13,
    "start_time": "2024-10-27T14:48:40.263Z"
   },
   {
    "duration": 1458,
    "start_time": "2024-10-27T14:49:07.773Z"
   },
   {
    "duration": 6,
    "start_time": "2024-10-27T14:51:34.588Z"
   },
   {
    "duration": 4,
    "start_time": "2024-10-27T14:51:57.583Z"
   },
   {
    "duration": 1368382,
    "start_time": "2024-10-27T14:51:58.576Z"
   },
   {
    "duration": 0,
    "start_time": "2024-10-27T15:14:46.960Z"
   },
   {
    "duration": 0,
    "start_time": "2024-10-27T15:14:46.962Z"
   },
   {
    "duration": 79,
    "start_time": "2024-10-27T15:16:41.865Z"
   },
   {
    "duration": 18121,
    "start_time": "2024-10-27T15:16:42.517Z"
   },
   {
    "duration": 0,
    "start_time": "2024-10-27T15:17:00.640Z"
   },
   {
    "duration": 60,
    "start_time": "2024-10-27T15:17:03.705Z"
   },
   {
    "duration": 3,
    "start_time": "2024-10-27T15:17:12.924Z"
   },
   {
    "duration": 630603,
    "start_time": "2024-10-27T15:17:15.126Z"
   },
   {
    "duration": 17,
    "start_time": "2024-10-27T15:29:55.756Z"
   },
   {
    "duration": 1440,
    "start_time": "2024-10-27T15:30:26.369Z"
   },
   {
    "duration": 6,
    "start_time": "2024-10-27T15:33:15.672Z"
   },
   {
    "duration": 4,
    "start_time": "2024-10-27T15:34:39.926Z"
   },
   {
    "duration": 835997,
    "start_time": "2024-10-27T15:34:40.733Z"
   },
   {
    "duration": 21,
    "start_time": "2024-10-27T15:48:36.731Z"
   },
   {
    "duration": 1478,
    "start_time": "2024-10-27T15:48:36.753Z"
   },
   {
    "duration": 2757,
    "start_time": "2024-10-27T19:27:20.852Z"
   },
   {
    "duration": 109,
    "start_time": "2024-10-27T19:41:26.827Z"
   },
   {
    "duration": 115,
    "start_time": "2024-10-27T19:42:24.619Z"
   },
   {
    "duration": 73,
    "start_time": "2024-10-27T19:42:49.806Z"
   },
   {
    "duration": 67,
    "start_time": "2024-10-27T19:43:27.100Z"
   },
   {
    "duration": 134,
    "start_time": "2024-10-27T19:43:38.764Z"
   },
   {
    "duration": 8,
    "start_time": "2024-10-27T19:44:25.289Z"
   },
   {
    "duration": 17,
    "start_time": "2024-10-27T19:44:30.255Z"
   },
   {
    "duration": 2304,
    "start_time": "2024-10-27T19:45:56.233Z"
   },
   {
    "duration": 16,
    "start_time": "2024-10-27T19:46:29.730Z"
   },
   {
    "duration": 96,
    "start_time": "2024-10-27T19:46:36.938Z"
   },
   {
    "duration": 5,
    "start_time": "2024-10-27T19:46:46.629Z"
   },
   {
    "duration": 4,
    "start_time": "2024-10-27T19:47:10.812Z"
   }
  ],
  "kernelspec": {
   "display_name": "Python 3 (ipykernel)",
   "language": "python",
   "name": "python3"
  },
  "language_info": {
   "codemirror_mode": {
    "name": "ipython",
    "version": 3
   },
   "file_extension": ".py",
   "mimetype": "text/x-python",
   "name": "python",
   "nbconvert_exporter": "python",
   "pygments_lexer": "ipython3",
   "version": "3.11.7"
  },
  "toc": {
   "base_numbering": 1,
   "nav_menu": {},
   "number_sections": true,
   "sideBar": true,
   "skip_h1_title": true,
   "title_cell": "Содержание",
   "title_sidebar": "Contents",
   "toc_cell": true,
   "toc_position": {
    "height": "calc(100% - 180px)",
    "left": "10px",
    "top": "150px",
    "width": "302.388px"
   },
   "toc_section_display": true,
   "toc_window_display": true
  }
 },
 "nbformat": 4,
 "nbformat_minor": 4
}
