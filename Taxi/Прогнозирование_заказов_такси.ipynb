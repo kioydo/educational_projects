{
 "cells": [
  {
   "cell_type": "markdown",
   "metadata": {},
   "source": [
    "#  Прогнозирование заказов такси"
   ]
  },
  {
   "cell_type": "markdown",
   "metadata": {},
   "source": [
    "Компания «Чётенькое такси» собрала исторические данные о заказах такси в аэропортах. Чтобы привлекать больше водителей в период пиковой нагрузки, нужно спрогнозировать количество заказов такси на следующий час.\n",
    "\n",
    "**Цель:** построить модель для такого предсказания.\n",
    "\n",
    "Значение метрики *RMSE* на тестовой выборке должно быть не больше 48.\n",
    "\n",
    "**Задачи:**\n",
    "\n",
    "1. Загрузить данные и выполнить их ресемплирование по одному часу.\n",
    "2. Проанализировать данные.\n",
    "3. Обучить разные модели с различными гиперпараметрами. Сделать тестовую выборку размером 10% от исходных данных.\n",
    "4. Проверить данные на тестовой выборке и сделать выводы.\n"
   ]
  },
  {
   "cell_type": "markdown",
   "metadata": {
    "toc": true
   },
   "source": [
    "<h1>Содержание<span class=\"tocSkip\"></span></h1>\n",
    "<div class=\"toc\"><ul class=\"toc-item\"><li><span><a href=\"#Подготовка\" data-toc-modified-id=\"Подготовка-1\"><span class=\"toc-item-num\">1&nbsp;&nbsp;</span>Подготовка</a></span></li><li><span><a href=\"#Анализ\" data-toc-modified-id=\"Анализ-2\"><span class=\"toc-item-num\">2&nbsp;&nbsp;</span>Анализ</a></span></li><li><span><a href=\"#Обучение\" data-toc-modified-id=\"Обучение-3\"><span class=\"toc-item-num\">3&nbsp;&nbsp;</span>Обучение</a></span><ul class=\"toc-item\"><li><span><a href=\"#LGBMRegressor\" data-toc-modified-id=\"LGBMRegressor-3.1\"><span class=\"toc-item-num\">3.1&nbsp;&nbsp;</span>LGBMRegressor</a></span></li><li><span><a href=\"#DecisionTreeRegressor\" data-toc-modified-id=\"DecisionTreeRegressor-3.2\"><span class=\"toc-item-num\">3.2&nbsp;&nbsp;</span>DecisionTreeRegressor</a></span></li><li><span><a href=\"#KNeighborsRegressor\" data-toc-modified-id=\"KNeighborsRegressor-3.3\"><span class=\"toc-item-num\">3.3&nbsp;&nbsp;</span>KNeighborsRegressor</a></span></li><li><span><a href=\"#LinearRegression\" data-toc-modified-id=\"LinearRegression-3.4\"><span class=\"toc-item-num\">3.4&nbsp;&nbsp;</span>LinearRegression</a></span></li><li><span><a href=\"#Вывод\" data-toc-modified-id=\"Вывод-3.5\"><span class=\"toc-item-num\">3.5&nbsp;&nbsp;</span>Вывод</a></span></li></ul></li><li><span><a href=\"#Тестирование\" data-toc-modified-id=\"Тестирование-4\"><span class=\"toc-item-num\">4&nbsp;&nbsp;</span>Тестирование</a></span></li><li><span><a href=\"#Чек-лист-проверки\" data-toc-modified-id=\"Чек-лист-проверки-5\"><span class=\"toc-item-num\">5&nbsp;&nbsp;</span>Чек-лист проверки</a></span></li></ul></div>"
   ]
  },
  {
   "cell_type": "markdown",
   "metadata": {},
   "source": [
    "## Подготовка"
   ]
  },
  {
   "cell_type": "code",
   "execution_count": 1,
   "metadata": {},
   "outputs": [],
   "source": [
    "!pip install scikit-learn==1.3 -q"
   ]
  },
  {
   "cell_type": "code",
   "execution_count": 2,
   "metadata": {},
   "outputs": [],
   "source": [
    "!pip install lightgbm -q"
   ]
  },
  {
   "cell_type": "code",
   "execution_count": 3,
   "metadata": {},
   "outputs": [],
   "source": [
    "# загрузка библиотек\n",
    "import pandas as pd\n",
    "import seaborn as sns\n",
    "import matplotlib.pyplot as plt\n",
    "\n",
    "from statsmodels.tsa.seasonal import seasonal_decompose\n",
    "\n",
    "from sklearn.model_selection import (train_test_split, \n",
    "                                     GridSearchCV, \n",
    "                                     cross_val_score, \n",
    "                                     TimeSeriesSplit\n",
    "                                    )\n",
    "from sklearn.linear_model import LinearRegression\n",
    "from sklearn.tree import DecisionTreeRegressor\n",
    "from lightgbm import LGBMRegressor\n",
    "from sklearn.neighbors import KNeighborsRegressor\n",
    "\n",
    "import time\n",
    "\n",
    "from sklearn.metrics import mean_squared_error"
   ]
  },
  {
   "cell_type": "code",
   "execution_count": 4,
   "metadata": {},
   "outputs": [],
   "source": [
    "RANDOM_STATE = 42"
   ]
  },
  {
   "cell_type": "code",
   "execution_count": 5,
   "metadata": {},
   "outputs": [],
   "source": [
    "taxi = pd.read_csv('/datasets/taxi.csv', index_col=[0], parse_dates=[0])"
   ]
  },
  {
   "cell_type": "code",
   "execution_count": 6,
   "metadata": {},
   "outputs": [],
   "source": [
    "# функция для просмотра общей информации о дф\n",
    "def info(data):\n",
    "    print(display(data.head()), data.info())"
   ]
  },
  {
   "cell_type": "code",
   "execution_count": 7,
   "metadata": {},
   "outputs": [
    {
     "data": {
      "text/html": [
       "<div>\n",
       "<style scoped>\n",
       "    .dataframe tbody tr th:only-of-type {\n",
       "        vertical-align: middle;\n",
       "    }\n",
       "\n",
       "    .dataframe tbody tr th {\n",
       "        vertical-align: top;\n",
       "    }\n",
       "\n",
       "    .dataframe thead th {\n",
       "        text-align: right;\n",
       "    }\n",
       "</style>\n",
       "<table border=\"1\" class=\"dataframe\">\n",
       "  <thead>\n",
       "    <tr style=\"text-align: right;\">\n",
       "      <th></th>\n",
       "      <th>num_orders</th>\n",
       "    </tr>\n",
       "    <tr>\n",
       "      <th>datetime</th>\n",
       "      <th></th>\n",
       "    </tr>\n",
       "  </thead>\n",
       "  <tbody>\n",
       "    <tr>\n",
       "      <th>2018-03-01 00:00:00</th>\n",
       "      <td>9</td>\n",
       "    </tr>\n",
       "    <tr>\n",
       "      <th>2018-03-01 00:10:00</th>\n",
       "      <td>14</td>\n",
       "    </tr>\n",
       "    <tr>\n",
       "      <th>2018-03-01 00:20:00</th>\n",
       "      <td>28</td>\n",
       "    </tr>\n",
       "    <tr>\n",
       "      <th>2018-03-01 00:30:00</th>\n",
       "      <td>20</td>\n",
       "    </tr>\n",
       "    <tr>\n",
       "      <th>2018-03-01 00:40:00</th>\n",
       "      <td>32</td>\n",
       "    </tr>\n",
       "  </tbody>\n",
       "</table>\n",
       "</div>"
      ],
      "text/plain": [
       "                     num_orders\n",
       "datetime                       \n",
       "2018-03-01 00:00:00           9\n",
       "2018-03-01 00:10:00          14\n",
       "2018-03-01 00:20:00          28\n",
       "2018-03-01 00:30:00          20\n",
       "2018-03-01 00:40:00          32"
      ]
     },
     "metadata": {},
     "output_type": "display_data"
    },
    {
     "name": "stdout",
     "output_type": "stream",
     "text": [
      "<class 'pandas.core.frame.DataFrame'>\n",
      "DatetimeIndex: 26496 entries, 2018-03-01 00:00:00 to 2018-08-31 23:50:00\n",
      "Data columns (total 1 columns):\n",
      " #   Column      Non-Null Count  Dtype\n",
      "---  ------      --------------  -----\n",
      " 0   num_orders  26496 non-null  int64\n",
      "dtypes: int64(1)\n",
      "memory usage: 414.0 KB\n",
      "None None\n"
     ]
    }
   ],
   "source": [
    "info(taxi)"
   ]
  },
  {
   "cell_type": "code",
   "execution_count": 8,
   "metadata": {},
   "outputs": [],
   "source": [
    "taxi.sort_index(inplace=True)"
   ]
  },
  {
   "cell_type": "code",
   "execution_count": 9,
   "metadata": {},
   "outputs": [],
   "source": [
    "# ресемплирование\n",
    "taxi = taxi.resample('1H').sum()"
   ]
  },
  {
   "cell_type": "markdown",
   "metadata": {},
   "source": [
    "Данные о заказах такси с 1 марта по 31 августа 2018 года."
   ]
  },
  {
   "cell_type": "markdown",
   "metadata": {},
   "source": [
    "## Анализ"
   ]
  },
  {
   "cell_type": "code",
   "execution_count": 10,
   "metadata": {},
   "outputs": [
    {
     "data": {
      "image/png": "[encoded data removed]",
      "text/plain": [
       "<Figure size 432x576 with 3 Axes>"
      ]
     },
     "metadata": {
      "needs_background": "light"
     },
     "output_type": "display_data"
    }
   ],
   "source": [
    "# разложение временного ряда\n",
    "decomposed = seasonal_decompose(taxi) \n",
    "\n",
    "plt.figure(figsize=(6, 8))\n",
    "\n",
    "# тренд\n",
    "plt.subplot(311)\n",
    "decomposed.trend.plot(ax=plt.gca())\n",
    "plt.title('Trend')\n",
    "\n",
    "# сезонность\n",
    "plt.subplot(312)\n",
    "decomposed.seasonal.plot(ax=plt.gca())\n",
    "plt.title('Seasonality')\n",
    "\n",
    "# остатки\n",
    "plt.subplot(313)\n",
    "decomposed.resid.plot(ax=plt.gca())\n",
    "plt.title('Residuals')\n",
    "plt.tight_layout()"
   ]
  },
  {
   "cell_type": "markdown",
   "metadata": {},
   "source": [
    "По тренду видно увеличение количества заказов такси со временем. По остаткам можно увидеть выбросы в августе. На данном этапе по сезонность ничего нельзя сказать."
   ]
  },
  {
   "cell_type": "code",
   "execution_count": 11,
   "metadata": {},
   "outputs": [
    {
     "data": {
      "text/plain": [
       "<AxesSubplot:xlabel='datetime'>"
      ]
     },
     "execution_count": 11,
     "metadata": {},
     "output_type": "execute_result"
    },
    {
     "data": {
      "image/png": "[encoded data removed]",
      "text/plain": [
       "<Figure size 432x288 with 1 Axes>"
      ]
     },
     "metadata": {
      "needs_background": "light"
     },
     "output_type": "display_data"
    }
   ],
   "source": [
    "# сезонность в рамках 2-х дней\n",
    "decomposed.seasonal[0:48].plot()"
   ]
  },
  {
   "cell_type": "markdown",
   "metadata": {},
   "source": [
    "Присутствует суточная сезонность."
   ]
  },
  {
   "cell_type": "code",
   "execution_count": 12,
   "metadata": {},
   "outputs": [],
   "source": [
    "taxi['rolling_mean'] = taxi['num_orders'].shift().rolling(24).mean()\n",
    "taxi['std'] = taxi['num_orders'].shift().rolling(24).std()"
   ]
  },
  {
   "cell_type": "code",
   "execution_count": 13,
   "metadata": {
    "scrolled": true
   },
   "outputs": [
    {
     "data": {
      "text/plain": [
       "<AxesSubplot:xlabel='datetime'>"
      ]
     },
     "execution_count": 13,
     "metadata": {},
     "output_type": "execute_result"
    },
    {
     "data": {
      "image/png": "[encoded data removed]",
      "text/plain": [
       "<Figure size 432x288 with 1 Axes>"
      ]
     },
     "metadata": {
      "needs_background": "light"
     },
     "output_type": "display_data"
    }
   ],
   "source": [
    "taxi.plot()"
   ]
  },
  {
   "cell_type": "code",
   "execution_count": 14,
   "metadata": {},
   "outputs": [],
   "source": [
    "taxi = taxi.drop(['rolling_mean', 'std'], axis=1)"
   ]
  },
  {
   "cell_type": "markdown",
   "metadata": {},
   "source": [
    "Ряд нестационарнный, так как среднее и стандартное отклонения меняются."
   ]
  },
  {
   "cell_type": "markdown",
   "metadata": {},
   "source": [
    "## Обучение"
   ]
  },
  {
   "cell_type": "code",
   "execution_count": 15,
   "metadata": {},
   "outputs": [],
   "source": [
    "# создание признаков\n",
    "def make_features(data, max_lag):\n",
    "    df = data.copy()\n",
    "    df['month'] = df.index.month\n",
    "    df['day'] = df.index.day\n",
    "    df['hour'] = df.index.hour\n",
    "    df['dayofweek'] = df.index.dayofweek\n",
    "    \n",
    "    for lag in range(1, max_lag + 1):\n",
    "        df['lag_{}'.format(lag)] = df['num_orders'].shift(lag)\n",
    "    \n",
    "    df['rolling_mean'] = df['num_orders'].shift().rolling(24).mean()\n",
    "    \n",
    "    return df"
   ]
  },
  {
   "cell_type": "code",
   "execution_count": 16,
   "metadata": {},
   "outputs": [],
   "source": [
    "df = make_features(taxi, 150)"
   ]
  },
  {
   "cell_type": "code",
   "execution_count": 17,
   "metadata": {},
   "outputs": [],
   "source": [
    "# разделение на обучающую и тестовую выборки\n",
    "train, test = train_test_split(df, shuffle=False, test_size=0.1)\n",
    "train = train.dropna()\n",
    "\n",
    "X_train = train.drop(['num_orders'], axis=1)\n",
    "y_train = train['num_orders']\n",
    "\n",
    "X_test = test.drop(['num_orders'], axis=1)\n",
    "y_test = test['num_orders']"
   ]
  },
  {
   "cell_type": "code",
   "execution_count": 18,
   "metadata": {},
   "outputs": [
    {
     "data": {
      "text/plain": [
       "(3824, 155)"
      ]
     },
     "execution_count": 18,
     "metadata": {},
     "output_type": "execute_result"
    }
   ],
   "source": [
    "X_train.shape"
   ]
  },
  {
   "cell_type": "code",
   "execution_count": 19,
   "metadata": {},
   "outputs": [],
   "source": [
    "cv = TimeSeriesSplit(n_splits=3).split(X_train)"
   ]
  },
  {
   "cell_type": "markdown",
   "metadata": {},
   "source": [
    "### LGBMRegressor"
   ]
  },
  {
   "cell_type": "code",
   "execution_count": 20,
   "metadata": {},
   "outputs": [],
   "source": [
    "# гиперпараметры\n",
    "param = {'n_estimators': range(10, 15),\n",
    "         'learning_rate': [0.1, 0.05]\n",
    "        }\n",
    "\n",
    "# обучение DecisionTreeRegressor\n",
    "lgbm = LGBMRegressor(force_row_wise=True, \n",
    "                     random_state=RANDOM_STATE\n",
    "                    )\n",
    "\n",
    "# GridSearchCV \n",
    "lgbm_gs = GridSearchCV(lgbm, \n",
    "                       param, \n",
    "                       scoring='neg_root_mean_squared_error', \n",
    "                       cv=3\n",
    "                      )"
   ]
  },
  {
   "cell_type": "code",
   "execution_count": 21,
   "metadata": {},
   "outputs": [],
   "source": [
    "# обучение LGBMRegressor\n",
    "start = time.time()\n",
    "\n",
    "lgbm_gs.fit(X_train, y_train)\n",
    "\n",
    "lgbm_time = time.time() - start"
   ]
  },
  {
   "cell_type": "code",
   "execution_count": 22,
   "metadata": {},
   "outputs": [],
   "source": [
    "# предсказание LGBMRegressor\n",
    "start = time.time()\n",
    "lgbm_preds = lgbm_gs.predict(X_train)\n",
    "lgbm_time_pred = time.time() - start"
   ]
  },
  {
   "cell_type": "markdown",
   "metadata": {},
   "source": [
    "### DecisionTreeRegressor"
   ]
  },
  {
   "cell_type": "code",
   "execution_count": 23,
   "metadata": {},
   "outputs": [],
   "source": [
    "# гиперпараметры\n",
    "param = {'max_depth': range(5, 10),\n",
    "         'min_samples_leaf': range(5, 10),\n",
    "         'min_samples_split': range(5, 10)\n",
    "        }\n",
    "\n",
    "# обучение DecisionTreeRegressor\n",
    "dtr = DecisionTreeRegressor(random_state=RANDOM_STATE)\n",
    "\n",
    "# GridSearchCV \n",
    "dtr_gs = GridSearchCV(dtr, \n",
    "                      param, \n",
    "                      scoring='neg_root_mean_squared_error', \n",
    "                      cv=3\n",
    "                     )\n",
    "\n",
    "start = time.time()\n",
    "\n",
    "dtr_gs.fit(X_train, y_train)\n",
    "\n",
    "dtr_time = time.time() - start"
   ]
  },
  {
   "cell_type": "code",
   "execution_count": 24,
   "metadata": {},
   "outputs": [],
   "source": [
    "# предсказание  DecisionTreeRegressor\n",
    "start = time.time()\n",
    "dtr_preds = dtr_gs.predict(X_train)\n",
    "dtr_time_pred = time.time() - start"
   ]
  },
  {
   "cell_type": "markdown",
   "metadata": {},
   "source": [
    "### KNeighborsRegressor"
   ]
  },
  {
   "cell_type": "code",
   "execution_count": 25,
   "metadata": {},
   "outputs": [],
   "source": [
    "# обучение KNeighborsRegressor\n",
    "start = time.time()\n",
    "\n",
    "knn = KNeighborsRegressor(n_neighbors=10)\n",
    "knn.fit(X_train, y_train)\n",
    "\n",
    "knn_time = time.time() - start"
   ]
  },
  {
   "cell_type": "code",
   "execution_count": 26,
   "metadata": {},
   "outputs": [],
   "source": [
    "# предсказание KNeighborsRegressor\n",
    "start = time.time()\n",
    "knn_preds = knn.predict(X_train)\n",
    "\n",
    "knn_time_pred = time.time() - start"
   ]
  },
  {
   "cell_type": "code",
   "execution_count": 27,
   "metadata": {},
   "outputs": [],
   "source": [
    "# кросс-валидация\n",
    "knn_cv = cross_val_score(knn, \n",
    "                          X_train, \n",
    "                          y_train, \n",
    "                          cv=3,\n",
    "                          scoring='neg_root_mean_squared_error'\n",
    "                         ).mean() * (-1)"
   ]
  },
  {
   "cell_type": "markdown",
   "metadata": {},
   "source": [
    "### LinearRegression"
   ]
  },
  {
   "cell_type": "code",
   "execution_count": 28,
   "metadata": {},
   "outputs": [],
   "source": [
    "# обучение LinearRegression\n",
    "start = time.time()\n",
    "\n",
    "lr = LinearRegression()\n",
    "lr.fit(X_train, y_train)\n",
    "\n",
    "lr_time = time.time() - start"
   ]
  },
  {
   "cell_type": "code",
   "execution_count": 29,
   "metadata": {},
   "outputs": [],
   "source": [
    "# предсказание LinearRegression\n",
    "start = time.time()\n",
    "\n",
    "lr_preds = lr.predict(X_train)\n",
    "\n",
    "lr_time_pred = time.time() - start"
   ]
  },
  {
   "cell_type": "code",
   "execution_count": 30,
   "metadata": {},
   "outputs": [],
   "source": [
    "# кросс-валидация\n",
    "lr_cv = cross_val_score(lr, \n",
    "                        X_train, \n",
    "                        y_train, \n",
    "                        cv=3,\n",
    "                        scoring='neg_root_mean_squared_error'\n",
    "                       ).mean() * (-1)"
   ]
  },
  {
   "cell_type": "markdown",
   "metadata": {},
   "source": [
    "### Вывод"
   ]
  },
  {
   "cell_type": "code",
   "execution_count": 31,
   "metadata": {},
   "outputs": [
    {
     "data": {
      "text/html": [
       "<div>\n",
       "<style scoped>\n",
       "    .dataframe tbody tr th:only-of-type {\n",
       "        vertical-align: middle;\n",
       "    }\n",
       "\n",
       "    .dataframe tbody tr th {\n",
       "        vertical-align: top;\n",
       "    }\n",
       "\n",
       "    .dataframe thead th {\n",
       "        text-align: right;\n",
       "    }\n",
       "</style>\n",
       "<table border=\"1\" class=\"dataframe\">\n",
       "  <thead>\n",
       "    <tr style=\"text-align: right;\">\n",
       "      <th></th>\n",
       "      <th>training_time</th>\n",
       "      <th>prediction_time</th>\n",
       "      <th>RMSE</th>\n",
       "    </tr>\n",
       "  </thead>\n",
       "  <tbody>\n",
       "    <tr>\n",
       "      <th>LGBMRegressor</th>\n",
       "      <td>37.569577</td>\n",
       "      <td>0.007559</td>\n",
       "      <td>25.849690</td>\n",
       "    </tr>\n",
       "    <tr>\n",
       "      <th>DecisionTreeRegressor</th>\n",
       "      <td>64.047211</td>\n",
       "      <td>0.004925</td>\n",
       "      <td>26.904646</td>\n",
       "    </tr>\n",
       "    <tr>\n",
       "      <th>KNeighborsRegressor</th>\n",
       "      <td>0.005157</td>\n",
       "      <td>0.461167</td>\n",
       "      <td>26.010621</td>\n",
       "    </tr>\n",
       "    <tr>\n",
       "      <th>LinearRegression</th>\n",
       "      <td>0.396041</td>\n",
       "      <td>0.100157</td>\n",
       "      <td>23.100103</td>\n",
       "    </tr>\n",
       "  </tbody>\n",
       "</table>\n",
       "</div>"
      ],
      "text/plain": [
       "                       training_time  prediction_time       RMSE\n",
       "LGBMRegressor              37.569577         0.007559  25.849690\n",
       "DecisionTreeRegressor      64.047211         0.004925  26.904646\n",
       "KNeighborsRegressor         0.005157         0.461167  26.010621\n",
       "LinearRegression            0.396041         0.100157  23.100103"
      ]
     },
     "execution_count": 31,
     "metadata": {},
     "output_type": "execute_result"
    }
   ],
   "source": [
    "# сравнение результатов\n",
    "analisis = pd.DataFrame({'training_time': [lgbm_time, \n",
    "                                           dtr_time, \n",
    "                                           knn_time, \n",
    "                                           lr_time\n",
    "                                          ],\n",
    "                         'prediction_time': [lgbm_time_pred, \n",
    "                                             dtr_time_pred, \n",
    "                                             knn_time_pred, \n",
    "                                             lr_time_pred\n",
    "                                            ],\n",
    "                         'RMSE': [lgbm_gs.best_score_ * (-1), (dtr_gs.best_score_ * (-1)), knn_cv, lr_cv]\n",
    "                        },\n",
    "                        index = ['LGBMRegressor', \n",
    "                                 'DecisionTreeRegressor', \n",
    "                                 'KNeighborsRegressor', \n",
    "                                 'LinearRegression'\n",
    "                                ]\n",
    "                       )\n",
    "analisis"
   ]
  },
  {
   "cell_type": "markdown",
   "metadata": {},
   "source": [
    "Лучшая метрика на кросс-валидации у модели LinearRegression, худшая - DecisionTreeRegressor. Время обучения у  DecisionTreeRegressor максимальное. LinearRegression - лучшая модель."
   ]
  },
  {
   "cell_type": "markdown",
   "metadata": {},
   "source": [
    "## Тестирование"
   ]
  },
  {
   "cell_type": "code",
   "execution_count": 32,
   "metadata": {},
   "outputs": [
    {
     "name": "stdout",
     "output_type": "stream",
     "text": [
      "Метрика RMSE на тестовой выборке лучшей модели:40\n"
     ]
    }
   ],
   "source": [
    "print(f'Метрика RMSE на тестовой выборке лучшей модели:{round(mean_squared_error(y_test, lr.predict(X_test), squared=False))}')"
   ]
  },
  {
   "cell_type": "markdown",
   "metadata": {},
   "source": [
    "Значение метрики на тестовой выборке 40, что не превышает допустимого (48)."
   ]
  },
  {
   "cell_type": "code",
   "execution_count": 33,
   "metadata": {},
   "outputs": [],
   "source": [
    "result = pd.DataFrame({'test': y_test,\n",
    "                       'pred': lr.predict(X_test)\n",
    "                      })"
   ]
  },
  {
   "cell_type": "code",
   "execution_count": 34,
   "metadata": {},
   "outputs": [
    {
     "data": {
      "text/plain": [
       "Text(0.5, 1.0, 'Реальные и предсказанные значения\\n')"
      ]
     },
     "execution_count": 34,
     "metadata": {},
     "output_type": "execute_result"
    },
    {
     "data": {
      "image/png": "[encoded data removed]",
      "text/plain": [
       "<Figure size 1080x576 with 1 Axes>"
      ]
     },
     "metadata": {
      "needs_background": "light"
     },
     "output_type": "display_data"
    }
   ],
   "source": [
    "result.plot(figsize=(15, 8))\n",
    "plt.title('Реальные и предсказанные значения' + \"\\n\", fontsize=16)"
   ]
  },
  {
   "cell_type": "markdown",
   "metadata": {},
   "source": [
    "Модель плохо предсказывает выбивающиеся значения. Это, возможно, произошло, так как в начальном дф при анализе остатков в августе были выбросы, которых не было до этого, и в тестовую выборку попали данные августа."
   ]
  },
  {
   "cell_type": "markdown",
   "metadata": {},
   "source": [
    "**Вывод:**\n",
    "- Перед обучением был произведен анализ временного ряда. Выявлены следующие закономерности: 1) Количество заказов со временем увеличивается 2) Присутствует суточная сезонность 3) Ряд является нестационарным\n",
    "- Для предсказания значений временного ряда были выбраны 4 модели: LGBMRegressor, DecisionTreeRegressor, KNeighborsRegressor, LinearRegression;\n",
    "- По значениям метрики RMSE на кросс-валидации была выбрана лучшая модель - LinearRegression со значением метрики = 23;\n",
    "- Значение RMSE на тестовой выборке не больше 48 и составляет 40."
   ]
  }
 ],
 "metadata": {
  "ExecuteTimeLog": [
   {
    "duration": 373,
    "start_time": "2024-10-08T16:00:34.109Z"
   },
   {
    "duration": 45,
    "start_time": "2024-10-08T18:09:21.319Z"
   },
   {
    "duration": 403,
    "start_time": "2024-10-08T18:09:23.393Z"
   },
   {
    "duration": 182,
    "start_time": "2024-10-08T18:09:23.797Z"
   },
   {
    "duration": 3,
    "start_time": "2024-10-08T18:09:48.901Z"
   },
   {
    "duration": 31,
    "start_time": "2024-10-08T18:09:49.218Z"
   },
   {
    "duration": 3,
    "start_time": "2024-10-08T18:10:25.900Z"
   },
   {
    "duration": 24,
    "start_time": "2024-10-08T18:10:26.222Z"
   },
   {
    "duration": 3,
    "start_time": "2024-10-08T18:10:33.425Z"
   },
   {
    "duration": 22,
    "start_time": "2024-10-08T18:10:33.710Z"
   },
   {
    "duration": 31,
    "start_time": "2024-10-08T18:11:42.673Z"
   },
   {
    "duration": 49,
    "start_time": "2024-10-08T18:12:14.321Z"
   },
   {
    "duration": 566,
    "start_time": "2024-10-08T18:12:50.552Z"
   },
   {
    "duration": 8,
    "start_time": "2024-10-08T18:14:01.556Z"
   },
   {
    "duration": 2,
    "start_time": "2024-10-08T18:15:16.161Z"
   },
   {
    "duration": 52,
    "start_time": "2024-10-08T18:15:16.463Z"
   },
   {
    "duration": 3,
    "start_time": "2024-10-08T18:15:16.723Z"
   },
   {
    "duration": 17,
    "start_time": "2024-10-08T18:15:17.141Z"
   },
   {
    "duration": 3,
    "start_time": "2024-10-08T18:15:48.480Z"
   },
   {
    "duration": 13,
    "start_time": "2024-10-08T18:15:48.749Z"
   },
   {
    "duration": 481,
    "start_time": "2024-10-08T18:19:33.024Z"
   },
   {
    "duration": 2,
    "start_time": "2024-10-08T18:19:49.448Z"
   },
   {
    "duration": 56,
    "start_time": "2024-10-08T18:20:08.148Z"
   },
   {
    "duration": 396,
    "start_time": "2024-10-08T18:21:21.846Z"
   },
   {
    "duration": 9,
    "start_time": "2024-10-08T18:21:37.246Z"
   },
   {
    "duration": 15,
    "start_time": "2024-10-08T18:21:42.403Z"
   },
   {
    "duration": 53,
    "start_time": "2024-10-08T18:22:15.552Z"
   },
   {
    "duration": 1325,
    "start_time": "2024-10-08T18:22:26.498Z"
   },
   {
    "duration": 580,
    "start_time": "2024-10-08T18:22:46.848Z"
   },
   {
    "duration": 1114,
    "start_time": "2024-10-08T18:23:00.098Z"
   },
   {
    "duration": 52,
    "start_time": "2024-10-08T18:23:01.213Z"
   },
   {
    "duration": 2,
    "start_time": "2024-10-08T18:23:01.267Z"
   },
   {
    "duration": 27,
    "start_time": "2024-10-08T18:23:01.271Z"
   },
   {
    "duration": 16,
    "start_time": "2024-10-08T18:23:01.300Z"
   },
   {
    "duration": 221,
    "start_time": "2024-10-08T18:23:01.318Z"
   },
   {
    "duration": 4,
    "start_time": "2024-10-08T18:27:16.623Z"
   },
   {
    "duration": 1018,
    "start_time": "2024-10-08T18:27:16.917Z"
   },
   {
    "duration": 3,
    "start_time": "2024-10-08T18:27:42.285Z"
   },
   {
    "duration": 9,
    "start_time": "2024-10-08T18:27:42.546Z"
   },
   {
    "duration": 14,
    "start_time": "2024-10-08T18:30:47.494Z"
   },
   {
    "duration": 244,
    "start_time": "2024-10-08T18:31:14.145Z"
   },
   {
    "duration": 506,
    "start_time": "2024-10-08T18:31:30.299Z"
   },
   {
    "duration": 428,
    "start_time": "2024-10-08T18:33:28.433Z"
   },
   {
    "duration": 533,
    "start_time": "2024-10-08T18:37:34.017Z"
   },
   {
    "duration": 110,
    "start_time": "2024-10-08T18:45:18.541Z"
   },
   {
    "duration": 120,
    "start_time": "2024-10-08T18:45:30.385Z"
   },
   {
    "duration": 112,
    "start_time": "2024-10-08T18:45:37.900Z"
   },
   {
    "duration": 452,
    "start_time": "2024-10-08T18:45:43.067Z"
   },
   {
    "duration": 774,
    "start_time": "2024-10-08T18:45:50.532Z"
   },
   {
    "duration": 901,
    "start_time": "2024-10-08T18:48:06.164Z"
   },
   {
    "duration": 9,
    "start_time": "2024-10-08T18:51:23.189Z"
   },
   {
    "duration": 21,
    "start_time": "2024-10-08T18:51:35.642Z"
   },
   {
    "duration": 15,
    "start_time": "2024-10-08T18:51:40.160Z"
   },
   {
    "duration": 1188,
    "start_time": "2024-10-08T18:51:54.679Z"
   },
   {
    "duration": 52,
    "start_time": "2024-10-08T18:51:55.869Z"
   },
   {
    "duration": 3,
    "start_time": "2024-10-08T18:51:55.922Z"
   },
   {
    "duration": 18,
    "start_time": "2024-10-08T18:51:55.926Z"
   },
   {
    "duration": 8,
    "start_time": "2024-10-08T18:51:55.946Z"
   },
   {
    "duration": 3,
    "start_time": "2024-10-08T18:51:55.955Z"
   },
   {
    "duration": 2,
    "start_time": "2024-10-08T18:51:55.960Z"
   },
   {
    "duration": 697,
    "start_time": "2024-10-08T18:51:55.963Z"
   },
   {
    "duration": 624,
    "start_time": "2024-10-08T18:51:56.662Z"
   },
   {
    "duration": 0,
    "start_time": "2024-10-08T18:51:57.288Z"
   },
   {
    "duration": 21,
    "start_time": "2024-10-08T18:54:25.728Z"
   },
   {
    "duration": 4224,
    "start_time": "2024-10-08T18:54:36.222Z"
   },
   {
    "duration": 289,
    "start_time": "2024-10-08T18:54:40.448Z"
   },
   {
    "duration": 13,
    "start_time": "2024-10-08T18:54:40.739Z"
   },
   {
    "duration": 1297,
    "start_time": "2024-10-08T18:54:48.359Z"
   },
   {
    "duration": 19,
    "start_time": "2024-10-08T18:56:55.513Z"
   },
   {
    "duration": 15,
    "start_time": "2024-10-08T18:57:08.556Z"
   },
   {
    "duration": 203,
    "start_time": "2024-10-08T18:57:52.485Z"
   },
   {
    "duration": 142,
    "start_time": "2024-10-08T18:59:07.181Z"
   },
   {
    "duration": 137,
    "start_time": "2024-10-08T18:59:36.602Z"
   },
   {
    "duration": 128,
    "start_time": "2024-10-08T18:59:45.723Z"
   },
   {
    "duration": 136,
    "start_time": "2024-10-08T18:59:50.038Z"
   },
   {
    "duration": 9,
    "start_time": "2024-10-08T19:02:05.053Z"
   },
   {
    "duration": 5,
    "start_time": "2024-10-08T19:02:13.727Z"
   },
   {
    "duration": 251,
    "start_time": "2024-10-08T19:02:26.445Z"
   },
   {
    "duration": 4,
    "start_time": "2024-10-08T19:02:33.514Z"
   },
   {
    "duration": 362,
    "start_time": "2024-10-08T19:02:35.019Z"
   },
   {
    "duration": 4,
    "start_time": "2024-10-08T19:02:45.155Z"
   },
   {
    "duration": 245,
    "start_time": "2024-10-08T19:02:46.586Z"
   },
   {
    "duration": 5,
    "start_time": "2024-10-08T19:02:54.357Z"
   },
   {
    "duration": 234,
    "start_time": "2024-10-08T19:02:55.711Z"
   },
   {
    "duration": 135,
    "start_time": "2024-10-08T19:05:20.778Z"
   },
   {
    "duration": 5,
    "start_time": "2024-10-08T19:06:58.850Z"
   },
   {
    "duration": 265,
    "start_time": "2024-10-08T19:06:59.143Z"
   },
   {
    "duration": 6,
    "start_time": "2024-10-08T19:07:11.383Z"
   },
   {
    "duration": 358,
    "start_time": "2024-10-08T19:07:11.614Z"
   },
   {
    "duration": 55,
    "start_time": "2024-10-08T19:11:55.105Z"
   },
   {
    "duration": 3,
    "start_time": "2024-10-08T19:11:58.091Z"
   },
   {
    "duration": 8,
    "start_time": "2024-10-08T19:11:58.414Z"
   },
   {
    "duration": 53,
    "start_time": "2024-10-08T19:11:58.592Z"
   },
   {
    "duration": 54,
    "start_time": "2024-10-08T19:12:02.943Z"
   },
   {
    "duration": 10,
    "start_time": "2024-10-08T19:12:06.696Z"
   },
   {
    "duration": 64,
    "start_time": "2024-10-08T19:12:20.156Z"
   },
   {
    "duration": 137,
    "start_time": "2024-10-08T19:12:23.567Z"
   },
   {
    "duration": 17,
    "start_time": "2024-10-08T19:14:36.369Z"
   },
   {
    "duration": 9,
    "start_time": "2024-10-08T19:15:17.220Z"
   },
   {
    "duration": 6455,
    "start_time": "2024-10-08T19:15:31.302Z"
   },
   {
    "duration": 17,
    "start_time": "2024-10-08T19:15:37.759Z"
   },
   {
    "duration": 9,
    "start_time": "2024-10-08T19:17:35.690Z"
   },
   {
    "duration": 2350,
    "start_time": "2024-10-08T19:23:59.616Z"
   },
   {
    "duration": 20,
    "start_time": "2024-10-08T19:24:01.968Z"
   },
   {
    "duration": 9,
    "start_time": "2024-10-08T19:24:50.581Z"
   },
   {
    "duration": 8,
    "start_time": "2024-10-08T19:24:50.909Z"
   },
   {
    "duration": 9,
    "start_time": "2024-10-08T19:24:51.425Z"
   },
   {
    "duration": 2234,
    "start_time": "2024-10-08T19:25:22.336Z"
   },
   {
    "duration": 2981,
    "start_time": "2024-10-08T19:25:24.573Z"
   },
   {
    "duration": 1330,
    "start_time": "2024-10-08T19:25:27.556Z"
   },
   {
    "duration": 53,
    "start_time": "2024-10-08T19:25:28.888Z"
   },
   {
    "duration": 3,
    "start_time": "2024-10-08T19:25:28.943Z"
   },
   {
    "duration": 18,
    "start_time": "2024-10-08T19:25:28.947Z"
   },
   {
    "duration": 8,
    "start_time": "2024-10-08T19:25:28.966Z"
   },
   {
    "duration": 708,
    "start_time": "2024-10-08T19:25:28.975Z"
   },
   {
    "duration": 208,
    "start_time": "2024-10-08T19:25:29.684Z"
   },
   {
    "duration": 16,
    "start_time": "2024-10-08T19:25:29.894Z"
   },
   {
    "duration": 264,
    "start_time": "2024-10-08T19:25:29.911Z"
   },
   {
    "duration": 3,
    "start_time": "2024-10-08T19:25:30.176Z"
   },
   {
    "duration": 27,
    "start_time": "2024-10-08T19:25:30.181Z"
   },
   {
    "duration": 37,
    "start_time": "2024-10-08T19:25:30.210Z"
   },
   {
    "duration": 147,
    "start_time": "2024-10-08T19:25:30.249Z"
   },
   {
    "duration": 0,
    "start_time": "2024-10-08T19:25:30.397Z"
   },
   {
    "duration": 0,
    "start_time": "2024-10-08T19:25:30.399Z"
   },
   {
    "duration": 2,
    "start_time": "2024-10-08T19:25:56.557Z"
   },
   {
    "duration": 9286,
    "start_time": "2024-10-08T19:26:02.338Z"
   },
   {
    "duration": 31,
    "start_time": "2024-10-08T19:26:11.937Z"
   },
   {
    "duration": 9,
    "start_time": "2024-10-08T19:26:12.280Z"
   },
   {
    "duration": 9,
    "start_time": "2024-10-08T19:26:20.025Z"
   },
   {
    "duration": 9,
    "start_time": "2024-10-08T19:26:25.088Z"
   },
   {
    "duration": 6415,
    "start_time": "2024-10-10T13:46:25.759Z"
   },
   {
    "duration": 2428,
    "start_time": "2024-10-10T13:46:32.177Z"
   },
   {
    "duration": 1945,
    "start_time": "2024-10-10T13:46:34.608Z"
   },
   {
    "duration": 3,
    "start_time": "2024-10-10T13:46:36.555Z"
   },
   {
    "duration": 134,
    "start_time": "2024-10-10T13:46:36.560Z"
   },
   {
    "duration": 3,
    "start_time": "2024-10-10T13:46:36.695Z"
   },
   {
    "duration": 73,
    "start_time": "2024-10-10T13:46:36.700Z"
   },
   {
    "duration": 11,
    "start_time": "2024-10-10T13:46:36.775Z"
   },
   {
    "duration": 1004,
    "start_time": "2024-10-10T13:46:36.788Z"
   },
   {
    "duration": 239,
    "start_time": "2024-10-10T13:46:37.796Z"
   },
   {
    "duration": 7,
    "start_time": "2024-10-10T13:46:38.036Z"
   },
   {
    "duration": 292,
    "start_time": "2024-10-10T13:46:38.052Z"
   },
   {
    "duration": 7,
    "start_time": "2024-10-10T13:46:38.346Z"
   },
   {
    "duration": 34,
    "start_time": "2024-10-10T13:46:38.355Z"
   },
   {
    "duration": 11,
    "start_time": "2024-10-10T13:46:43.683Z"
   },
   {
    "duration": 2446,
    "start_time": "2024-10-10T14:06:13.765Z"
   },
   {
    "duration": 2426,
    "start_time": "2024-10-10T14:06:16.213Z"
   },
   {
    "duration": 1375,
    "start_time": "2024-10-10T14:06:18.642Z"
   },
   {
    "duration": 3,
    "start_time": "2024-10-10T14:06:20.019Z"
   },
   {
    "duration": 75,
    "start_time": "2024-10-10T14:06:20.024Z"
   },
   {
    "duration": 3,
    "start_time": "2024-10-10T14:06:20.100Z"
   },
   {
    "duration": 29,
    "start_time": "2024-10-10T14:06:20.105Z"
   },
   {
    "duration": 9,
    "start_time": "2024-10-10T14:06:20.136Z"
   },
   {
    "duration": 727,
    "start_time": "2024-10-10T14:06:20.146Z"
   },
   {
    "duration": 240,
    "start_time": "2024-10-10T14:06:20.875Z"
   },
   {
    "duration": 7,
    "start_time": "2024-10-10T14:06:21.116Z"
   },
   {
    "duration": 258,
    "start_time": "2024-10-10T14:06:21.125Z"
   },
   {
    "duration": 4,
    "start_time": "2024-10-10T14:06:21.385Z"
   },
   {
    "duration": 36,
    "start_time": "2024-10-10T14:06:21.391Z"
   },
   {
    "duration": 9,
    "start_time": "2024-10-10T14:06:21.429Z"
   },
   {
    "duration": 2361,
    "start_time": "2024-10-10T14:09:09.714Z"
   },
   {
    "duration": 2407,
    "start_time": "2024-10-10T14:09:12.079Z"
   },
   {
    "duration": 1269,
    "start_time": "2024-10-10T14:09:14.488Z"
   },
   {
    "duration": 2,
    "start_time": "2024-10-10T14:09:15.759Z"
   },
   {
    "duration": 64,
    "start_time": "2024-10-10T14:09:15.763Z"
   },
   {
    "duration": 3,
    "start_time": "2024-10-10T14:09:15.829Z"
   },
   {
    "duration": 28,
    "start_time": "2024-10-10T14:09:15.834Z"
   },
   {
    "duration": 8,
    "start_time": "2024-10-10T14:09:15.864Z"
   },
   {
    "duration": 719,
    "start_time": "2024-10-10T14:09:15.874Z"
   },
   {
    "duration": 220,
    "start_time": "2024-10-10T14:09:16.595Z"
   },
   {
    "duration": 7,
    "start_time": "2024-10-10T14:09:16.817Z"
   },
   {
    "duration": 265,
    "start_time": "2024-10-10T14:09:16.825Z"
   },
   {
    "duration": 3,
    "start_time": "2024-10-10T14:09:17.092Z"
   },
   {
    "duration": 39,
    "start_time": "2024-10-10T14:09:17.097Z"
   },
   {
    "duration": 8,
    "start_time": "2024-10-10T14:09:17.138Z"
   },
   {
    "duration": 120,
    "start_time": "2024-10-10T14:20:49.301Z"
   },
   {
    "duration": 10,
    "start_time": "2024-10-10T14:20:50.231Z"
   },
   {
    "duration": 10,
    "start_time": "2024-10-10T14:20:51.083Z"
   },
   {
    "duration": 4,
    "start_time": "2024-10-10T14:21:02.828Z"
   },
   {
    "duration": 12,
    "start_time": "2024-10-10T14:21:06.331Z"
   },
   {
    "duration": 2377,
    "start_time": "2024-10-10T14:27:37.389Z"
   },
   {
    "duration": 2423,
    "start_time": "2024-10-10T14:27:39.770Z"
   },
   {
    "duration": 2298,
    "start_time": "2024-10-10T14:27:42.195Z"
   },
   {
    "duration": 3,
    "start_time": "2024-10-10T14:27:44.494Z"
   },
   {
    "duration": 54,
    "start_time": "2024-10-10T14:27:44.499Z"
   },
   {
    "duration": 3,
    "start_time": "2024-10-10T14:27:44.555Z"
   },
   {
    "duration": 23,
    "start_time": "2024-10-10T14:27:44.560Z"
   },
   {
    "duration": 8,
    "start_time": "2024-10-10T14:27:44.585Z"
   },
   {
    "duration": 770,
    "start_time": "2024-10-10T14:27:44.595Z"
   },
   {
    "duration": 244,
    "start_time": "2024-10-10T14:27:45.367Z"
   },
   {
    "duration": 7,
    "start_time": "2024-10-10T14:27:45.613Z"
   },
   {
    "duration": 286,
    "start_time": "2024-10-10T14:27:45.622Z"
   },
   {
    "duration": 3,
    "start_time": "2024-10-10T14:27:45.910Z"
   },
   {
    "duration": 11,
    "start_time": "2024-10-10T14:27:45.916Z"
   },
   {
    "duration": 81,
    "start_time": "2024-10-10T14:27:45.929Z"
   },
   {
    "duration": 2449,
    "start_time": "2024-10-10T14:31:00.631Z"
   },
   {
    "duration": 2437,
    "start_time": "2024-10-10T14:31:03.083Z"
   },
   {
    "duration": 1391,
    "start_time": "2024-10-10T14:31:05.522Z"
   },
   {
    "duration": 3,
    "start_time": "2024-10-10T14:31:06.915Z"
   },
   {
    "duration": 64,
    "start_time": "2024-10-10T14:31:06.920Z"
   },
   {
    "duration": 3,
    "start_time": "2024-10-10T14:31:06.986Z"
   },
   {
    "duration": 33,
    "start_time": "2024-10-10T14:31:06.991Z"
   },
   {
    "duration": 11,
    "start_time": "2024-10-10T14:31:07.025Z"
   },
   {
    "duration": 718,
    "start_time": "2024-10-10T14:31:07.038Z"
   },
   {
    "duration": 216,
    "start_time": "2024-10-10T14:31:07.758Z"
   },
   {
    "duration": 6,
    "start_time": "2024-10-10T14:31:07.976Z"
   },
   {
    "duration": 279,
    "start_time": "2024-10-10T14:31:07.984Z"
   },
   {
    "duration": 5,
    "start_time": "2024-10-10T14:31:08.264Z"
   },
   {
    "duration": 10,
    "start_time": "2024-10-10T14:31:08.272Z"
   },
   {
    "duration": 11,
    "start_time": "2024-10-10T14:31:08.283Z"
   },
   {
    "duration": 28664,
    "start_time": "2024-10-10T14:31:08.297Z"
   },
   {
    "duration": 93,
    "start_time": "2024-10-10T14:31:36.963Z"
   },
   {
    "duration": 134096,
    "start_time": "2024-10-10T14:31:37.059Z"
   },
   {
    "duration": 171,
    "start_time": "2024-10-10T14:33:51.156Z"
   },
   {
    "duration": 40,
    "start_time": "2024-10-10T14:33:51.329Z"
   },
   {
    "duration": 5,
    "start_time": "2024-10-10T14:33:51.371Z"
   },
   {
    "duration": 134,
    "start_time": "2024-10-10T14:33:51.378Z"
   },
   {
    "duration": 133,
    "start_time": "2024-10-10T14:33:51.513Z"
   },
   {
    "duration": 0,
    "start_time": "2024-10-10T14:33:51.653Z"
   },
   {
    "duration": 0,
    "start_time": "2024-10-10T14:33:51.654Z"
   },
   {
    "duration": 0,
    "start_time": "2024-10-10T14:33:51.655Z"
   },
   {
    "duration": 3,
    "start_time": "2024-10-10T14:34:30.890Z"
   },
   {
    "duration": 10,
    "start_time": "2024-10-10T14:34:51.353Z"
   },
   {
    "duration": 85,
    "start_time": "2024-10-10T14:34:52.238Z"
   },
   {
    "duration": 116,
    "start_time": "2024-10-10T14:34:53.410Z"
   },
   {
    "duration": 10,
    "start_time": "2024-10-10T14:34:54.438Z"
   },
   {
    "duration": 10,
    "start_time": "2024-10-10T14:35:00.814Z"
   },
   {
    "duration": 9,
    "start_time": "2024-10-10T14:38:57.807Z"
   },
   {
    "duration": 10,
    "start_time": "2024-10-10T14:38:58.167Z"
   },
   {
    "duration": 35,
    "start_time": "2024-10-10T14:38:58.500Z"
   },
   {
    "duration": 10,
    "start_time": "2024-10-10T14:38:58.917Z"
   },
   {
    "duration": 12,
    "start_time": "2024-10-10T14:40:03.019Z"
   },
   {
    "duration": 3171,
    "start_time": "2024-10-10T14:43:11.125Z"
   },
   {
    "duration": 2347,
    "start_time": "2024-10-10T14:43:14.298Z"
   },
   {
    "duration": 1279,
    "start_time": "2024-10-10T14:43:16.647Z"
   },
   {
    "duration": 3,
    "start_time": "2024-10-10T14:43:17.927Z"
   },
   {
    "duration": 68,
    "start_time": "2024-10-10T14:43:17.932Z"
   },
   {
    "duration": 15,
    "start_time": "2024-10-10T14:43:18.002Z"
   },
   {
    "duration": 29,
    "start_time": "2024-10-10T14:43:18.018Z"
   },
   {
    "duration": 16,
    "start_time": "2024-10-10T14:43:18.049Z"
   },
   {
    "duration": 683,
    "start_time": "2024-10-10T14:43:18.067Z"
   },
   {
    "duration": 210,
    "start_time": "2024-10-10T14:43:18.751Z"
   },
   {
    "duration": 7,
    "start_time": "2024-10-10T14:43:18.963Z"
   },
   {
    "duration": 266,
    "start_time": "2024-10-10T14:43:18.971Z"
   },
   {
    "duration": 4,
    "start_time": "2024-10-10T14:43:19.238Z"
   },
   {
    "duration": 45,
    "start_time": "2024-10-10T14:43:19.252Z"
   },
   {
    "duration": 10,
    "start_time": "2024-10-10T14:43:19.299Z"
   },
   {
    "duration": 3551,
    "start_time": "2024-10-10T14:43:19.311Z"
   },
   {
    "duration": 96,
    "start_time": "2024-10-10T14:43:22.864Z"
   },
   {
    "duration": 17193,
    "start_time": "2024-10-10T14:43:22.962Z"
   },
   {
    "duration": 28,
    "start_time": "2024-10-10T14:43:40.157Z"
   },
   {
    "duration": 5,
    "start_time": "2024-10-10T14:43:40.187Z"
   },
   {
    "duration": 149,
    "start_time": "2024-10-10T14:43:40.193Z"
   },
   {
    "duration": 12,
    "start_time": "2024-10-10T14:43:40.344Z"
   },
   {
    "duration": 96,
    "start_time": "2024-10-10T14:43:40.357Z"
   },
   {
    "duration": 124,
    "start_time": "2024-10-10T14:43:40.455Z"
   },
   {
    "duration": 7,
    "start_time": "2024-10-10T14:43:40.580Z"
   },
   {
    "duration": 66,
    "start_time": "2024-10-10T14:43:40.589Z"
   },
   {
    "duration": 125,
    "start_time": "2024-10-10T14:43:40.658Z"
   },
   {
    "duration": 79,
    "start_time": "2024-10-10T14:43:40.784Z"
   },
   {
    "duration": 68,
    "start_time": "2024-10-10T14:46:42.775Z"
   },
   {
    "duration": 117,
    "start_time": "2024-10-10T14:46:50.647Z"
   },
   {
    "duration": 4,
    "start_time": "2024-10-10T14:47:11.725Z"
   },
   {
    "duration": 9,
    "start_time": "2024-10-10T14:47:15.595Z"
   },
   {
    "duration": 148,
    "start_time": "2024-10-10T14:55:21.849Z"
   },
   {
    "duration": 2380,
    "start_time": "2024-10-10T15:16:24.710Z"
   },
   {
    "duration": 2379,
    "start_time": "2024-10-10T15:16:27.093Z"
   },
   {
    "duration": 1285,
    "start_time": "2024-10-10T15:16:29.474Z"
   },
   {
    "duration": 3,
    "start_time": "2024-10-10T15:16:30.760Z"
   },
   {
    "duration": 61,
    "start_time": "2024-10-10T15:16:30.764Z"
   },
   {
    "duration": 3,
    "start_time": "2024-10-10T15:16:30.826Z"
   },
   {
    "duration": 32,
    "start_time": "2024-10-10T15:16:30.830Z"
   },
   {
    "duration": 12,
    "start_time": "2024-10-10T15:16:30.863Z"
   },
   {
    "duration": 18,
    "start_time": "2024-10-10T15:16:30.876Z"
   },
   {
    "duration": 693,
    "start_time": "2024-10-10T15:16:30.898Z"
   },
   {
    "duration": 221,
    "start_time": "2024-10-10T15:16:31.592Z"
   },
   {
    "duration": 7,
    "start_time": "2024-10-10T15:16:31.815Z"
   },
   {
    "duration": 272,
    "start_time": "2024-10-10T15:16:31.823Z"
   },
   {
    "duration": 4,
    "start_time": "2024-10-10T15:16:32.097Z"
   },
   {
    "duration": 29,
    "start_time": "2024-10-10T15:16:32.102Z"
   },
   {
    "duration": 13,
    "start_time": "2024-10-10T15:16:32.133Z"
   },
   {
    "duration": 2417,
    "start_time": "2024-10-10T15:20:54.992Z"
   },
   {
    "duration": 2368,
    "start_time": "2024-10-10T15:20:57.412Z"
   },
   {
    "duration": 1330,
    "start_time": "2024-10-10T15:20:59.783Z"
   },
   {
    "duration": 3,
    "start_time": "2024-10-10T15:21:01.115Z"
   },
   {
    "duration": 67,
    "start_time": "2024-10-10T15:21:01.120Z"
   },
   {
    "duration": 3,
    "start_time": "2024-10-10T15:21:01.188Z"
   },
   {
    "duration": 26,
    "start_time": "2024-10-10T15:21:01.192Z"
   },
   {
    "duration": 3,
    "start_time": "2024-10-10T15:21:01.220Z"
   },
   {
    "duration": 15,
    "start_time": "2024-10-10T15:21:01.224Z"
   },
   {
    "duration": 720,
    "start_time": "2024-10-10T15:21:01.241Z"
   },
   {
    "duration": 235,
    "start_time": "2024-10-10T15:21:01.963Z"
   },
   {
    "duration": 8,
    "start_time": "2024-10-10T15:21:02.200Z"
   },
   {
    "duration": 300,
    "start_time": "2024-10-10T15:21:02.209Z"
   },
   {
    "duration": 4,
    "start_time": "2024-10-10T15:21:02.513Z"
   },
   {
    "duration": 49,
    "start_time": "2024-10-10T15:21:02.518Z"
   },
   {
    "duration": 19,
    "start_time": "2024-10-10T15:21:02.568Z"
   },
   {
    "duration": 23276,
    "start_time": "2024-10-10T15:21:02.588Z"
   },
   {
    "duration": 91,
    "start_time": "2024-10-10T15:21:25.866Z"
   },
   {
    "duration": 115999,
    "start_time": "2024-10-10T15:21:25.959Z"
   },
   {
    "duration": 34,
    "start_time": "2024-10-10T15:23:21.961Z"
   },
   {
    "duration": 5,
    "start_time": "2024-10-10T15:23:21.997Z"
   },
   {
    "duration": 189,
    "start_time": "2024-10-10T15:23:22.004Z"
   },
   {
    "duration": 10,
    "start_time": "2024-10-10T15:23:22.195Z"
   },
   {
    "duration": 103,
    "start_time": "2024-10-10T15:23:22.207Z"
   },
   {
    "duration": 145,
    "start_time": "2024-10-10T15:23:22.311Z"
   },
   {
    "duration": 8,
    "start_time": "2024-10-10T15:23:22.457Z"
   },
   {
    "duration": 197,
    "start_time": "2024-10-10T15:23:22.466Z"
   },
   {
    "duration": 198,
    "start_time": "2024-10-10T15:23:22.665Z"
   },
   {
    "duration": 11,
    "start_time": "2024-10-10T15:23:22.865Z"
   },
   {
    "duration": 177,
    "start_time": "2024-10-10T15:23:22.878Z"
   },
   {
    "duration": 2373,
    "start_time": "2024-10-10T15:24:09.106Z"
   },
   {
    "duration": 2359,
    "start_time": "2024-10-10T15:24:11.481Z"
   },
   {
    "duration": 1446,
    "start_time": "2024-10-10T15:24:13.842Z"
   },
   {
    "duration": 3,
    "start_time": "2024-10-10T15:24:15.289Z"
   },
   {
    "duration": 105,
    "start_time": "2024-10-10T15:24:15.294Z"
   },
   {
    "duration": 4,
    "start_time": "2024-10-10T15:24:15.401Z"
   },
   {
    "duration": 65,
    "start_time": "2024-10-10T15:24:15.407Z"
   },
   {
    "duration": 6,
    "start_time": "2024-10-10T15:24:15.474Z"
   },
   {
    "duration": 22,
    "start_time": "2024-10-10T15:24:15.481Z"
   },
   {
    "duration": 717,
    "start_time": "2024-10-10T15:24:15.505Z"
   },
   {
    "duration": 226,
    "start_time": "2024-10-10T15:24:16.223Z"
   },
   {
    "duration": 7,
    "start_time": "2024-10-10T15:24:16.451Z"
   },
   {
    "duration": 286,
    "start_time": "2024-10-10T15:24:16.460Z"
   },
   {
    "duration": 5,
    "start_time": "2024-10-10T15:24:16.752Z"
   },
   {
    "duration": 13,
    "start_time": "2024-10-10T15:24:16.759Z"
   },
   {
    "duration": 12,
    "start_time": "2024-10-10T15:24:16.774Z"
   },
   {
    "duration": 6677,
    "start_time": "2024-10-10T15:24:16.787Z"
   },
   {
    "duration": 93,
    "start_time": "2024-10-10T15:24:23.466Z"
   },
   {
    "duration": 33608,
    "start_time": "2024-10-10T15:24:23.561Z"
   },
   {
    "duration": 87,
    "start_time": "2024-10-10T15:24:57.171Z"
   },
   {
    "duration": 8,
    "start_time": "2024-10-10T15:24:57.261Z"
   },
   {
    "duration": 148,
    "start_time": "2024-10-10T15:24:57.271Z"
   },
   {
    "duration": 10,
    "start_time": "2024-10-10T15:24:57.421Z"
   },
   {
    "duration": 140,
    "start_time": "2024-10-10T15:24:57.433Z"
   },
   {
    "duration": 127,
    "start_time": "2024-10-10T15:24:57.575Z"
   },
   {
    "duration": 7,
    "start_time": "2024-10-10T15:24:57.704Z"
   },
   {
    "duration": 240,
    "start_time": "2024-10-10T15:24:57.714Z"
   },
   {
    "duration": 124,
    "start_time": "2024-10-10T15:24:57.958Z"
   },
   {
    "duration": 82,
    "start_time": "2024-10-10T15:24:58.084Z"
   },
   {
    "duration": 94,
    "start_time": "2024-10-10T15:24:58.172Z"
   },
   {
    "duration": 2424,
    "start_time": "2024-10-10T15:25:55.769Z"
   },
   {
    "duration": 2354,
    "start_time": "2024-10-10T15:25:58.195Z"
   },
   {
    "duration": 1305,
    "start_time": "2024-10-10T15:26:00.554Z"
   },
   {
    "duration": 3,
    "start_time": "2024-10-10T15:26:01.861Z"
   },
   {
    "duration": 72,
    "start_time": "2024-10-10T15:26:01.865Z"
   },
   {
    "duration": 2,
    "start_time": "2024-10-10T15:26:01.939Z"
   },
   {
    "duration": 39,
    "start_time": "2024-10-10T15:26:01.943Z"
   },
   {
    "duration": 17,
    "start_time": "2024-10-10T15:26:01.983Z"
   },
   {
    "duration": 56,
    "start_time": "2024-10-10T15:26:02.002Z"
   },
   {
    "duration": 796,
    "start_time": "2024-10-10T15:26:02.060Z"
   },
   {
    "duration": 235,
    "start_time": "2024-10-10T15:26:02.857Z"
   },
   {
    "duration": 8,
    "start_time": "2024-10-10T15:26:03.093Z"
   },
   {
    "duration": 288,
    "start_time": "2024-10-10T15:26:03.103Z"
   },
   {
    "duration": 4,
    "start_time": "2024-10-10T15:26:03.392Z"
   },
   {
    "duration": 79,
    "start_time": "2024-10-10T15:26:03.397Z"
   },
   {
    "duration": 33,
    "start_time": "2024-10-10T15:26:03.478Z"
   },
   {
    "duration": 12851,
    "start_time": "2024-10-10T15:26:03.513Z"
   },
   {
    "duration": 89,
    "start_time": "2024-10-10T15:26:16.365Z"
   },
   {
    "duration": 64217,
    "start_time": "2024-10-10T15:26:16.456Z"
   },
   {
    "duration": 99,
    "start_time": "2024-10-10T15:27:20.675Z"
   },
   {
    "duration": 35,
    "start_time": "2024-10-10T15:27:20.776Z"
   },
   {
    "duration": 125,
    "start_time": "2024-10-10T15:27:20.812Z"
   },
   {
    "duration": 10,
    "start_time": "2024-10-10T15:27:20.939Z"
   },
   {
    "duration": 137,
    "start_time": "2024-10-10T15:27:20.950Z"
   },
   {
    "duration": 126,
    "start_time": "2024-10-10T15:27:21.088Z"
   },
   {
    "duration": 9,
    "start_time": "2024-10-10T15:27:21.215Z"
   },
   {
    "duration": 132,
    "start_time": "2024-10-10T15:27:21.226Z"
   },
   {
    "duration": 198,
    "start_time": "2024-10-10T15:27:21.360Z"
   },
   {
    "duration": 15,
    "start_time": "2024-10-10T15:27:21.561Z"
   },
   {
    "duration": 92,
    "start_time": "2024-10-10T15:27:21.578Z"
   },
   {
    "duration": 8,
    "start_time": "2024-10-10T15:27:41.392Z"
   },
   {
    "duration": 17184,
    "start_time": "2024-10-10T15:28:02.375Z"
   },
   {
    "duration": 93,
    "start_time": "2024-10-10T15:28:19.562Z"
   },
   {
    "duration": 119997,
    "start_time": "2024-10-10T15:28:19.658Z"
   },
   {
    "duration": 10,
    "start_time": "2024-10-10T15:30:19.657Z"
   },
   {
    "duration": 5,
    "start_time": "2024-10-10T15:30:29.240Z"
   },
   {
    "duration": 20,
    "start_time": "2024-10-10T15:30:36.863Z"
   },
   {
    "duration": 22716,
    "start_time": "2024-10-10T15:31:05.842Z"
   },
   {
    "duration": 93,
    "start_time": "2024-10-10T15:31:28.560Z"
   },
   {
    "duration": 132005,
    "start_time": "2024-10-10T15:31:28.655Z"
   },
   {
    "duration": 11,
    "start_time": "2024-10-10T15:33:40.662Z"
   },
   {
    "duration": 15,
    "start_time": "2024-10-10T15:33:51.357Z"
   },
   {
    "duration": 115,
    "start_time": "2024-10-10T15:38:54.782Z"
   },
   {
    "duration": 9,
    "start_time": "2024-10-10T15:38:55.190Z"
   },
   {
    "duration": 2456,
    "start_time": "2024-10-10T15:41:21.227Z"
   },
   {
    "duration": 2445,
    "start_time": "2024-10-10T15:41:23.685Z"
   },
   {
    "duration": 1382,
    "start_time": "2024-10-10T15:41:26.132Z"
   },
   {
    "duration": 3,
    "start_time": "2024-10-10T15:41:27.515Z"
   },
   {
    "duration": 56,
    "start_time": "2024-10-10T15:41:27.520Z"
   },
   {
    "duration": 2,
    "start_time": "2024-10-10T15:41:27.578Z"
   },
   {
    "duration": 22,
    "start_time": "2024-10-10T15:41:27.582Z"
   },
   {
    "duration": 3,
    "start_time": "2024-10-10T15:41:27.606Z"
   },
   {
    "duration": 13,
    "start_time": "2024-10-10T15:41:27.611Z"
   },
   {
    "duration": 745,
    "start_time": "2024-10-10T15:41:27.626Z"
   },
   {
    "duration": 221,
    "start_time": "2024-10-10T15:41:28.373Z"
   },
   {
    "duration": 9,
    "start_time": "2024-10-10T15:41:28.596Z"
   },
   {
    "duration": 296,
    "start_time": "2024-10-10T15:41:28.606Z"
   },
   {
    "duration": 3,
    "start_time": "2024-10-10T15:41:28.905Z"
   },
   {
    "duration": 12,
    "start_time": "2024-10-10T15:41:28.910Z"
   },
   {
    "duration": 10,
    "start_time": "2024-10-10T15:41:28.924Z"
   },
   {
    "duration": 2373,
    "start_time": "2024-10-10T15:46:08.078Z"
   },
   {
    "duration": 2449,
    "start_time": "2024-10-10T15:46:10.453Z"
   },
   {
    "duration": 1387,
    "start_time": "2024-10-10T15:46:12.904Z"
   },
   {
    "duration": 3,
    "start_time": "2024-10-10T15:46:14.294Z"
   },
   {
    "duration": 67,
    "start_time": "2024-10-10T15:46:14.300Z"
   },
   {
    "duration": 2,
    "start_time": "2024-10-10T15:46:14.369Z"
   },
   {
    "duration": 69,
    "start_time": "2024-10-10T15:46:14.373Z"
   },
   {
    "duration": 6,
    "start_time": "2024-10-10T15:46:14.444Z"
   },
   {
    "duration": 45,
    "start_time": "2024-10-10T15:46:14.452Z"
   },
   {
    "duration": 779,
    "start_time": "2024-10-10T15:46:14.499Z"
   },
   {
    "duration": 221,
    "start_time": "2024-10-10T15:46:15.280Z"
   },
   {
    "duration": 8,
    "start_time": "2024-10-10T15:46:15.503Z"
   },
   {
    "duration": 382,
    "start_time": "2024-10-10T15:46:15.513Z"
   },
   {
    "duration": 4,
    "start_time": "2024-10-10T15:46:15.898Z"
   },
   {
    "duration": 20,
    "start_time": "2024-10-10T15:46:15.903Z"
   },
   {
    "duration": 10,
    "start_time": "2024-10-10T15:46:15.925Z"
   },
   {
    "duration": 2435,
    "start_time": "2024-10-10T15:50:12.127Z"
   },
   {
    "duration": 2403,
    "start_time": "2024-10-10T15:50:14.564Z"
   },
   {
    "duration": 1350,
    "start_time": "2024-10-10T15:50:16.970Z"
   },
   {
    "duration": 3,
    "start_time": "2024-10-10T15:50:18.321Z"
   },
   {
    "duration": 61,
    "start_time": "2024-10-10T15:50:18.326Z"
   },
   {
    "duration": 3,
    "start_time": "2024-10-10T15:50:18.389Z"
   },
   {
    "duration": 38,
    "start_time": "2024-10-10T15:50:18.394Z"
   },
   {
    "duration": 3,
    "start_time": "2024-10-10T15:50:18.434Z"
   },
   {
    "duration": 8,
    "start_time": "2024-10-10T15:50:18.438Z"
   },
   {
    "duration": 713,
    "start_time": "2024-10-10T15:50:18.448Z"
   },
   {
    "duration": 235,
    "start_time": "2024-10-10T15:50:19.162Z"
   },
   {
    "duration": 6,
    "start_time": "2024-10-10T15:50:19.399Z"
   },
   {
    "duration": 273,
    "start_time": "2024-10-10T15:50:19.407Z"
   },
   {
    "duration": 4,
    "start_time": "2024-10-10T15:50:19.682Z"
   },
   {
    "duration": 11,
    "start_time": "2024-10-10T15:50:19.687Z"
   },
   {
    "duration": 9,
    "start_time": "2024-10-10T15:50:19.699Z"
   },
   {
    "duration": 229884,
    "start_time": "2024-10-10T15:50:19.709Z"
   },
   {
    "duration": 0,
    "start_time": "2024-10-10T15:54:09.595Z"
   },
   {
    "duration": 0,
    "start_time": "2024-10-10T15:54:09.596Z"
   },
   {
    "duration": 0,
    "start_time": "2024-10-10T15:54:09.598Z"
   },
   {
    "duration": 0,
    "start_time": "2024-10-10T15:54:09.599Z"
   },
   {
    "duration": 0,
    "start_time": "2024-10-10T15:54:09.600Z"
   },
   {
    "duration": 0,
    "start_time": "2024-10-10T15:54:09.601Z"
   },
   {
    "duration": 0,
    "start_time": "2024-10-10T15:54:09.602Z"
   },
   {
    "duration": 0,
    "start_time": "2024-10-10T15:54:09.603Z"
   },
   {
    "duration": 0,
    "start_time": "2024-10-10T15:54:09.604Z"
   },
   {
    "duration": 0,
    "start_time": "2024-10-10T15:54:09.605Z"
   },
   {
    "duration": 0,
    "start_time": "2024-10-10T15:54:09.605Z"
   },
   {
    "duration": 0,
    "start_time": "2024-10-10T15:54:09.606Z"
   },
   {
    "duration": 0,
    "start_time": "2024-10-10T15:54:09.607Z"
   },
   {
    "duration": 16311,
    "start_time": "2024-10-10T15:55:06.643Z"
   },
   {
    "duration": 12,
    "start_time": "2024-10-10T15:55:24.705Z"
   },
   {
    "duration": 79987,
    "start_time": "2024-10-10T15:55:26.874Z"
   },
   {
    "duration": 27,
    "start_time": "2024-10-10T15:56:46.863Z"
   },
   {
    "duration": 61,
    "start_time": "2024-10-10T15:56:46.892Z"
   },
   {
    "duration": 126,
    "start_time": "2024-10-10T15:56:46.955Z"
   },
   {
    "duration": 11,
    "start_time": "2024-10-10T15:56:47.083Z"
   },
   {
    "duration": 104,
    "start_time": "2024-10-10T15:56:47.096Z"
   },
   {
    "duration": 151,
    "start_time": "2024-10-10T15:56:47.202Z"
   },
   {
    "duration": 9,
    "start_time": "2024-10-10T15:56:47.355Z"
   },
   {
    "duration": 11,
    "start_time": "2024-10-10T15:56:47.365Z"
   },
   {
    "duration": 127,
    "start_time": "2024-10-10T15:56:47.453Z"
   },
   {
    "duration": 79,
    "start_time": "2024-10-10T15:56:47.582Z"
   },
   {
    "duration": 0,
    "start_time": "2024-10-10T15:56:47.663Z"
   },
   {
    "duration": 10,
    "start_time": "2024-10-10T15:57:10.223Z"
   },
   {
    "duration": 9,
    "start_time": "2024-10-10T15:57:22.170Z"
   },
   {
    "duration": 6,
    "start_time": "2024-10-10T15:57:32.795Z"
   },
   {
    "duration": 73366,
    "start_time": "2024-10-10T15:58:14.892Z"
   },
   {
    "duration": 13,
    "start_time": "2024-10-10T15:59:28.260Z"
   },
   {
    "duration": 2399,
    "start_time": "2024-10-10T16:01:50.785Z"
   },
   {
    "duration": 2398,
    "start_time": "2024-10-10T16:01:53.187Z"
   },
   {
    "duration": 1288,
    "start_time": "2024-10-10T16:01:55.587Z"
   },
   {
    "duration": 3,
    "start_time": "2024-10-10T16:01:56.877Z"
   },
   {
    "duration": 68,
    "start_time": "2024-10-10T16:01:56.882Z"
   },
   {
    "duration": 3,
    "start_time": "2024-10-10T16:01:56.952Z"
   },
   {
    "duration": 24,
    "start_time": "2024-10-10T16:01:56.957Z"
   },
   {
    "duration": 3,
    "start_time": "2024-10-10T16:01:56.983Z"
   },
   {
    "duration": 18,
    "start_time": "2024-10-10T16:01:56.987Z"
   },
   {
    "duration": 753,
    "start_time": "2024-10-10T16:01:57.007Z"
   },
   {
    "duration": 234,
    "start_time": "2024-10-10T16:01:57.761Z"
   },
   {
    "duration": 8,
    "start_time": "2024-10-10T16:01:57.997Z"
   },
   {
    "duration": 299,
    "start_time": "2024-10-10T16:01:58.006Z"
   },
   {
    "duration": 3,
    "start_time": "2024-10-10T16:01:58.310Z"
   },
   {
    "duration": 11,
    "start_time": "2024-10-10T16:01:58.315Z"
   },
   {
    "duration": 25,
    "start_time": "2024-10-10T16:01:58.328Z"
   },
   {
    "duration": 35802,
    "start_time": "2024-10-10T16:01:58.355Z"
   },
   {
    "duration": 14,
    "start_time": "2024-10-10T16:02:34.159Z"
   },
   {
    "duration": 2687,
    "start_time": "2024-10-10T16:05:05.694Z"
   },
   {
    "duration": 2522,
    "start_time": "2024-10-10T16:05:08.384Z"
   },
   {
    "duration": 1495,
    "start_time": "2024-10-10T16:05:10.908Z"
   },
   {
    "duration": 3,
    "start_time": "2024-10-10T16:05:12.405Z"
   },
   {
    "duration": 91,
    "start_time": "2024-10-10T16:05:12.410Z"
   },
   {
    "duration": 4,
    "start_time": "2024-10-10T16:05:12.503Z"
   },
   {
    "duration": 23,
    "start_time": "2024-10-10T16:05:12.509Z"
   },
   {
    "duration": 19,
    "start_time": "2024-10-10T16:05:12.534Z"
   },
   {
    "duration": 14,
    "start_time": "2024-10-10T16:05:12.555Z"
   },
   {
    "duration": 851,
    "start_time": "2024-10-10T16:05:12.571Z"
   },
   {
    "duration": 281,
    "start_time": "2024-10-10T16:05:13.425Z"
   },
   {
    "duration": 9,
    "start_time": "2024-10-10T16:05:13.708Z"
   },
   {
    "duration": 331,
    "start_time": "2024-10-10T16:05:13.719Z"
   },
   {
    "duration": 12,
    "start_time": "2024-10-10T16:05:14.055Z"
   },
   {
    "duration": 18,
    "start_time": "2024-10-10T16:05:14.069Z"
   },
   {
    "duration": 23,
    "start_time": "2024-10-10T16:05:14.089Z"
   },
   {
    "duration": 88753,
    "start_time": "2024-10-10T16:05:14.113Z"
   },
   {
    "duration": 97,
    "start_time": "2024-10-10T16:06:42.868Z"
   },
   {
    "duration": 3346,
    "start_time": "2024-10-10T16:10:39.130Z"
   },
   {
    "duration": 2600,
    "start_time": "2024-10-10T16:10:42.480Z"
   },
   {
    "duration": 1406,
    "start_time": "2024-10-10T16:10:45.083Z"
   },
   {
    "duration": 2,
    "start_time": "2024-10-10T16:10:46.491Z"
   },
   {
    "duration": 57,
    "start_time": "2024-10-10T16:10:46.496Z"
   },
   {
    "duration": 3,
    "start_time": "2024-10-10T16:10:46.555Z"
   },
   {
    "duration": 20,
    "start_time": "2024-10-10T16:10:46.561Z"
   },
   {
    "duration": 3,
    "start_time": "2024-10-10T16:10:46.583Z"
   },
   {
    "duration": 14,
    "start_time": "2024-10-10T16:10:46.587Z"
   },
   {
    "duration": 784,
    "start_time": "2024-10-10T16:10:46.602Z"
   },
   {
    "duration": 265,
    "start_time": "2024-10-10T16:10:47.388Z"
   },
   {
    "duration": 8,
    "start_time": "2024-10-10T16:10:47.655Z"
   },
   {
    "duration": 273,
    "start_time": "2024-10-10T16:10:47.665Z"
   },
   {
    "duration": 3,
    "start_time": "2024-10-10T16:10:47.941Z"
   },
   {
    "duration": 16,
    "start_time": "2024-10-10T16:10:47.946Z"
   },
   {
    "duration": 11,
    "start_time": "2024-10-10T16:10:47.963Z"
   },
   {
    "duration": 3,
    "start_time": "2024-10-10T16:10:47.975Z"
   },
   {
    "duration": 89188,
    "start_time": "2024-10-10T16:10:47.980Z"
   },
   {
    "duration": 94,
    "start_time": "2024-10-10T16:12:17.172Z"
   },
   {
    "duration": 2417,
    "start_time": "2024-10-10T16:12:37.496Z"
   },
   {
    "duration": 2345,
    "start_time": "2024-10-10T16:12:39.915Z"
   },
   {
    "duration": 1291,
    "start_time": "2024-10-10T16:12:42.263Z"
   },
   {
    "duration": 3,
    "start_time": "2024-10-10T16:12:43.555Z"
   },
   {
    "duration": 102,
    "start_time": "2024-10-10T16:12:43.561Z"
   },
   {
    "duration": 3,
    "start_time": "2024-10-10T16:12:43.665Z"
   },
   {
    "duration": 20,
    "start_time": "2024-10-10T16:12:43.669Z"
   },
   {
    "duration": 4,
    "start_time": "2024-10-10T16:12:43.690Z"
   },
   {
    "duration": 10,
    "start_time": "2024-10-10T16:12:43.695Z"
   },
   {
    "duration": 789,
    "start_time": "2024-10-10T16:12:43.706Z"
   },
   {
    "duration": 228,
    "start_time": "2024-10-10T16:12:44.496Z"
   },
   {
    "duration": 7,
    "start_time": "2024-10-10T16:12:44.726Z"
   },
   {
    "duration": 278,
    "start_time": "2024-10-10T16:12:44.734Z"
   },
   {
    "duration": 4,
    "start_time": "2024-10-10T16:12:45.015Z"
   },
   {
    "duration": 155,
    "start_time": "2024-10-10T16:12:45.020Z"
   },
   {
    "duration": 23,
    "start_time": "2024-10-10T16:12:45.176Z"
   },
   {
    "duration": 20,
    "start_time": "2024-10-10T16:12:45.201Z"
   },
   {
    "duration": 86837,
    "start_time": "2024-10-10T16:12:45.222Z"
   },
   {
    "duration": 26,
    "start_time": "2024-10-10T16:14:12.062Z"
   },
   {
    "duration": 2320,
    "start_time": "2024-10-10T16:14:24.009Z"
   },
   {
    "duration": 2433,
    "start_time": "2024-10-10T16:14:26.332Z"
   },
   {
    "duration": 1265,
    "start_time": "2024-10-10T16:14:28.767Z"
   },
   {
    "duration": 3,
    "start_time": "2024-10-10T16:14:30.034Z"
   },
   {
    "duration": 102,
    "start_time": "2024-10-10T16:14:30.038Z"
   },
   {
    "duration": 3,
    "start_time": "2024-10-10T16:14:30.142Z"
   },
   {
    "duration": 23,
    "start_time": "2024-10-10T16:14:30.146Z"
   },
   {
    "duration": 3,
    "start_time": "2024-10-10T16:14:30.170Z"
   },
   {
    "duration": 18,
    "start_time": "2024-10-10T16:14:30.174Z"
   },
   {
    "duration": 769,
    "start_time": "2024-10-10T16:14:30.194Z"
   },
   {
    "duration": 216,
    "start_time": "2024-10-10T16:14:30.964Z"
   },
   {
    "duration": 6,
    "start_time": "2024-10-10T16:14:31.182Z"
   },
   {
    "duration": 272,
    "start_time": "2024-10-10T16:14:31.189Z"
   },
   {
    "duration": 4,
    "start_time": "2024-10-10T16:14:31.463Z"
   },
   {
    "duration": 114,
    "start_time": "2024-10-10T16:14:31.468Z"
   },
   {
    "duration": 23,
    "start_time": "2024-10-10T16:14:31.584Z"
   },
   {
    "duration": 49,
    "start_time": "2024-10-10T16:14:31.609Z"
   },
   {
    "duration": 25395,
    "start_time": "2024-10-10T16:14:31.660Z"
   },
   {
    "duration": 12,
    "start_time": "2024-10-10T16:14:57.056Z"
   },
   {
    "duration": 3392,
    "start_time": "2024-10-10T16:14:57.070Z"
   },
   {
    "duration": 109,
    "start_time": "2024-10-10T16:15:00.464Z"
   },
   {
    "duration": 7,
    "start_time": "2024-10-10T16:15:00.574Z"
   },
   {
    "duration": 180,
    "start_time": "2024-10-10T16:15:00.583Z"
   },
   {
    "duration": 0,
    "start_time": "2024-10-10T16:15:00.765Z"
   },
   {
    "duration": 0,
    "start_time": "2024-10-10T16:15:00.766Z"
   },
   {
    "duration": 0,
    "start_time": "2024-10-10T16:15:00.767Z"
   },
   {
    "duration": 0,
    "start_time": "2024-10-10T16:15:00.768Z"
   },
   {
    "duration": 0,
    "start_time": "2024-10-10T16:15:00.769Z"
   },
   {
    "duration": 0,
    "start_time": "2024-10-10T16:15:00.770Z"
   },
   {
    "duration": 0,
    "start_time": "2024-10-10T16:15:00.771Z"
   },
   {
    "duration": 0,
    "start_time": "2024-10-10T16:15:00.773Z"
   },
   {
    "duration": 13,
    "start_time": "2024-10-10T16:17:29.450Z"
   },
   {
    "duration": 4,
    "start_time": "2024-10-10T16:17:52.776Z"
   },
   {
    "duration": 13,
    "start_time": "2024-10-10T16:19:28.605Z"
   },
   {
    "duration": 8,
    "start_time": "2024-10-10T16:20:02.520Z"
   },
   {
    "duration": 19,
    "start_time": "2024-10-10T16:20:03.817Z"
   },
   {
    "duration": 6,
    "start_time": "2024-10-10T16:20:04.083Z"
   },
   {
    "duration": 3,
    "start_time": "2024-10-10T16:20:04.292Z"
   },
   {
    "duration": 6656,
    "start_time": "2024-10-10T16:20:05.999Z"
   },
   {
    "duration": 11,
    "start_time": "2024-10-10T16:20:12.657Z"
   },
   {
    "duration": 2991,
    "start_time": "2024-10-10T16:20:12.670Z"
   },
   {
    "duration": 31,
    "start_time": "2024-10-10T16:20:15.663Z"
   },
   {
    "duration": 62,
    "start_time": "2024-10-10T16:20:15.696Z"
   },
   {
    "duration": 30,
    "start_time": "2024-10-10T16:20:15.759Z"
   },
   {
    "duration": 0,
    "start_time": "2024-10-10T16:20:15.791Z"
   },
   {
    "duration": 0,
    "start_time": "2024-10-10T16:20:15.791Z"
   },
   {
    "duration": 0,
    "start_time": "2024-10-10T16:20:15.792Z"
   },
   {
    "duration": 0,
    "start_time": "2024-10-10T16:20:15.794Z"
   },
   {
    "duration": 0,
    "start_time": "2024-10-10T16:20:15.795Z"
   },
   {
    "duration": 0,
    "start_time": "2024-10-10T16:20:15.796Z"
   },
   {
    "duration": 0,
    "start_time": "2024-10-10T16:20:15.797Z"
   },
   {
    "duration": 7,
    "start_time": "2024-10-10T16:20:48.364Z"
   },
   {
    "duration": 13,
    "start_time": "2024-10-10T16:20:48.854Z"
   },
   {
    "duration": 9,
    "start_time": "2024-10-10T16:21:03.317Z"
   },
   {
    "duration": 420,
    "start_time": "2024-10-10T16:21:03.576Z"
   },
   {
    "duration": 21,
    "start_time": "2024-10-10T16:21:03.998Z"
   },
   {
    "duration": 85,
    "start_time": "2024-10-10T16:21:43.178Z"
   },
   {
    "duration": 141,
    "start_time": "2024-10-10T16:21:47.460Z"
   },
   {
    "duration": 32,
    "start_time": "2024-10-10T16:21:49.230Z"
   },
   {
    "duration": 9,
    "start_time": "2024-10-10T16:21:49.712Z"
   },
   {
    "duration": 14,
    "start_time": "2024-10-10T16:21:51.358Z"
   },
   {
    "duration": 922,
    "start_time": "2024-10-10T16:21:54.533Z"
   },
   {
    "duration": 12,
    "start_time": "2024-10-10T16:21:57.444Z"
   },
   {
    "duration": 11,
    "start_time": "2024-10-10T16:22:11.371Z"
   },
   {
    "duration": 8,
    "start_time": "2024-10-10T16:24:54.346Z"
   },
   {
    "duration": 2334,
    "start_time": "2024-10-10T16:25:40.332Z"
   },
   {
    "duration": 2293,
    "start_time": "2024-10-10T16:25:42.668Z"
   },
   {
    "duration": 1266,
    "start_time": "2024-10-10T16:25:44.963Z"
   },
   {
    "duration": 3,
    "start_time": "2024-10-10T16:25:46.230Z"
   },
   {
    "duration": 58,
    "start_time": "2024-10-10T16:25:46.234Z"
   },
   {
    "duration": 2,
    "start_time": "2024-10-10T16:25:46.294Z"
   },
   {
    "duration": 22,
    "start_time": "2024-10-10T16:25:46.299Z"
   },
   {
    "duration": 3,
    "start_time": "2024-10-10T16:25:46.322Z"
   },
   {
    "duration": 11,
    "start_time": "2024-10-10T16:25:46.326Z"
   },
   {
    "duration": 723,
    "start_time": "2024-10-10T16:25:46.338Z"
   },
   {
    "duration": 229,
    "start_time": "2024-10-10T16:25:47.062Z"
   },
   {
    "duration": 7,
    "start_time": "2024-10-10T16:25:47.293Z"
   },
   {
    "duration": 264,
    "start_time": "2024-10-10T16:25:47.301Z"
   },
   {
    "duration": 4,
    "start_time": "2024-10-10T16:25:47.567Z"
   },
   {
    "duration": 20,
    "start_time": "2024-10-10T16:25:47.572Z"
   },
   {
    "duration": 10,
    "start_time": "2024-10-10T16:25:47.593Z"
   },
   {
    "duration": 45,
    "start_time": "2024-10-10T16:25:47.604Z"
   },
   {
    "duration": 47,
    "start_time": "2024-10-10T16:25:47.650Z"
   },
   {
    "duration": 158,
    "start_time": "2024-10-10T16:25:47.699Z"
   },
   {
    "duration": 8,
    "start_time": "2024-10-10T16:25:47.858Z"
   },
   {
    "duration": 987,
    "start_time": "2024-10-10T16:25:47.873Z"
   },
   {
    "duration": 95,
    "start_time": "2024-10-10T16:25:48.862Z"
   },
   {
    "duration": 5,
    "start_time": "2024-10-10T16:25:48.959Z"
   },
   {
    "duration": 84,
    "start_time": "2024-10-10T16:25:48.966Z"
   },
   {
    "duration": 5,
    "start_time": "2024-10-10T16:25:49.052Z"
   },
   {
    "duration": 339,
    "start_time": "2024-10-10T16:25:49.058Z"
   },
   {
    "duration": 94,
    "start_time": "2024-10-10T16:25:49.399Z"
   },
   {
    "duration": 8,
    "start_time": "2024-10-10T16:25:49.495Z"
   },
   {
    "duration": 48,
    "start_time": "2024-10-10T16:25:49.505Z"
   },
   {
    "duration": 293,
    "start_time": "2024-10-10T16:25:49.560Z"
   },
   {
    "duration": 99,
    "start_time": "2024-10-10T16:25:49.856Z"
   },
   {
    "duration": 87,
    "start_time": "2024-10-10T16:25:49.957Z"
   },
   {
    "duration": 119,
    "start_time": "2024-10-10T16:26:14.910Z"
   },
   {
    "duration": 17,
    "start_time": "2024-10-10T16:26:26.564Z"
   },
   {
    "duration": 2349,
    "start_time": "2024-10-10T16:30:18.054Z"
   },
   {
    "duration": 2352,
    "start_time": "2024-10-10T16:30:20.405Z"
   },
   {
    "duration": 1328,
    "start_time": "2024-10-10T16:30:22.759Z"
   },
   {
    "duration": 3,
    "start_time": "2024-10-10T16:30:24.088Z"
   },
   {
    "duration": 60,
    "start_time": "2024-10-10T16:30:24.093Z"
   },
   {
    "duration": 3,
    "start_time": "2024-10-10T16:30:24.155Z"
   },
   {
    "duration": 22,
    "start_time": "2024-10-10T16:30:24.159Z"
   },
   {
    "duration": 3,
    "start_time": "2024-10-10T16:30:24.183Z"
   },
   {
    "duration": 14,
    "start_time": "2024-10-10T16:30:24.187Z"
   },
   {
    "duration": 740,
    "start_time": "2024-10-10T16:30:24.203Z"
   },
   {
    "duration": 210,
    "start_time": "2024-10-10T16:30:24.944Z"
   },
   {
    "duration": 6,
    "start_time": "2024-10-10T16:30:25.156Z"
   },
   {
    "duration": 261,
    "start_time": "2024-10-10T16:30:25.164Z"
   },
   {
    "duration": 4,
    "start_time": "2024-10-10T16:30:25.427Z"
   },
   {
    "duration": 110,
    "start_time": "2024-10-10T16:30:25.432Z"
   },
   {
    "duration": 26,
    "start_time": "2024-10-10T16:30:25.543Z"
   },
   {
    "duration": 4,
    "start_time": "2024-10-10T16:30:25.571Z"
   },
   {
    "duration": 26,
    "start_time": "2024-10-10T16:30:25.576Z"
   },
   {
    "duration": 2150,
    "start_time": "2024-10-10T16:30:25.604Z"
   },
   {
    "duration": 14,
    "start_time": "2024-10-10T16:30:27.755Z"
   },
   {
    "duration": 3085,
    "start_time": "2024-10-10T16:30:27.771Z"
   },
   {
    "duration": 34,
    "start_time": "2024-10-10T16:30:30.857Z"
   },
   {
    "duration": 7,
    "start_time": "2024-10-10T16:30:30.892Z"
   },
   {
    "duration": 129,
    "start_time": "2024-10-10T16:30:30.900Z"
   },
   {
    "duration": 8,
    "start_time": "2024-10-10T16:30:31.031Z"
   },
   {
    "duration": 534,
    "start_time": "2024-10-10T16:30:31.041Z"
   },
   {
    "duration": 147,
    "start_time": "2024-10-10T16:30:31.577Z"
   },
   {
    "duration": 137,
    "start_time": "2024-10-10T16:30:31.726Z"
   },
   {
    "duration": 100,
    "start_time": "2024-10-10T16:30:31.954Z"
   },
   {
    "duration": 1195,
    "start_time": "2024-10-10T16:30:32.061Z"
   },
   {
    "duration": 101,
    "start_time": "2024-10-10T16:30:33.257Z"
   },
   {
    "duration": 93,
    "start_time": "2024-10-10T16:30:33.360Z"
   },
   {
    "duration": 8,
    "start_time": "2024-10-10T16:30:48.743Z"
   },
   {
    "duration": 2328,
    "start_time": "2024-10-10T16:30:53.370Z"
   },
   {
    "duration": 2389,
    "start_time": "2024-10-10T16:30:55.701Z"
   },
   {
    "duration": 1218,
    "start_time": "2024-10-10T16:30:58.091Z"
   },
   {
    "duration": 3,
    "start_time": "2024-10-10T16:30:59.311Z"
   },
   {
    "duration": 67,
    "start_time": "2024-10-10T16:30:59.315Z"
   },
   {
    "duration": 3,
    "start_time": "2024-10-10T16:30:59.383Z"
   },
   {
    "duration": 25,
    "start_time": "2024-10-10T16:30:59.388Z"
   },
   {
    "duration": 2,
    "start_time": "2024-10-10T16:30:59.415Z"
   },
   {
    "duration": 13,
    "start_time": "2024-10-10T16:30:59.419Z"
   },
   {
    "duration": 707,
    "start_time": "2024-10-10T16:30:59.435Z"
   },
   {
    "duration": 223,
    "start_time": "2024-10-10T16:31:00.143Z"
   },
   {
    "duration": 6,
    "start_time": "2024-10-10T16:31:00.367Z"
   },
   {
    "duration": 262,
    "start_time": "2024-10-10T16:31:00.375Z"
   },
   {
    "duration": 4,
    "start_time": "2024-10-10T16:31:00.639Z"
   },
   {
    "duration": 130,
    "start_time": "2024-10-10T16:31:00.652Z"
   },
   {
    "duration": 24,
    "start_time": "2024-10-10T16:31:00.783Z"
   },
   {
    "duration": 5,
    "start_time": "2024-10-10T16:31:00.808Z"
   },
   {
    "duration": 32,
    "start_time": "2024-10-10T16:31:00.815Z"
   },
   {
    "duration": 1804,
    "start_time": "2024-10-10T16:31:00.849Z"
   },
   {
    "duration": 12,
    "start_time": "2024-10-10T16:31:02.655Z"
   },
   {
    "duration": 3488,
    "start_time": "2024-10-10T16:31:02.669Z"
   },
   {
    "duration": 33,
    "start_time": "2024-10-10T16:31:06.158Z"
   },
   {
    "duration": 6,
    "start_time": "2024-10-10T16:31:06.193Z"
   },
   {
    "duration": 125,
    "start_time": "2024-10-10T16:31:06.201Z"
   },
   {
    "duration": 10,
    "start_time": "2024-10-10T16:31:06.328Z"
   },
   {
    "duration": 465,
    "start_time": "2024-10-10T16:31:06.340Z"
   },
   {
    "duration": 150,
    "start_time": "2024-10-10T16:31:06.807Z"
   },
   {
    "duration": 199,
    "start_time": "2024-10-10T16:31:06.961Z"
   },
   {
    "duration": 93,
    "start_time": "2024-10-10T16:31:07.163Z"
   },
   {
    "duration": 1000,
    "start_time": "2024-10-10T16:31:07.258Z"
   },
   {
    "duration": 103,
    "start_time": "2024-10-10T16:31:08.260Z"
   },
   {
    "duration": 98,
    "start_time": "2024-10-10T16:31:08.365Z"
   },
   {
    "duration": 2654,
    "start_time": "2024-10-10T16:31:55.228Z"
   },
   {
    "duration": 2312,
    "start_time": "2024-10-10T16:31:57.884Z"
   },
   {
    "duration": 1282,
    "start_time": "2024-10-10T16:32:00.198Z"
   },
   {
    "duration": 2,
    "start_time": "2024-10-10T16:32:01.482Z"
   },
   {
    "duration": 88,
    "start_time": "2024-10-10T16:32:01.487Z"
   },
   {
    "duration": 3,
    "start_time": "2024-10-10T16:32:01.577Z"
   },
   {
    "duration": 33,
    "start_time": "2024-10-10T16:32:01.581Z"
   },
   {
    "duration": 12,
    "start_time": "2024-10-10T16:32:01.616Z"
   },
   {
    "duration": 117,
    "start_time": "2024-10-10T16:32:01.630Z"
   },
   {
    "duration": 688,
    "start_time": "2024-10-10T16:32:01.749Z"
   },
   {
    "duration": 241,
    "start_time": "2024-10-10T16:32:02.438Z"
   },
   {
    "duration": 10,
    "start_time": "2024-10-10T16:32:02.680Z"
   },
   {
    "duration": 281,
    "start_time": "2024-10-10T16:32:02.692Z"
   },
   {
    "duration": 4,
    "start_time": "2024-10-10T16:32:02.976Z"
   },
   {
    "duration": 113,
    "start_time": "2024-10-10T16:32:02.981Z"
   },
   {
    "duration": 24,
    "start_time": "2024-10-10T16:32:03.096Z"
   },
   {
    "duration": 21,
    "start_time": "2024-10-10T16:32:03.122Z"
   },
   {
    "duration": 20,
    "start_time": "2024-10-10T16:32:03.145Z"
   },
   {
    "duration": 1500,
    "start_time": "2024-10-10T16:32:03.167Z"
   },
   {
    "duration": 95,
    "start_time": "2024-10-10T16:32:04.669Z"
   },
   {
    "duration": 3900,
    "start_time": "2024-10-10T16:32:04.765Z"
   },
   {
    "duration": 118,
    "start_time": "2024-10-10T16:32:08.666Z"
   },
   {
    "duration": 8,
    "start_time": "2024-10-10T16:32:08.786Z"
   },
   {
    "duration": 95,
    "start_time": "2024-10-10T16:32:08.796Z"
   },
   {
    "duration": 10,
    "start_time": "2024-10-10T16:32:08.892Z"
   },
   {
    "duration": 428,
    "start_time": "2024-10-10T16:32:08.903Z"
   },
   {
    "duration": 158,
    "start_time": "2024-10-10T16:32:09.333Z"
   },
   {
    "duration": 168,
    "start_time": "2024-10-10T16:32:09.493Z"
   },
   {
    "duration": 191,
    "start_time": "2024-10-10T16:32:09.663Z"
   },
   {
    "duration": 1295,
    "start_time": "2024-10-10T16:32:09.857Z"
   },
   {
    "duration": 15,
    "start_time": "2024-10-10T16:32:11.155Z"
   },
   {
    "duration": 85,
    "start_time": "2024-10-10T16:32:11.172Z"
   },
   {
    "duration": 4988,
    "start_time": "2024-10-11T06:39:42.746Z"
   },
   {
    "duration": 5292,
    "start_time": "2024-10-11T06:39:47.736Z"
   },
   {
    "duration": 3206,
    "start_time": "2024-10-11T06:39:53.031Z"
   },
   {
    "duration": 3,
    "start_time": "2024-10-11T06:39:56.239Z"
   },
   {
    "duration": 301,
    "start_time": "2024-10-11T06:39:56.244Z"
   },
   {
    "duration": 4,
    "start_time": "2024-10-11T06:39:56.546Z"
   },
   {
    "duration": 86,
    "start_time": "2024-10-11T06:39:56.552Z"
   },
   {
    "duration": 3,
    "start_time": "2024-10-11T06:39:56.640Z"
   },
   {
    "duration": 85,
    "start_time": "2024-10-11T06:39:56.644Z"
   },
   {
    "duration": 2104,
    "start_time": "2024-10-11T06:39:56.731Z"
   },
   {
    "duration": 699,
    "start_time": "2024-10-11T06:39:58.836Z"
   },
   {
    "duration": 7,
    "start_time": "2024-10-11T06:39:59.537Z"
   },
   {
    "duration": 978,
    "start_time": "2024-10-11T06:39:59.545Z"
   },
   {
    "duration": 5,
    "start_time": "2024-10-11T06:40:00.527Z"
   },
   {
    "duration": 487,
    "start_time": "2024-10-11T06:40:00.534Z"
   },
   {
    "duration": 106,
    "start_time": "2024-10-11T06:40:01.023Z"
   },
   {
    "duration": 93,
    "start_time": "2024-10-11T06:40:01.131Z"
   },
   {
    "duration": 32,
    "start_time": "2024-10-11T06:40:01.226Z"
   },
   {
    "duration": 77172,
    "start_time": "2024-10-11T06:40:01.260Z"
   },
   {
    "duration": 101,
    "start_time": "2024-10-11T06:41:18.522Z"
   },
   {
    "duration": 246695,
    "start_time": "2024-10-11T06:41:18.625Z"
   },
   {
    "duration": 309,
    "start_time": "2024-10-11T06:45:25.323Z"
   },
   {
    "duration": 100,
    "start_time": "2024-10-11T06:45:25.722Z"
   },
   {
    "duration": 703,
    "start_time": "2024-10-11T06:45:25.830Z"
   },
   {
    "duration": 100,
    "start_time": "2024-10-11T06:45:26.624Z"
   },
   {
    "duration": 1897,
    "start_time": "2024-10-11T06:45:26.726Z"
   },
   {
    "duration": 1098,
    "start_time": "2024-10-11T06:45:28.626Z"
   },
   {
    "duration": 506,
    "start_time": "2024-10-11T06:45:29.820Z"
   },
   {
    "duration": 95,
    "start_time": "2024-10-11T06:45:30.329Z"
   },
   {
    "duration": 2604,
    "start_time": "2024-10-11T06:45:30.426Z"
   },
   {
    "duration": 109,
    "start_time": "2024-10-11T06:45:33.121Z"
   },
   {
    "duration": 199,
    "start_time": "2024-10-11T06:45:33.234Z"
   },
   {
    "duration": 6721,
    "start_time": "2024-10-11T12:01:18.642Z"
   },
   {
    "duration": 2395,
    "start_time": "2024-10-11T12:01:25.366Z"
   },
   {
    "duration": 1535,
    "start_time": "2024-10-11T12:01:27.763Z"
   },
   {
    "duration": 2,
    "start_time": "2024-10-11T12:01:29.301Z"
   },
   {
    "duration": 171,
    "start_time": "2024-10-11T12:01:29.305Z"
   },
   {
    "duration": 3,
    "start_time": "2024-10-11T12:01:29.478Z"
   },
   {
    "duration": 25,
    "start_time": "2024-10-11T12:01:29.482Z"
   },
   {
    "duration": 3,
    "start_time": "2024-10-11T12:01:29.508Z"
   },
   {
    "duration": 72,
    "start_time": "2024-10-11T12:01:29.512Z"
   },
   {
    "duration": 746,
    "start_time": "2024-10-11T12:01:29.587Z"
   },
   {
    "duration": 247,
    "start_time": "2024-10-11T12:01:30.334Z"
   },
   {
    "duration": 9,
    "start_time": "2024-10-11T12:01:30.583Z"
   },
   {
    "duration": 303,
    "start_time": "2024-10-11T12:01:30.594Z"
   },
   {
    "duration": 5,
    "start_time": "2024-10-11T12:01:30.898Z"
   },
   {
    "duration": 4,
    "start_time": "2024-10-11T12:04:41.270Z"
   },
   {
    "duration": 101,
    "start_time": "2024-10-11T12:05:07.134Z"
   },
   {
    "duration": 25,
    "start_time": "2024-10-11T12:05:22.554Z"
   },
   {
    "duration": 4,
    "start_time": "2024-10-11T12:06:40.029Z"
   },
   {
    "duration": 2,
    "start_time": "2024-10-11T12:06:44.313Z"
   },
   {
    "duration": 4,
    "start_time": "2024-10-11T12:12:48.707Z"
   },
   {
    "duration": 1187,
    "start_time": "2024-10-11T12:16:04.196Z"
   },
   {
    "duration": 92,
    "start_time": "2024-10-11T12:16:05.384Z"
   },
   {
    "duration": 2599,
    "start_time": "2024-10-11T12:16:05.479Z"
   },
   {
    "duration": 116,
    "start_time": "2024-10-11T12:16:13.072Z"
   },
   {
    "duration": 10,
    "start_time": "2024-10-11T12:16:26.126Z"
   },
   {
    "duration": 17,
    "start_time": "2024-10-11T12:16:35.874Z"
   },
   {
    "duration": 35755,
    "start_time": "2024-10-11T12:16:49.910Z"
   },
   {
    "duration": 11,
    "start_time": "2024-10-11T12:19:06.875Z"
   },
   {
    "duration": 10,
    "start_time": "2024-10-11T12:19:43.900Z"
   },
   {
    "duration": 0,
    "start_time": "2024-10-11T12:22:18.877Z"
   },
   {
    "duration": 298546,
    "start_time": "2024-10-11T12:22:21.238Z"
   },
   {
    "duration": 64462,
    "start_time": "2024-10-11T12:27:38.626Z"
   },
   {
    "duration": 8,
    "start_time": "2024-10-11T12:29:03.456Z"
   },
   {
    "duration": 10,
    "start_time": "2024-10-11T12:29:15.950Z"
   },
   {
    "duration": 434,
    "start_time": "2024-10-11T12:29:16.134Z"
   },
   {
    "duration": 151,
    "start_time": "2024-10-11T12:29:16.570Z"
   },
   {
    "duration": 186,
    "start_time": "2024-10-11T12:29:18.690Z"
   },
   {
    "duration": 8,
    "start_time": "2024-10-11T12:29:18.999Z"
   },
   {
    "duration": 822,
    "start_time": "2024-10-11T12:29:19.259Z"
   },
   {
    "duration": 15,
    "start_time": "2024-10-11T12:29:57.403Z"
   },
   {
    "duration": 12,
    "start_time": "2024-10-11T12:30:03.550Z"
   },
   {
    "duration": 9,
    "start_time": "2024-10-11T12:30:13.186Z"
   },
   {
    "duration": 13,
    "start_time": "2024-10-11T12:30:27.472Z"
   },
   {
    "duration": 2478,
    "start_time": "2024-10-11T12:31:15.969Z"
   },
   {
    "duration": 2370,
    "start_time": "2024-10-11T12:31:18.450Z"
   },
   {
    "duration": 1255,
    "start_time": "2024-10-11T12:31:20.822Z"
   },
   {
    "duration": 3,
    "start_time": "2024-10-11T12:31:22.078Z"
   },
   {
    "duration": 50,
    "start_time": "2024-10-11T12:31:22.083Z"
   },
   {
    "duration": 3,
    "start_time": "2024-10-11T12:31:22.135Z"
   },
   {
    "duration": 36,
    "start_time": "2024-10-11T12:31:22.139Z"
   },
   {
    "duration": 3,
    "start_time": "2024-10-11T12:31:22.176Z"
   },
   {
    "duration": 12,
    "start_time": "2024-10-11T12:31:22.180Z"
   },
   {
    "duration": 688,
    "start_time": "2024-10-11T12:31:22.193Z"
   },
   {
    "duration": 226,
    "start_time": "2024-10-11T12:31:22.883Z"
   },
   {
    "duration": 8,
    "start_time": "2024-10-11T12:31:23.111Z"
   },
   {
    "duration": 288,
    "start_time": "2024-10-11T12:31:23.121Z"
   },
   {
    "duration": 5,
    "start_time": "2024-10-11T12:31:23.412Z"
   },
   {
    "duration": 6,
    "start_time": "2024-10-11T12:31:23.418Z"
   },
   {
    "duration": 115,
    "start_time": "2024-10-11T12:31:23.426Z"
   },
   {
    "duration": 34,
    "start_time": "2024-10-11T12:31:23.543Z"
   },
   {
    "duration": 4,
    "start_time": "2024-10-11T12:31:23.579Z"
   },
   {
    "duration": 3,
    "start_time": "2024-10-11T12:31:23.585Z"
   },
   {
    "duration": 1198,
    "start_time": "2024-10-11T12:31:23.589Z"
   },
   {
    "duration": 95,
    "start_time": "2024-10-11T12:31:24.788Z"
   },
   {
    "duration": 2700,
    "start_time": "2024-10-11T12:31:24.884Z"
   },
   {
    "duration": 64359,
    "start_time": "2024-10-11T12:31:27.585Z"
   },
   {
    "duration": 7,
    "start_time": "2024-10-11T12:32:31.945Z"
   },
   {
    "duration": 30,
    "start_time": "2024-10-11T12:32:31.953Z"
   },
   {
    "duration": 448,
    "start_time": "2024-10-11T12:32:31.985Z"
   },
   {
    "duration": 185,
    "start_time": "2024-10-11T12:32:32.435Z"
   },
   {
    "duration": 254,
    "start_time": "2024-10-11T12:32:32.622Z"
   },
   {
    "duration": 100,
    "start_time": "2024-10-11T12:32:32.878Z"
   },
   {
    "duration": 1200,
    "start_time": "2024-10-11T12:32:32.986Z"
   },
   {
    "duration": 98,
    "start_time": "2024-10-11T12:32:34.188Z"
   },
   {
    "duration": 92,
    "start_time": "2024-10-11T12:32:34.287Z"
   },
   {
    "duration": 2380,
    "start_time": "2024-10-11T12:37:23.349Z"
   },
   {
    "duration": 2371,
    "start_time": "2024-10-11T12:37:25.731Z"
   },
   {
    "duration": 1261,
    "start_time": "2024-10-11T12:37:28.104Z"
   },
   {
    "duration": 2,
    "start_time": "2024-10-11T12:37:29.367Z"
   },
   {
    "duration": 54,
    "start_time": "2024-10-11T12:37:29.375Z"
   },
   {
    "duration": 3,
    "start_time": "2024-10-11T12:37:29.430Z"
   },
   {
    "duration": 21,
    "start_time": "2024-10-11T12:37:29.435Z"
   },
   {
    "duration": 3,
    "start_time": "2024-10-11T12:37:29.458Z"
   },
   {
    "duration": 25,
    "start_time": "2024-10-11T12:37:29.462Z"
   },
   {
    "duration": 1124,
    "start_time": "2024-10-11T12:37:29.488Z"
   },
   {
    "duration": 482,
    "start_time": "2024-10-11T12:37:30.614Z"
   },
   {
    "duration": 7,
    "start_time": "2024-10-11T12:37:31.097Z"
   },
   {
    "duration": 390,
    "start_time": "2024-10-11T12:37:31.106Z"
   },
   {
    "duration": 4,
    "start_time": "2024-10-11T12:37:31.499Z"
   },
   {
    "duration": 16,
    "start_time": "2024-10-11T12:37:31.505Z"
   },
   {
    "duration": 113,
    "start_time": "2024-10-11T12:37:31.522Z"
   },
   {
    "duration": 22,
    "start_time": "2024-10-11T12:37:31.637Z"
   },
   {
    "duration": 30,
    "start_time": "2024-10-11T12:37:31.661Z"
   },
   {
    "duration": 19,
    "start_time": "2024-10-11T12:37:31.693Z"
   },
   {
    "duration": 20,
    "start_time": "2024-10-11T12:37:31.713Z"
   },
   {
    "duration": 30544,
    "start_time": "2024-10-11T12:37:31.734Z"
   },
   {
    "duration": 14,
    "start_time": "2024-10-11T12:38:02.279Z"
   },
   {
    "duration": 8,
    "start_time": "2024-10-11T12:38:02.295Z"
   },
   {
    "duration": 64341,
    "start_time": "2024-10-11T12:38:02.304Z"
   },
   {
    "duration": 7,
    "start_time": "2024-10-11T12:39:06.647Z"
   },
   {
    "duration": 51,
    "start_time": "2024-10-11T12:39:06.656Z"
   },
   {
    "duration": 425,
    "start_time": "2024-10-11T12:39:06.709Z"
   },
   {
    "duration": 154,
    "start_time": "2024-10-11T12:39:07.136Z"
   },
   {
    "duration": 187,
    "start_time": "2024-10-11T12:39:07.292Z"
   },
   {
    "duration": 100,
    "start_time": "2024-10-11T12:39:07.481Z"
   },
   {
    "duration": 997,
    "start_time": "2024-10-11T12:39:07.584Z"
   },
   {
    "duration": 192,
    "start_time": "2024-10-11T12:39:08.584Z"
   },
   {
    "duration": 9,
    "start_time": "2024-10-11T12:39:08.777Z"
   },
   {
    "duration": 4,
    "start_time": "2024-10-11T12:39:20.421Z"
   },
   {
    "duration": 10,
    "start_time": "2024-10-11T12:39:27.574Z"
   },
   {
    "duration": 125,
    "start_time": "2024-10-11T12:39:47.732Z"
   },
   {
    "duration": 10,
    "start_time": "2024-10-11T12:39:58.800Z"
   },
   {
    "duration": 10,
    "start_time": "2024-10-11T12:40:14.468Z"
   },
   {
    "duration": 8,
    "start_time": "2024-10-11T12:44:39.262Z"
   },
   {
    "duration": 208,
    "start_time": "2024-10-11T12:44:39.546Z"
   },
   {
    "duration": 265,
    "start_time": "2024-10-11T12:44:55.248Z"
   },
   {
    "duration": 283,
    "start_time": "2024-10-11T12:45:02.296Z"
   },
   {
    "duration": 267,
    "start_time": "2024-10-11T12:45:54.504Z"
   },
   {
    "duration": 269,
    "start_time": "2024-10-11T12:46:38.868Z"
   },
   {
    "duration": 2410,
    "start_time": "2024-10-11T12:51:27.624Z"
   },
   {
    "duration": 2412,
    "start_time": "2024-10-11T12:51:30.036Z"
   },
   {
    "duration": 1338,
    "start_time": "2024-10-11T12:51:32.451Z"
   },
   {
    "duration": 3,
    "start_time": "2024-10-11T12:51:33.791Z"
   },
   {
    "duration": 57,
    "start_time": "2024-10-11T12:51:33.795Z"
   },
   {
    "duration": 3,
    "start_time": "2024-10-11T12:51:33.853Z"
   },
   {
    "duration": 115,
    "start_time": "2024-10-11T12:51:33.857Z"
   },
   {
    "duration": 3,
    "start_time": "2024-10-11T12:51:33.973Z"
   },
   {
    "duration": 15,
    "start_time": "2024-10-11T12:51:33.977Z"
   },
   {
    "duration": 685,
    "start_time": "2024-10-11T12:51:33.993Z"
   },
   {
    "duration": 210,
    "start_time": "2024-10-11T12:51:34.679Z"
   },
   {
    "duration": 6,
    "start_time": "2024-10-11T12:51:34.891Z"
   },
   {
    "duration": 268,
    "start_time": "2024-10-11T12:51:34.899Z"
   },
   {
    "duration": 4,
    "start_time": "2024-10-11T12:51:35.175Z"
   },
   {
    "duration": 20,
    "start_time": "2024-10-11T12:51:35.180Z"
   },
   {
    "duration": 131,
    "start_time": "2024-10-11T12:51:35.201Z"
   },
   {
    "duration": 23,
    "start_time": "2024-10-11T12:51:35.333Z"
   },
   {
    "duration": 4,
    "start_time": "2024-10-11T12:51:35.357Z"
   },
   {
    "duration": 20,
    "start_time": "2024-10-11T12:51:35.362Z"
   },
   {
    "duration": 12,
    "start_time": "2024-10-11T12:51:35.383Z"
   },
   {
    "duration": 37588,
    "start_time": "2024-10-11T12:51:35.396Z"
   },
   {
    "duration": 10,
    "start_time": "2024-10-11T12:52:12.985Z"
   },
   {
    "duration": 64051,
    "start_time": "2024-10-11T12:52:13.077Z"
   },
   {
    "duration": 7,
    "start_time": "2024-10-11T12:53:17.130Z"
   },
   {
    "duration": 13,
    "start_time": "2024-10-11T12:53:17.139Z"
   },
   {
    "duration": 467,
    "start_time": "2024-10-11T12:53:17.153Z"
   },
   {
    "duration": 163,
    "start_time": "2024-10-11T12:53:17.622Z"
   },
   {
    "duration": 399,
    "start_time": "2024-10-11T12:53:17.786Z"
   },
   {
    "duration": 106,
    "start_time": "2024-10-11T12:53:18.275Z"
   },
   {
    "duration": 1493,
    "start_time": "2024-10-11T12:53:18.385Z"
   },
   {
    "duration": 98,
    "start_time": "2024-10-11T12:53:19.880Z"
   },
   {
    "duration": 102,
    "start_time": "2024-10-11T12:53:19.980Z"
   },
   {
    "duration": 100,
    "start_time": "2024-10-11T12:53:20.178Z"
   },
   {
    "duration": 468,
    "start_time": "2024-10-11T12:53:20.286Z"
   }
  ],
  "kernelspec": {
   "display_name": "Python 3 (ipykernel)",
   "language": "python",
   "name": "python3"
  },
  "language_info": {
   "codemirror_mode": {
    "name": "ipython",
    "version": 3
   },
   "file_extension": ".py",
   "mimetype": "text/x-python",
   "name": "python",
   "nbconvert_exporter": "python",
   "pygments_lexer": "ipython3",
   "version": "3.11.7"
  },
  "toc": {
   "base_numbering": 1,
   "nav_menu": {},
   "number_sections": true,
   "sideBar": true,
   "skip_h1_title": true,
   "title_cell": "Содержание",
   "title_sidebar": "Contents",
   "toc_cell": true,
   "toc_position": {
    "height": "calc(100% - 180px)",
    "left": "10px",
    "top": "150px",
    "width": "234.4px"
   },
   "toc_section_display": true,
   "toc_window_display": true
  }
 },
 "nbformat": 4,
 "nbformat_minor": 4
}
